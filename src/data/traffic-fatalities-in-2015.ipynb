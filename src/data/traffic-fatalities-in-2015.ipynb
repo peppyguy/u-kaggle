{
  "cells": [
    {
      "cell_type": "markdown",
      "metadata": {
        "_cell_guid": "fadff331-e1fe-0494-f2e3-c1a7e9c87788"
      },
      "source": [
        "Traffic Fatalities in 2015\n",
        "--------------------------\n",
        "\n",
        "&nbsp;...by [Latitude/Longitude][1]<br>\n",
        "&nbsp;...by [Date][2]<br>\n",
        "&nbsp;...by [State][3]/per [Capita][3]<br>\n",
        "&nbsp;...by [State][4]/per [Capita][3] (Sober and Drunk Drivers)\n",
        "\n",
        "[1]: https://www.kaggle.io/svf/486873/972c1b4beb9083fd42d59b0f3e45b302/__results__.html#Traffic-Fatalities-by-Latitude/Longitude\n",
        "[2]: https://www.kaggle.io/svf/486873/972c1b4beb9083fd42d59b0f3e45b302/__results__.html#Traffic-Fatalities-by-Date\n",
        "[3]: https://www.kaggle.io/svf/486873/972c1b4beb9083fd42d59b0f3e45b302/__results__.html#Traffic-Fatalities-per-Capita\n",
        "[4]: https://www.kaggle.io/svf/486873/972c1b4beb9083fd42d59b0f3e45b302/__results__.html#Traffic-Fatalities-per-Capita:-Sober-and-Drunk-Drivers"
      ]
    },
    {
      "cell_type": "markdown",
      "metadata": {
        "_cell_guid": "6e3d1bad-7d4e-460f-3ed0-a27362029ca0"
      },
      "source": [
        "Data Import\n",
        "-----------------"
      ]
    },
    {
      "cell_type": "code",
      "execution_count": null,
      "metadata": {
        "_cell_guid": "24dca818-c8d0-b157-c02c-1f438559369c"
      },
      "outputs": [],
      "source": [
        "import numpy as np\n",
        "import pandas as pd\n",
        "pd.options.mode.chained_assignment = None\n",
        "\n",
        "import plotly.plotly as py\n",
        "import plotly.graph_objs as go\n",
        "from plotly import tools\n",
        "from plotly.offline import iplot, init_notebook_mode\n",
        "init_notebook_mode()\n",
        "\n",
        "traffic_data = pd.read_csv('../input/accident.csv',\n",
        "                           usecols=[0, 1, 11, 12, 13, 25, 26, 50, 51])\n",
        "traffic_data = traffic_data.rename(\n",
        "    columns={'ST_CASE':'case_id', 'LONGITUD':'longitude',\n",
        "             'DRUNK_DR':'drunk_drivers', 'FATALS':'fatalities'})\n",
        "traffic_data.columns = traffic_data.columns.str.lower()\n",
        "traffic_data['date'] = pd.to_datetime(traffic_data[['day', 'month', 'year']])\n",
        "traffic_data = traffic_data[['case_id', 'date', 'state', 'latitude', 'longitude',\n",
        "                             'drunk_drivers', 'fatalities']].sort_values('date')"
      ]
    },
    {
      "cell_type": "markdown",
      "metadata": {
        "_cell_guid": "b864b6f0-6f97-9301-5db7-bf1574c9f497"
      },
      "source": [
        "Traffic Fatalities by Latitude/Longitude\n",
        "----------------------------------------"
      ]
    },
    {
      "cell_type": "code",
      "execution_count": null,
      "metadata": {
        "_cell_guid": "b2f96406-9657-6a70-5969-780c2db73773"
      },
      "outputs": [],
      "source": [
        "traffic_data['text'] = traffic_data['date'].dt.strftime('%B %-d'\n",
        "                          ) + ', ' + traffic_data['fatalities'].astype(str) + ' Killed'\n",
        "\n",
        "data = [dict(\n",
        "        type = 'scattergeo',\n",
        "        locationmode = 'USA-states',\n",
        "        lon = traffic_data[traffic_data.longitude < 0]['longitude'],\n",
        "        lat = traffic_data[traffic_data.longitude < 0]['latitude'],\n",
        "        text = traffic_data[traffic_data.longitude < 0]['text'],\n",
        "        mode = 'markers',\n",
        "        marker = dict( \n",
        "            size = traffic_data[traffic_data.longitude < 0]['fatalities'] ** 0.5 * 5,\n",
        "            opacity = 0.75,\n",
        "            color = 'rgb(215, 0, 0)')\n",
        "        )]\n",
        "\n",
        "layout = dict(\n",
        "         title = 'Traffic Fatalities by Latitude/Longitude in United States (2015)<br>'\n",
        "                 '<sub>Hover to View Collision Date and Deaths</sub>',\n",
        "         geo = dict(\n",
        "             scope = 'usa',\n",
        "             projection = dict(type = 'albers usa'),\n",
        "             showland = True,\n",
        "             landcolor = 'rgb(250, 250, 250)',\n",
        "             subunitwidth = 1,\n",
        "             subunitcolor = 'rgb(217, 217, 217)',\n",
        "             countrywidth = 1,\n",
        "             countrycolor = 'rgb(217, 217, 217)',\n",
        "             showlakes = True,\n",
        "             lakecolor = 'rgb(255, 255, 255)')\n",
        "         )\n",
        "\n",
        "figure = dict(data = data, layout = layout)\n",
        "iplot(figure)"
      ]
    },
    {
      "cell_type": "markdown",
      "metadata": {
        "_cell_guid": "b5e17180-300c-a94b-1e2c-c7d27cb7213b"
      },
      "source": [
        "Traffic Fatalities by Date\n",
        "---------------------------"
      ]
    },
    {
      "cell_type": "code",
      "execution_count": null,
      "metadata": {
        "_cell_guid": "a97bd8f1-e4a8-1b20-8ca4-eef741005b14"
      },
      "outputs": [],
      "source": [
        "# traffic fatalities by date\n",
        "traffic_perdate = np.asarray(traffic_data.groupby('date')['fatalities'].sum())\n",
        "\n",
        "# thirty day moving average of traffic fatalites by date\n",
        "traffic_average = pd.Series(traffic_perdate).rolling(window=30).mean()\n",
        "traffic_average = np.asarray(traffic_average.drop(traffic_average.index[:29]))\n",
        "traffic_average = np.round(traffic_average, 0)\n",
        "\n",
        "traffic_dates = np.arange('2015-01', '2016-01', dtype='datetime64[D]')\n",
        "traffic_range = traffic_dates[15:351]\n",
        "\n",
        "trace_date = go.Scatter(\n",
        "             x = traffic_dates,\n",
        "             y = traffic_perdate,\n",
        "             mode = 'lines',\n",
        "             name = 'Fatalities',\n",
        "             line = dict(\n",
        "                 color = 'rgb(215, 0, 0)',\n",
        "                 width = 3)\n",
        "             )\n",
        "\n",
        "trace_mean = go.Scatter(\n",
        "             x = traffic_range,\n",
        "             y = traffic_average,\n",
        "             mode = 'lines',\n",
        "             name = 'Average',\n",
        "             line = dict(\n",
        "                 color = 'rgb(215, 0, 0)',\n",
        "                 width = 5),\n",
        "             opacity = 0.33\n",
        "             )\n",
        "\n",
        "layout = go.Layout(\n",
        "         title = 'Traffic Fatalities by Date in United States (2015)',\n",
        "         showlegend = False,\n",
        "         xaxis = dict(\n",
        "             rangeslider = dict(thickness = 0.05),\n",
        "             type = 'date',\n",
        "             showline = True,\n",
        "             showgrid = False\n",
        "         ),\n",
        "         yaxis = dict(\n",
        "             range = [40.1, 165],\n",
        "             autotick = False,\n",
        "             tick0 = 20,\n",
        "             dtick = 20,\n",
        "             showline = True,\n",
        "             showgrid = False)\n",
        "         )\n",
        "\n",
        "data = [trace_date, trace_mean]\n",
        "figure = dict(data = data, layout = layout)\n",
        "iplot(figure)"
      ]
    },
    {
      "cell_type": "markdown",
      "metadata": {
        "_cell_guid": "d24052bf-5b1a-e5df-a1c6-b88b43c696de"
      },
      "source": [
        "Traffic Fatalities per Capita\n",
        "-----------------------------\n",
        "Which states reported the most traffic fatalities given their population?"
      ]
    },
    {
      "cell_type": "code",
      "execution_count": null,
      "metadata": {
        "_cell_guid": "190155df-a31f-4180-7585-d6f48c2cf910"
      },
      "outputs": [],
      "source": [
        "us_states = np.asarray(['AL', 'AK', 'AZ', 'AR', 'CA', 'CO', 'CT', 'DE', 'DC', 'FL', 'GA',\n",
        "                        'HI', 'ID', 'IL', 'IN', 'IA', 'KS', 'KY', 'LA', 'ME', 'MD', 'MA',\n",
        "                        'MI', 'MN', 'MS', 'MO', 'MT', 'NE', 'NV', 'NH', 'NJ', 'NM', 'NY',\n",
        "                        'NC', 'ND', 'OH', 'OK', 'OR', 'PA', 'RI', 'SC', 'SD', 'TN', 'TX',\n",
        "                        'UT', 'VT', 'VA', 'WA', 'WV', 'WI', 'WY'])\n",
        "\n",
        "# state population estimates for July 2015 from US Census Bureau\n",
        "state_population = np.asarray([4858979, 738432, 6828065, 2978204, 39144818, 5456574,\n",
        "                               3590886, 945934, 646449, 20271272, 10214860, 1431603,\n",
        "                               1654930, 12859995, 6619680, 3123899, 2911641, 4425092,\n",
        "                               4670724, 1329328, 6006401, 6794422, 9922576, 5489594,\n",
        "                               2992333, 6083672, 1032949, 1896190,2890845, 1330608,\n",
        "                               8958013, 2085109, 19795791, 10042802, 756927, 11613423,\n",
        "                               3911338, 4028977, 12802503, 1056298, 4896146, 858469,\n",
        "                               6600299, 27469114, 2995919, 626042, 8382993, 7170351,\n",
        "                               1844128, 5771337, 586107])\n",
        "\n",
        "# traffic fatalities per 100,000 people in state\n",
        "traffic_perstate = np.asarray(traffic_data.groupby('state')['fatalities'].sum())\n",
        "traffic_percapita = np.round(traffic_perstate / state_population * 100000, 2)\n",
        "\n",
        "traffic_scale = [[0, 'rgb(248, 213, 213)'], [1, 'rgb(215, 0, 0)']]\n",
        "\n",
        "data = [dict(\n",
        "        type = 'choropleth',\n",
        "        autocolorscale = False,\n",
        "        colorscale = traffic_scale,\n",
        "        showscale = False,\n",
        "        locations = us_states,\n",
        "        locationmode = 'USA-states',\n",
        "        z = traffic_percapita,\n",
        "        marker = dict(\n",
        "            line = dict(\n",
        "                color = 'rgb(255, 255, 255)',\n",
        "                width = 2)\n",
        "            )\n",
        "        )]\n",
        "\n",
        "layout = dict(\n",
        "         title = 'Traffic Fatalities per 100,000 People in United States (2015)',\n",
        "         geo = dict(\n",
        "             scope = 'usa',\n",
        "             projection = dict(type = 'albers usa'),\n",
        "             countrycolor = 'rgb(255, 255, 255)',\n",
        "             showlakes = True,\n",
        "             lakecolor = 'rgb(255, 255, 255)')\n",
        "         )\n",
        "\n",
        "figure = dict(data = data, layout = layout)\n",
        "iplot(figure)"
      ]
    },
    {
      "cell_type": "markdown",
      "metadata": {
        "_cell_guid": "d36856c4-665f-64fc-c4e6-320337676572"
      },
      "source": [
        "States in the Northwest and Southeast reported the most traffic fatalities per person. Wyoming had the highest fatality rate in the nation -- 1 in 4,000 residents was killed in a traffic collision in 2015!"
      ]
    },
    {
      "cell_type": "markdown",
      "metadata": {
        "_cell_guid": "c9429cd1-cb39-87e2-2fbb-4f2ed383bc03"
      },
      "source": [
        "Traffic Fatalities per Capita: Sober and Drunk Drivers\n",
        "-----------------------------------\n",
        "Which states reported the highest proportion of traffic fatalities in collisions involving intoxicated drivers?"
      ]
    },
    {
      "cell_type": "code",
      "execution_count": null,
      "metadata": {
        "_cell_guid": "570e3961-1fd2-d60f-d4b0-3141ba63fbd2"
      },
      "outputs": [],
      "source": [
        "# traffic fatalities from sober drivers per 100,000 people in state\n",
        "sober_perstate = np.asarray(traffic_data[traffic_data.drunk_drivers == 0].groupby(\n",
        "                                                            'state')['fatalities'].sum())\n",
        "sober_percapita = np.round(sober_perstate / state_population * 100000, 2)\n",
        "\n",
        "# traffic fatalities from drunk drivers per 100,000 people in state\n",
        "drunk_perstate = np.asarray(traffic_data[traffic_data.drunk_drivers > 0].groupby(\n",
        "                                                            'state')['fatalities'].sum())\n",
        "drunk_percapita = np.round(drunk_perstate / state_population * 100000, 2)\n",
        "\n",
        "trace_dot = go.Scatter(\n",
        "            x = sober_percapita,\n",
        "            y = drunk_percapita,\n",
        "            text = us_states,\n",
        "            mode = 'markers+text',\n",
        "            textposition = 'bottom',\n",
        "            hoverinfo = 'x+y+text',\n",
        "            marker = dict(\n",
        "                color = 'rgb(215, 0, 0)',\n",
        "                size = 8)\n",
        "            )\n",
        "\n",
        "trace_dash = go.Scatter(\n",
        "             x = [0.1, 10.5],\n",
        "             y = [0.1, 10.5],\n",
        "             mode = 'lines',\n",
        "             hoverinfo = 'none',\n",
        "             line = dict(\n",
        "                 color = 'rgb(68, 68, 68)',\n",
        "                 width = 1.5,\n",
        "                 dash = 'dot')\n",
        "             )\n",
        "\n",
        "layout = go.Layout(\n",
        "         title = 'Traffic Fatalities per Capita by Driver Intoxication '\n",
        "                 'in United States (2015)',\n",
        "         showlegend = False,\n",
        "         xaxis = dict(\n",
        "             title = 'Fatalities per 100,000 People (Sober Drivers)',\n",
        "             range = [0.1, 18.5],\n",
        "             autotick = False,\n",
        "             tick0 = 2,\n",
        "             dtick = 2,\n",
        "             showline = True,\n",
        "             showgrid = False\n",
        "         ),\n",
        "         yaxis = dict(\n",
        "             title = 'Fatalities per 100,000 People (Drunk Drivers)',\n",
        "             range = [0.1, 10],\n",
        "             autotick = False,\n",
        "             tick0 = 2,\n",
        "             dtick = 2,\n",
        "             showline = True,\n",
        "             showgrid = False)\n",
        "         )\n",
        "\n",
        "data = [trace_dot, trace_dash]\n",
        "figure = dict(data = data, layout = layout)\n",
        "iplot(figure)"
      ]
    },
    {
      "cell_type": "markdown",
      "metadata": {
        "_cell_guid": "0af240ae-98a0-db49-359f-e1e667c290ae"
      },
      "source": [
        "Most states reported twice as many traffic fatalities from collisions with no driver intoxication as from those involving one or more drunk drivers. Wyoming had the highest fatality rate in alcohol-related collisions, followed by Montana and North Dakota."
      ]
    }
  ],
  "metadata": {
    "_change_revision": 0,
    "_is_fork": false,
    "kernelspec": {
      "display_name": "Python 3",
      "language": "python",
      "name": "python3"
    },
    "language_info": {
      "codemirror_mode": {
        "name": "ipython",
        "version": 3
      },
      "file_extension": ".py",
      "mimetype": "text/x-python",
      "name": "python",
      "nbconvert_exporter": "python",
      "pygments_lexer": "ipython3",
      "version": "3.5.2"
    }
  },
  "nbformat": 4,
  "nbformat_minor": 0
}