{
  "cells": [
    {
      "cell_type": "markdown",
      "metadata": {
        "_cell_guid": "2ede34a7-0a95-3d7e-2a0c-003ff5559b56"
      },
      "source": [
        "<p>Note :<br>\n",
        "If you have any comments/suggestions about the notebook and how to improve or optimize anything I'd be very happy to hear them!\n",
        "Although I've been using Python for 8+ years I keep learning new things.<p>\n",
        "\n",
        "<h1>Meteorite basic analysis</h1>\n",
        "<p> This is just a couple of plots and basic level analysis about the dataset to see what it looks like</p>\n",
        "<p>I have separated the study in two parts : geographical analysis and historical analysis</p>"
      ]
    },
    {
      "cell_type": "markdown",
      "metadata": {
        "_cell_guid": "c9f185c3-65e3-8311-b9c0-3cd6954e02ee"
      },
      "source": [
        "<h2>Importing and Cleaning</h2>"
      ]
    },
    {
      "cell_type": "code",
      "execution_count": null,
      "metadata": {
        "_cell_guid": "c01b26a9-ade3-61de-6017-1d0f548b94c9"
      },
      "outputs": [],
      "source": [
        "# This Python 3 environment comes with many helpful analytics libraries installed\n",
        "# It is defined by the kaggle/python docker image: https://github.com/kaggle/docker-python\n",
        "# For example, here's several helpful packages to load in \n",
        "\n",
        "import numpy as np                       # linear algebra\n",
        "import pandas as pd                      # data processing, CSV file I/O (e.g. pd.read_csv)\n",
        "import matplotlib.pyplot as plt          # plotting library\n",
        "from mpl_toolkits.basemap import Basemap # library to plot maps\n",
        "import seaborn as sns                    # this one is just for the fancy look\n",
        "\n",
        "from ipywidgets import *                 # the library to include widgets\n",
        "\n",
        "# Input data files are available in the \"../input/\" directory.\n",
        "# For example, running this (by clicking run or pressing Shift+Enter) will list the files in the input directory\n",
        "\n",
        "from subprocess import check_output\n",
        "#print(check_output([\"ls\", \"../input\"]).decode(\"utf8\"))\n",
        "\n",
        "# Any results you write to the current directory are saved as output.\n",
        "\n",
        "plt.rcParams['figure.figsize']=(9,7)"
      ]
    },
    {
      "cell_type": "code",
      "execution_count": null,
      "metadata": {
        "_cell_guid": "fa6cda40-2da8-ffb6-9651-c4bb95ead744"
      },
      "outputs": [],
      "source": [
        "#Let's first clean the dataset and keep valid entries with known latitude and longitude\n",
        "data = pd.read_csv('../input/meteorite-landings.csv')\n",
        "data = data[(data.reclat != 0.0) & (data.reclong != 0.0)]\n",
        "data.info()"
      ]
    },
    {
      "cell_type": "code",
      "execution_count": null,
      "metadata": {
        "_cell_guid": "677a2688-68fd-0f2b-df26-f058cfd6a8c3"
      },
      "outputs": [],
      "source": [
        "# hereafter I look only at the valid entries\n",
        "valids = data.groupby('nametype').get_group('Valid').copy()\n",
        "valids.dropna(inplace=True)\n",
        "valids.info()"
      ]
    },
    {
      "cell_type": "markdown",
      "metadata": {
        "_cell_guid": "ad766c78-2f77-d2f6-e33d-30f619bb3e2f"
      },
      "source": [
        "<h2>Geographical Study</h2>"
      ]
    },
    {
      "cell_type": "code",
      "execution_count": null,
      "metadata": {
        "_cell_guid": "32d76f75-4e53-d05c-6e68-c14e0f638a9b"
      },
      "outputs": [],
      "source": [
        "#Here comes the funny part, let's focus first on the geographical information\n",
        "map = Basemap(projection='cyl')\n",
        "map.drawmapboundary(fill_color='w')\n",
        "map.drawcoastlines(linewidth=0.5)\n",
        "map.drawmeridians(range(0, 360, 20),linewidth=0.1)\n",
        "map.drawparallels([-66.56083,-23.5,0.0,23.5,66.56083], linewidth=0.6) #plotting equator and tropics and polar circles\n",
        "\n",
        "x, y = map(valids.reclong,valids.reclat)\n",
        "\n",
        "map.scatter(x, y, marker='.',alpha=0.25,c='green',edgecolor='None')\n",
        "plt.title('Map of all valid impacts', fontsize=15)"
      ]
    },
    {
      "cell_type": "code",
      "execution_count": null,
      "metadata": {
        "_cell_guid": "70d537e6-30ef-e5e1-72e3-e60b4cd6b3c7"
      },
      "outputs": [],
      "source": [
        "#Let's create a heatmap which might be more interesting\n",
        "h = plt.hist2d(valids.reclong,valids.reclat,bins=(np.arange(-180,182,2),np.arange(-90,92,2)))\n",
        "X,Y = np.meshgrid(h[1][:-1]+1.0,h[2][:-1]+1.0)\n",
        "\n",
        "map = Basemap(projection='cyl')\n",
        "map.drawmapboundary(fill_color='w')\n",
        "map.drawcoastlines(linewidth=0.6)\n",
        "map.drawmeridians(range(0, 360, 20),linewidth=0.1)\n",
        "map.drawparallels([-66.56083,-23.5,0.0,23.5,66.56083], linewidth=0.6)\n",
        "\n",
        "data_interp, x, y = map.transform_scalar(np.log10(h[0].T+0.1), X[0], Y[:,0], 360, 360, returnxy=True)\n",
        "map.pcolormesh(x, y, data_interp,cmap='hot_r')\n",
        "map.colorbar()\n",
        "plt.title('Heatmap of all meteorite impacts', fontsize=15)"
      ]
    },
    {
      "cell_type": "code",
      "execution_count": null,
      "metadata": {
        "_cell_guid": "8ec6a427-9ba1-191d-a9d4-5763c08ae7fa"
      },
      "outputs": [],
      "source": [
        "#We can easily focus on a specific area of the map, let's look at Oman :\n",
        "map = Basemap(projection='cyl',llcrnrlat=10.0,urcrnrlat=30.0,llcrnrlon=40.0,urcrnrlon=70.0,resolution='i')\n",
        "map.drawmapboundary(fill_color='w')\n",
        "map.drawcoastlines(linewidth=0.6)\n",
        "map.drawcountries()\n",
        "\n",
        "h = plt.hist2d(valids.reclong,valids.reclat,bins=(np.arange(40,71,1.0),np.arange(10,31,1)))\n",
        "X,Y = np.meshgrid(h[1][:-1]+0.5,h[2][:-1]+0.5)\n",
        "data_interp, x, y = map.transform_scalar(np.log10(h[0].T+0.1), X[0], Y[:,0], 101, 101, returnxy=True)\n",
        "map.pcolormesh(x, y, data_interp,cmap='hot_r')\n",
        "map.scatter(valids.reclong,valids.reclat,marker='.', alpha=0.5, edgecolor='None', color='g')"
      ]
    },
    {
      "cell_type": "markdown",
      "metadata": {
        "_cell_guid": "5951f0bf-7f07-be21-494e-b51770f1fc76"
      },
      "source": [
        "<p>I don't think meteorite choose in which country they land. There's very very likely a bias linked to geopolitics and population density </p>\n",
        "<p>I recommend the reader to download the notebook and the dataset and look at different regions of the map, it is pretty easy to do using Basemap, simply change : <br><i>llcrnrlat=lower_left_corner_latitude <br >urcrnrlat=upper_right_corner_latitude <br> llcrnrlon= lower_left_corner_longitude <br> urcrnrlon=upper_right_corner_longitude</i></p>"
      ]
    },
    {
      "cell_type": "markdown",
      "metadata": {
        "_cell_guid": "3a4dfa5c-d780-ea01-070e-e564a3f8da4c"
      },
      "source": [
        "<h2>Comparing Meteorites found and seen falling</h2>"
      ]
    },
    {
      "cell_type": "code",
      "execution_count": null,
      "metadata": {
        "_cell_guid": "8359b4ab-c98f-2fb6-62ec-f79b576690e6"
      },
      "outputs": [],
      "source": [
        "# What about the difference between meteorites seen falling and ones found ???\n",
        "v_fell = valids.groupby('fall').get_group('Fell')\n",
        "v_found = valids.groupby('fall').get_group('Found')"
      ]
    },
    {
      "cell_type": "code",
      "execution_count": null,
      "metadata": {
        "_cell_guid": "d32590f5-4c41-ef5f-7386-5b4d0687da24"
      },
      "outputs": [],
      "source": [
        "plt.figure(figsize=(10,10))\n",
        "\n",
        "plt.subplot(211)\n",
        "h = plt.hist2d(v_fell.reclong,v_fell.reclat,bins=(np.arange(-180,182,2),np.arange(-90,92,2)))\n",
        "X,Y = np.meshgrid(h[1][:-1]+1.0,h[2][:-1]+1.0)\n",
        "\n",
        "map = Basemap(projection='cyl')\n",
        "map.drawmapboundary(fill_color='w')\n",
        "map.drawcoastlines(linewidth=0.6)\n",
        "map.drawmeridians(range(0, 360, 20),linewidth=0.1)\n",
        "map.drawparallels([-66.56083,-23.5,0.0,23.5,66.56083], linewidth=0.6)\n",
        "\n",
        "data_interp, x, y = map.transform_scalar(np.log10(h[0].T+0.1), X[0], Y[:,0], 360, 360, returnxy=True)\n",
        "map.pcolormesh(x, y, data_interp,cmap='hot_r')\n",
        "map.colorbar()\n",
        "plt.title('Heatmap of meteorites seen falling', fontsize=15)\n",
        "\n",
        "plt.subplot(212)\n",
        "h = plt.hist2d(v_found.reclong,v_found.reclat,bins=(np.arange(-180,182,2),np.arange(-90,92,2)))\n",
        "X,Y = np.meshgrid(h[1][:-1]+1.0,h[2][:-1]+1.0)\n",
        "\n",
        "map = Basemap(projection='cyl')\n",
        "map.drawmapboundary(fill_color='w')\n",
        "map.drawcoastlines(linewidth=0.6)\n",
        "map.drawmeridians(range(0, 360, 20),linewidth=0.1)\n",
        "map.drawparallels([-66.56083,-23.5,0.0,23.5,66.56083], linewidth=0.6)\n",
        "\n",
        "data_interp, x, y = map.transform_scalar(np.log10(h[0].T+0.1), X[0], Y[:,0], 360, 360, returnxy=True)\n",
        "map.pcolormesh(x, y, data_interp,cmap='hot_r')\n",
        "map.colorbar()\n",
        "plt.title('Heatmap of meteorites founds', fontsize=15)"
      ]
    },
    {
      "cell_type": "markdown",
      "metadata": {
        "_cell_guid": "7fba00f3-b83c-d2fa-a803-726632d0896f"
      },
      "source": [
        "<h3>Comment</h3>\n",
        "<p>Meteorites seen falling seem to correlate with densely populated area (make sense) while meteorites are found in more desertic areas.\n",
        "There is probably a deviation to this \"first order\" correlation due to the following factors :\n",
        " <ul>\n",
        "<li>Light Polution : observation is obviously more difficult in inner cities or near sources of bright light\n",
        "<li>Land cover type : It is probably easier to find a meteorite in the desert than in the middle of the rainforest. Add to this the local geological activity that can \"destroy\" fallen meteorites (though this effect is likely very localized).\n",
        "</ul>\n",
        "</p>\n",
        "\n",
        "<p>This would need to be quantified!!! Will try to include this later...</p>"
      ]
    },
    {
      "cell_type": "code",
      "execution_count": null,
      "metadata": {
        "_cell_guid": "e6dab348-1b86-3a50-018d-bd1eac3f9f29"
      },
      "outputs": [],
      "source": [
        "#Another view of the previous statement\n",
        "map = Basemap(projection='cyl',llcrnrlat=10,llcrnrlon=-20,urcrnrlat=50,urcrnrlon=40,resolution='c')\n",
        "map.etopo()\n",
        "map.drawcountries()\n",
        "\n",
        "map.scatter(v_fell.reclong,v_fell.reclat,edgecolor='none',color='k',alpha=0.6)\n",
        "map.scatter(v_found.reclong,v_found.reclat,edgecolor='none',color='m',alpha=0.6)\n",
        "\n",
        "plt.title('Comparison between meteorites found (magenta) and meteorites seen fallin (black)', fontsize=15)"
      ]
    },
    {
      "cell_type": "markdown",
      "metadata": {
        "_cell_guid": "67d87878-522d-1ae0-4831-4ab4d344be69"
      },
      "source": [
        "<h3> The following three cells allow to superimpose world population density maps and the meteorites discoveries. Nonetheless it does not work here because of a problem reaching the image url (still trying to figure out how to fix this).<br>\n",
        "It does work on my personal laptop though so if you download the notebook and run it from your machine it should be fine.</h3>"
      ]
    },
    {
      "cell_type": "code",
      "execution_count": null,
      "metadata": {
        "_cell_guid": "a504f7ec-412c-b6d2-5d1f-d45d95da7c4e"
      },
      "outputs": [],
      "source": [
        "map = Basemap(projection='cyl',resolution='i')\n",
        "# uncomment the line to visualize the plot\n",
        "#map.warpimage(image='http://neo.sci.gsfc.nasa.gov/servlet/RenderData?si=875430&cs=rgb&format=JPEG&width=1440&height=720')\n",
        "map.scatter(valids.reclong,valids.reclat,marker='.',alpha=0.5,edgecolor='None',color='b')\n",
        "\n",
        "plt.title('Map of all meteorites detected compared to population density', fontsize=15)"
      ]
    },
    {
      "cell_type": "code",
      "execution_count": null,
      "metadata": {
        "_cell_guid": "d507ee49-41c5-aa1a-faff-1a2cf3cf2ec3"
      },
      "outputs": [],
      "source": [
        "map = Basemap(projection='cyl',resolution='i')\n",
        "#map.warpimage(image='http://neo.sci.gsfc.nasa.gov/servlet/RenderData?si=875430&cs=rgb&format=JPEG&width=1440&height=720')\n",
        "map.scatter(v_found.reclong,v_found.reclat,marker='.',alpha=0.5,edgecolor='None',color='m')\n",
        "\n",
        "plt.title('Map of meteorites found compared to population density', fontsize=15)"
      ]
    },
    {
      "cell_type": "code",
      "execution_count": null,
      "metadata": {
        "_cell_guid": "e4123eaa-2647-5299-f2cd-cfaba4f20f16"
      },
      "outputs": [],
      "source": [
        "map = Basemap(projection='cyl',resolution='i')\n",
        "#map.warpimage(image='http://neo.sci.gsfc.nasa.gov/servlet/RenderData?si=875430&cs=rgb&format=JPEG&width=1440&height=720')\n",
        "map.scatter(v_fell.reclong,v_fell.reclat,marker='.',alpha=0.5,edgecolor='None',color='k')\n",
        "\n",
        "plt.title('Map of meteorites seen falling compared to population density', fontsize=15)"
      ]
    },
    {
      "cell_type": "code",
      "execution_count": null,
      "metadata": {
        "_cell_guid": "0aea3608-6170-aa55-9300-2cf350a9ba8e"
      },
      "outputs": [],
      "source": [
        "# NOTE : This cell does not work properly either because of some external configuration\n",
        "# You can download the notebook and if you have ipywidgets installed it should run smoothly\n",
        "\n",
        "# Now an interactive figure showing the two types of meteorites (\"seen falling\" and \"found\")\n",
        "# as a function of the year\n",
        "def fscat(x):\n",
        "    plt.figure(figsize=(10,8))\n",
        "    map = Basemap(projection='cyl',resolution='c')\n",
        "    map.drawmapboundary(fill_color='w')\n",
        "    map.drawcoastlines(linewidth=0.5)\n",
        "    map.scatter(v_fell.reclong[v_fell.year==x],v_fell.reclat[v_fell.year==x],\n",
        "                color='k',alpha=0.7)\n",
        "    map.scatter(v_found.reclong[v_found.year==x],v_found.reclat[v_found.year==x],\n",
        "                color='m',alpha=0.7)\n",
        "    return \n",
        "\n",
        "wid = IntSlider(min=1900,max=2013,step=1,description='Year',layout=Layout(width='75%'))\n",
        "_ = interact(fscat,x=wid)"
      ]
    },
    {
      "cell_type": "markdown",
      "metadata": {
        "_cell_guid": "04a013c1-5603-5575-42e0-e36ce5196a41"
      },
      "source": [
        "<h2>Quick study of the mass distribution</h2>"
      ]
    },
    {
      "cell_type": "code",
      "execution_count": null,
      "metadata": {
        "_cell_guid": "70255ad4-b7b6-c80b-443e-af3dcc71010b"
      },
      "outputs": [],
      "source": [
        "map = Basemap(projection='cyl')\n",
        "map.drawmapboundary(fill_color='w')\n",
        "map.drawcoastlines(linewidth=0.6)\n",
        "map.drawmeridians(range(0, 360, 20),linewidth=0.1)\n",
        "map.drawparallels([-66.56083,-23.5,0.0,23.5,66.56083], linewidth=0.6)\n",
        "\n",
        "map.scatter(valids.reclong,valids.reclat,s=np.sqrt(valids.mass/150),alpha=0.4,color='g')\n",
        "plt.title('Location of all meteorites with their mass', fontsize=15)"
      ]
    },
    {
      "cell_type": "code",
      "execution_count": null,
      "metadata": {
        "_cell_guid": "8b4ab936-e14e-15e7-8dfe-5e971f5c52f1"
      },
      "outputs": [],
      "source": [
        "plt.figure(figsize=(10,10))\n",
        "\n",
        "plt.subplot(211)\n",
        "\n",
        "map = Basemap(projection='cyl')\n",
        "map.drawmapboundary(fill_color='w')\n",
        "map.drawcoastlines(linewidth=0.6)\n",
        "map.drawmeridians(range(0, 360, 20),linewidth=0.1)\n",
        "map.drawparallels([-66.56083,-23.5,0.0,23.5,66.56083], linewidth=0.6)\n",
        "\n",
        "map.scatter(v_fell.reclong,v_fell.reclat,s=np.sqrt(v_fell.mass/150),\n",
        "            alpha=0.4,color='k')\n",
        "plt.title('Location and mass of meteorites seen falling')\n",
        "\n",
        "\n",
        "plt.subplot(212)\n",
        "\n",
        "map = Basemap(projection='cyl')\n",
        "map.drawmapboundary(fill_color='w')\n",
        "map.drawcoastlines(linewidth=0.6)\n",
        "map.drawmeridians(range(0, 360, 20),linewidth=0.1)\n",
        "map.drawparallels([-66.56083,-23.5,0.0,23.5,66.56083], linewidth=0.6)\n",
        "\n",
        "map.scatter(v_found.reclong,v_found.reclat,s=np.sqrt(v_found.mass/150),\n",
        "            alpha=0.4,color='m')\n",
        "plt.title('Location and mass of meteorites found')"
      ]
    },
    {
      "cell_type": "markdown",
      "metadata": {
        "_cell_guid": "0a38cc1c-1471-dfa8-4ae8-a1b1460f764a"
      },
      "source": [
        "<h3>Comment</h3>\n",
        "<p>According to the previous, there is a difference in mass between meteorites seen falling and meteorites found. A simple histogram should be able to reveal this.</p>"
      ]
    },
    {
      "cell_type": "code",
      "execution_count": null,
      "metadata": {
        "_cell_guid": "908cc31f-1147-c718-6b3a-165b57862139"
      },
      "outputs": [],
      "source": [
        "plt.figure(figsize=(8,6))\n",
        "sns.distplot(np.log10(v_found.mass),color='k')\n",
        "sns.distplot(np.log10(v_fell.mass),color='m',axlabel='$\\log[Mass]$')\n",
        "plt.legend(['Meteorites Found','Meteorites Seen Falling'])"
      ]
    },
    {
      "cell_type": "markdown",
      "metadata": {
        "_cell_guid": "297cd13f-844a-284f-d9c9-d39c1f5037e9"
      },
      "source": [
        "<h2>Historical Analysis</h2>"
      ]
    },
    {
      "cell_type": "code",
      "execution_count": null,
      "metadata": {
        "_cell_guid": "2e6b65f0-cbd4-19b1-79d7-d502e09f72e1"
      },
      "outputs": [],
      "source": [
        "plt.subplot(211)\n",
        "valids.year.hist(bins=np.arange(1900,2014,1),figsize=(8,7))\n",
        "plt.title('Discoveries per year 1900-2013')\n",
        "plt.xlim(1900,2014)\n",
        "\n",
        "plt.subplot(212)\n",
        "valids.year.hist(bins=np.arange(1900,2023,10),figsize=(8,7))\n",
        "plt.title('Discoveries per decade 1900-2013')\n",
        "plt.xlim(1900,2014)"
      ]
    },
    {
      "cell_type": "markdown",
      "metadata": {
        "_cell_guid": "3b5ebdee-9d83-c20b-fa62-6c6a0f5001d8"
      },
      "source": [
        "<p> I would not be surprised to find a correlation with the world population growth... although communication and technological improvements can explain the trend</p>"
      ]
    },
    {
      "cell_type": "code",
      "execution_count": null,
      "metadata": {
        "_cell_guid": "2af39077-3bbd-694a-0cdc-849dd2508078"
      },
      "outputs": [],
      "source": [
        "# Againg it is interesting to separate \"seen\" and \"found\"\n",
        "plt.subplot(211)\n",
        "v_found.year.hist(bins=np.arange(1900,2014,1),figsize=(8,7))\n",
        "plt.title('Meteorites found per year 1900-2013')\n",
        "plt.xlim(1900,2014)\n",
        "\n",
        "plt.subplot(212)\n",
        "v_found.year.hist(bins=np.arange(1900,2023,10),figsize=(8,7))\n",
        "plt.title('Meteorites found per decade 1900-2013')\n",
        "plt.xlim(1900,2014)"
      ]
    },
    {
      "cell_type": "code",
      "execution_count": null,
      "metadata": {
        "_cell_guid": "3a7c33ee-22fa-c26e-e92f-77776412bc72"
      },
      "outputs": [],
      "source": [
        "plt.subplot(211)\n",
        "v_fell.year.hist(bins=np.arange(1900,2014,1),figsize=(8,7))\n",
        "plt.title('Meteorites seen falling per year 1900-2013')\n",
        "plt.xlim(1900,2014)\n",
        "\n",
        "plt.subplot(212)\n",
        "v_fell.year.hist(bins=np.arange(1900,2023,10),figsize=(8,7))\n",
        "plt.title('Meteorites seen falling per decade 1900-2013')\n",
        "plt.xlim(1900,2014)"
      ]
    },
    {
      "cell_type": "markdown",
      "metadata": {
        "_cell_guid": "c2fd04c4-4514-dd6a-20e2-217bbe77e7e8"
      },
      "source": [
        "<h3>Comments</h3>\n",
        "<p>The rate of meteorites seen falling is surprisingly constant over the last century considering the increase of population worldwide. Nonetheless it could be explained by an increase in density and not in spread.</p>\n",
        "<p>We can also have a look at the number of discoveries as a function of the latitude... </p>"
      ]
    },
    {
      "cell_type": "code",
      "execution_count": null,
      "metadata": {
        "_cell_guid": "8c865c5d-0e43-404b-01a7-2b3bfbcffe01"
      },
      "outputs": [],
      "source": [
        "plt.scatter(valids.year,valids.reclat,color='g',alpha=0.4)\n",
        "plt.xlim(1800,2010)\n",
        "plt.ylim(-90,90)\n",
        "plt.ylabel('Latitude')\n",
        "plt.xlabel('Year')\n",
        "plt.title('Meteorite recorded latitude vs year')"
      ]
    },
    {
      "cell_type": "markdown",
      "metadata": {
        "_cell_guid": "7ea3f4a2-92e1-4cba-e04c-a2414b2a55b7"
      },
      "source": [
        "<h2>Class Analysis</h2>\n",
        "\n",
        "<p>We can first check how many recorded class (recclass) of meteorites we have in our data set and their frequency</p>\n"
      ]
    },
    {
      "cell_type": "code",
      "execution_count": null,
      "metadata": {
        "_cell_guid": "631e52b2-a6c4-606f-8d6c-a2646f960de6"
      },
      "outputs": [],
      "source": [
        "#The following line returns a pandas Series with recclass as index\n",
        "# and the number of occurences as attached value\n",
        "v_class = valids['recclass'].value_counts()\n",
        "v_class"
      ]
    },
    {
      "cell_type": "code",
      "execution_count": null,
      "metadata": {
        "_cell_guid": "7febdbf3-f18d-3e40-7e86-351dda4686c8"
      },
      "outputs": [],
      "source": [
        "#If we want to know the number of recclass just type :\n",
        "len(v_class)\n",
        "\n",
        "#Note : you can find the same answer using :\n",
        "# len(np.unique(valids.recclass))"
      ]
    },
    {
      "cell_type": "markdown",
      "metadata": {
        "_cell_guid": "53774994-b81a-b695-1e3a-d8fac16c97a6"
      },
      "source": [
        "<p>This is quite a lot of different classes and there is a high chance that figures will be quite messy if we plot everything at the same time<br>\n",
        "Let's first look at a pie chart excluding classes with less than 50 members.</p>"
      ]
    },
    {
      "cell_type": "code",
      "execution_count": null,
      "metadata": {
        "_cell_guid": "ec8e3726-c90a-b872-335c-98368456c996"
      },
      "outputs": [],
      "source": [
        "v_class[v_class > 50.0].plot.pie(autopct='%.2f')"
      ]
    },
    {
      "cell_type": "markdown",
      "metadata": {
        "_cell_guid": "05ea165c-1181-397b-1c30-064b0d43b000"
      },
      "source": [
        "<p>Doesn't look bad... but maybe we should group meteorites by family (using the link https://en.wikipedia.org/wiki/Meteorite_classification ) <br>\n",
        "The following is bit tedious but sometimes you have to do it...</p>\n"
      ]
    },
    {
      "cell_type": "code",
      "execution_count": null,
      "metadata": {
        "_cell_guid": "d1240cfd-df9c-32c8-56e7-676e3b3ae316"
      },
      "outputs": [],
      "source": [
        "#First make a copy of the dataset\n",
        "tmp_df1 = valids.copy()\n",
        "\n",
        "#this prevents modification on tmp_df1 to affect v_class"
      ]
    },
    {
      "cell_type": "code",
      "execution_count": null,
      "metadata": {
        "_cell_guid": "aa9ff4ec-8e20-361f-887c-13ea72d6a3df"
      },
      "outputs": [],
      "source": [
        "tmp_df1.recclass.replace(to_replace=['Acapulcoite', 'Acapulcoite/Lodranite', 'Acapulcoite/lodranite',\n",
        "           'Lodranite','Lodranite-an','Winonaite','Achondrite-prim'],value='Achondrite_prim',inplace=True)\n",
        "\n",
        "tmp_df1.recclass.replace(to_replace=['Angrite', 'Aubrite','Aubrite-an','Ureilite', 'Ureilite-an','Ureilite-pmict',\n",
        "           'Brachinite','Diogenite', 'Diogenite-an', 'Diogenite-olivine', 'Diogenite-pm',\n",
        "           'Eucrite', 'Eucrite-Mg rich', 'Eucrite-an', 'Eucrite-br','Eucrite-cm',\n",
        "           'Eucrite-mmict', 'Eucrite-pmict', 'Eucrite-unbr','Howardite'],value='Achondrite_aste',inplace=True)\n",
        "\n",
        "tmp_df1.recclass.replace(to_replace=['Lunar', 'Lunar (anorth)', 'Lunar (bas. breccia)',\n",
        "           'Lunar (bas/anor)', 'Lunar (bas/gab brec)', 'Lunar (basalt)',\n",
        "           'Lunar (feldsp. breccia)', 'Lunar (gabbro)', 'Lunar (norite)'],value='Lunar',inplace=True)\n",
        "\n",
        "tmp_df1.recclass.replace(to_replace=['Martian', 'Martian (OPX)','Martian (chassignite)', 'Martian (nakhlite)',\n",
        "           'Martian (shergottite)'],value='Martian',inplace=True)\n",
        "\n",
        "tmp_df1.recclass.replace(to_replace=['C','C2','C4','C4/5','C6','C1-ung', 'C1/2-ung','C2-ung',\n",
        "           'C3-ung', 'C3/4-ung','C4-ung','C5/6-ung',\n",
        "           'CB', 'CBa', 'CBb', 'CH/CBb', 'CH3', 'CH3 ', 'CI1', 'CK', 'CK3',\n",
        "           'CK3-an', 'CK3.8', 'CK3/4', 'CK4', 'CK4-an', 'CK4/5', 'CK5',\n",
        "           'CK5/6', 'CK6', 'CM', 'CM-an', 'CM1', 'CM1/2', 'CM2', 'CM2-an',\n",
        "           'CO3', 'CO3 ', 'CO3.0', 'CO3.1', 'CO3.2', 'CO3.3', 'CO3.4', 'CO3.5',\n",
        "           'CO3.6', 'CO3.7', 'CO3.8', 'CR', 'CR-an', 'CR1', 'CR2', 'CR2-an',\n",
        "           'CV2', 'CV3', 'CV3-an'],value='Chondrite_carbon',inplace=True)\n",
        "\n",
        "tmp_df1.recclass.replace(to_replace=['OC', 'OC3','H', 'H(5?)', 'H(?)4', 'H(L)3', 'H(L)3-an', 'H-an','H-imp melt',\n",
        "           'H-melt rock', 'H-metal', 'H/L3', 'H/L3-4', 'H/L3.5',\n",
        "           'H/L3.6', 'H/L3.7', 'H/L3.9', 'H/L4', 'H/L4-5', 'H/L4/5', 'H/L5',\n",
        "           'H/L6', 'H/L6-melt rock', 'H/L~4', 'H3', 'H3 ', 'H3-4', 'H3-5',\n",
        "           'H3-6', 'H3-an', 'H3.0', 'H3.0-3.4', 'H3.1', 'H3.10', 'H3.2',\n",
        "           'H3.2-3.7', 'H3.2-6', 'H3.2-an', 'H3.3', 'H3.4', 'H3.4-5',\n",
        "           'H3.4/3.5', 'H3.5', 'H3.5-4', 'H3.6', 'H3.6-6', 'H3.7', 'H3.7-5',\n",
        "           'H3.7-6', 'H3.7/3.8', 'H3.8', 'H3.8-4', 'H3.8-5', 'H3.8-6',\n",
        "           'H3.8-an', 'H3.8/3.9', 'H3.8/4', 'H3.9', 'H3.9-5', 'H3.9-6',\n",
        "           'H3.9/4', 'H3/4', 'H4', 'H4 ', 'H4(?)', 'H4-5', 'H4-6', 'H4-an',\n",
        "           'H4/5', 'H4/6', 'H5', 'H5 ', 'H5-6', 'H5-7', 'H5-an',\n",
        "           'H5-melt breccia', 'H5/6', 'H6', 'H6 ', 'H6-melt breccia', 'H6/7',\n",
        "           'H7', 'H?','H~4', 'H~4/5', 'H~5', 'H~6','L', 'L(?)3',\n",
        "           'L(H)3', 'L(LL)3', 'L(LL)3.05', 'L(LL)3.5-3.7', 'L(LL)5', 'L(LL)6',\n",
        "           'L(LL)~4', 'L-imp melt', 'L-melt breccia', 'L-melt rock', 'L-metal',\n",
        "           'L/LL', 'L/LL(?)3', 'L/LL-melt rock', 'L/LL3', 'L/LL3-5', 'L/LL3-6',\n",
        "           'L/LL3.10', 'L/LL3.2', 'L/LL3.4', 'L/LL3.5', 'L/LL3.6/3.7', 'L/LL4',\n",
        "           'L/LL4-6', 'L/LL4/5', 'L/LL5', 'L/LL5-6', 'L/LL5/6', 'L/LL6',\n",
        "           'L/LL6-an', 'L/LL~4', 'L/LL~5', 'L/LL~6', 'L3', 'L3-4', 'L3-5',\n",
        "           'L3-6', 'L3-7', 'L3.0', 'L3.0-3.7', 'L3.0-3.9', 'L3.05', 'L3.1',\n",
        "           'L3.10', 'L3.2', 'L3.2-3.5', 'L3.2-3.6', 'L3.3', 'L3.3-3.5',\n",
        "           'L3.3-3.6', 'L3.3-3.7', 'L3.4', 'L3.4-3.7', 'L3.5', 'L3.5-3.7',\n",
        "           'L3.5-3.8', 'L3.5-3.9', 'L3.5-5', 'L3.6', 'L3.6-4', 'L3.7',\n",
        "           'L3.7-3.9', 'L3.7-4', 'L3.7-6', 'L3.7/3.8', 'L3.8', 'L3.8-5',\n",
        "           'L3.8-6', 'L3.8-an', 'L3.9', 'L3.9-5', 'L3.9-6', 'L3.9/4', 'L3/4',\n",
        "           'L4', 'L4 ', 'L4-5', 'L4-6', 'L4-an', 'L4-melt rock', 'L4/5', 'L5',\n",
        "           'L5 ', 'L5-6', 'L5-7', 'L5/6', 'L6', 'L6 ', 'L6-melt breccia',\n",
        "           'L6-melt rock', 'L6/7', 'L7', 'LL', 'LL(L)3', 'LL-melt rock', 'LL3',\n",
        "           'LL3-4', 'LL3-5', 'LL3-6', 'LL3.0', 'LL3.00', 'LL3.1', 'LL3.1-3.5',\n",
        "           'LL3.10', 'LL3.15', 'LL3.2', 'LL3.3', 'LL3.4', 'LL3.5', 'LL3.6',\n",
        "           'LL3.7', 'LL3.7-6', 'LL3.8', 'LL3.8-6', 'LL3.9', 'LL3.9/4', 'LL3/4',\n",
        "           'LL4', 'LL4-5', 'LL4-6', 'LL4/5', 'LL4/6', 'LL5', 'LL5-6', 'LL5-7',\n",
        "           'LL5/6', 'LL6', 'LL6 ', 'LL6(?)', 'LL6/7', 'LL7', 'LL7(?)',\n",
        "           'LL<3.5', 'LL~3', 'LL~4', 'LL~4/5', 'LL~5', 'LL~6',\n",
        "           'L~3', 'L~4', 'L~5', 'L~6','Relict H','Relict OC'],value='Chondrite_ordin',inplace=True)\n",
        "\n",
        "tmp_df1.recclass.replace(to_replace=['EH','EH-imp melt', 'EH3', 'EH3/4-an', 'EH4', 'EH4/5', 'EH5', 'EH6',\n",
        "           'EH6-an', 'EH7', 'EH7-an', 'EL3', 'EL3/4', 'EL4', 'EL4/5', 'EL5',\n",
        "           'EL6', 'EL6 ', 'EL6/7', 'EL7','E','E3','E4', 'E5','E6'],value='Chondrite_enst',inplace=True)\n",
        "\n",
        "tmp_df1.recclass.replace(to_replace=['K', 'K3','R', 'R3', 'R3-4', 'R3-5', 'R3-6', 'R3.4', 'R3.5-6',\n",
        "           'R3.6', 'R3.7', 'R3.8', 'R3.8-5', 'R3.8-6', 'R3.9', 'R3/4', 'R4',\n",
        "           'R4/5', 'R5', 'R6'],value='Chondrite_other',inplace=True)\n",
        "\n",
        "tmp_df1.recclass.replace(to_replace=['Pallasite', 'Pallasite, PES','Pallasite, PMG',\n",
        "           'Pallasite, PMG-an', 'Pallasite, ungrouped',\n",
        "           'Pallasite?'],value='Pallasite',inplace=True)\n",
        "\n",
        "tmp_df1.recclass.replace(to_replace=['Mesosiderite', 'Mesosiderite-A','Mesosiderite-A1',\n",
        "           'Mesosiderite-A2', 'Mesosiderite-A3','Mesosiderite-A3/4',\n",
        "           'Mesosiderite-A4', 'Mesosiderite-B','Mesosiderite-B1',\n",
        "           'Mesosiderite-B2', 'Mesosiderite-B4','Mesosiderite-C',\n",
        "           'Mesosiderite-C2', 'Mesosiderite-an','Mesosiderite?'],value='Mesosiderite',inplace=True)\n",
        "\n",
        "tmp_df1.recclass.replace(to_replace=['Iron, IC', 'Iron, IC-an', 'Iron, IIAB', 'Iron, IIAB-an',\n",
        "           'Iron, IIC', 'Iron, IID', 'Iron, IID-an','Iron, IIF', 'Iron, IIG',\n",
        "           'Iron, IIIAB', 'Iron, IIIAB-an', 'Iron, IIIAB?', 'Iron, IIIE',\n",
        "           'Iron, IIIE-an', 'Iron, IIIF', 'Iron, IVA', 'Iron, IVA-an',\n",
        "           'Iron, IVB'],value='Magmatic',inplace=True)\n",
        "\n",
        "tmp_df1.recclass.replace(to_replace=['Iron, IAB complex', 'Iron, IAB-MG','Iron, IAB-an', 'Iron, IAB-sHH',\n",
        "           'Iron, IAB-sHL', 'Iron, IAB-sLH','Iron, IAB-sLL', 'Iron, IAB-sLM',\n",
        "           'Iron, IAB-ung', 'Iron, IAB?','Iron, IIE',\n",
        "           'Iron, IIE-an', 'Iron, IIE?'],value='Non_magmatic',inplace=True)\n",
        "\n",
        "tmp_df1.recclass.replace(to_replace=['Iron','Iron?','Relict iron','Chondrite-fusion crust',\n",
        "           'Fusion crust','Impact melt breccia',\n",
        "           'Enst achon-ung','Iron, ungrouped','Stone-uncl', 'Stone-ung',\n",
        "           'Unknown','Achondrite-ung','Chondrite-ung',\n",
        "           'Enst achon','E-an',  'E3-an',  'E5-an'],value='Unknown-Ungrouped',inplace=True)"
      ]
    },
    {
      "cell_type": "code",
      "execution_count": null,
      "metadata": {
        "_cell_guid": "a20f6b26-0c16-64e3-d758-b023c619d822"
      },
      "outputs": [],
      "source": [
        "#Counting again occurences ...\n",
        "tmp_df1['recclass'].value_counts()"
      ]
    },
    {
      "cell_type": "code",
      "execution_count": null,
      "metadata": {
        "_cell_guid": "8195a774-4987-5762-9438-d30547f22ae6"
      },
      "outputs": [],
      "source": [
        "# ... and visualizing it\n",
        "tmp_df1['recclass'].value_counts().plot.pie(autopct='%.2f')"
      ]
    },
    {
      "cell_type": "markdown",
      "metadata": {
        "_cell_guid": "41a0cc93-67de-7594-4d2d-8f71869cc2a3"
      },
      "source": [
        "<p>From the previous graph we see that the class is highly dominated by ordinary chondrite meteorites (nearly 90%).\n",
        "If you plot the number of discoveries of this class as a function of time it will look like the general trend and we won't gain much information.<br>\n",
        "Going back to the first pie chart then it seems that \"H\", \"L\" and \"LL\" are more frequent than others then let's group meteorites in four classes : \"H\", \"L\", \"LL\" and \"Other\".</p>"
      ]
    },
    {
      "cell_type": "code",
      "execution_count": null,
      "metadata": {
        "_cell_guid": "953e9aa8-f6e8-fcb3-cf9c-3279508b617d"
      },
      "outputs": [],
      "source": [
        "#Let's make another copy\n",
        "tmp_df2 = valids.copy()"
      ]
    },
    {
      "cell_type": "code",
      "execution_count": null,
      "metadata": {
        "_cell_guid": "fcc26c33-be7f-9660-4d1b-740fc109379e"
      },
      "outputs": [],
      "source": [
        "tmp_df2.recclass.replace(to_replace=['Acapulcoite', 'Acapulcoite/Lodranite', 'Acapulcoite/lodranite',\n",
        "           'Lodranite','Lodranite-an','Winonaite','Achondrite-prim','Angrite',\n",
        "           'Aubrite','Aubrite-an','Ureilite', 'Ureilite-an','Ureilite-pmict',\n",
        "           'Brachinite','Diogenite', 'Diogenite-an', 'Diogenite-olivine', 'Diogenite-pm',\n",
        "           'Eucrite', 'Eucrite-Mg rich', 'Eucrite-an', 'Eucrite-br','Eucrite-cm',\n",
        "           'Eucrite-mmict', 'Eucrite-pmict', 'Eucrite-unbr','Howardite',\n",
        "           'Lunar', 'Lunar (anorth)', 'Lunar (bas. breccia)',\n",
        "           'Lunar (bas/anor)', 'Lunar (bas/gab brec)', 'Lunar (basalt)',\n",
        "           'Lunar (feldsp. breccia)', 'Lunar (gabbro)', 'Lunar (norite)',\n",
        "           'Martian', 'Martian (OPX)','Martian (chassignite)', 'Martian (nakhlite)',\n",
        "           'Martian (shergottite)','C','C2','C4','C4/5','C6','C1-ung', 'C1/2-ung','C2-ung',\n",
        "           'C3-ung', 'C3/4-ung','C4-ung','C5/6-ung', 'CB', 'CBa', 'CBb', 'CH/CBb',\n",
        "           'CH3', 'CH3 ', 'CI1', 'CK', 'CK3','CK3-an', 'CK3.8', 'CK3/4', 'CK4', 'CK4-an', 'CK4/5', 'CK5',\n",
        "           'CK5/6', 'CK6', 'CM', 'CM-an', 'CM1', 'CM1/2', 'CM2', 'CM2-an',\n",
        "           'CO3', 'CO3 ', 'CO3.0', 'CO3.1', 'CO3.2', 'CO3.3', 'CO3.4', 'CO3.5',\n",
        "           'CO3.6', 'CO3.7', 'CO3.8', 'CR', 'CR-an', 'CR1', 'CR2', 'CR2-an',\n",
        "           'CV2', 'CV3', 'CV3-an', 'OC', 'OC3','Relict H','Relict OC',\n",
        "           'EH','EH-imp melt', 'EH3', 'EH3/4-an', 'EH4', 'EH4/5', 'EH5', 'EH6',\n",
        "           'EH6-an', 'EH7', 'EH7-an', 'EL3', 'EL3/4', 'EL4', 'EL4/5', 'EL5',\n",
        "           'EL6', 'EL6 ', 'EL6/7', 'EL7','E','E3','E4', 'E5','E6',\n",
        "           'K', 'K3','R', 'R3', 'R3-4', 'R3-5', 'R3-6', 'R3.4', 'R3.5-6',\n",
        "           'R3.6', 'R3.7', 'R3.8', 'R3.8-5', 'R3.8-6', 'R3.9', 'R3/4', 'R4',\n",
        "           'R4/5', 'R5', 'R6','Pallasite', 'Pallasite, PES','Pallasite, PMG',\n",
        "           'Pallasite, PMG-an', 'Pallasite, ungrouped',\n",
        "           'Pallasite?','Mesosiderite', 'Mesosiderite-A','Mesosiderite-A1',\n",
        "           'Mesosiderite-A2', 'Mesosiderite-A3','Mesosiderite-A3/4',\n",
        "           'Mesosiderite-A4', 'Mesosiderite-B','Mesosiderite-B1',\n",
        "           'Mesosiderite-B2', 'Mesosiderite-B4','Mesosiderite-C',\n",
        "           'Mesosiderite-C2', 'Mesosiderite-an','Mesosiderite?',\n",
        "           'Iron, IC', 'Iron, IC-an', 'Iron, IIAB', 'Iron, IIAB-an',\n",
        "           'Iron, IIC', 'Iron, IID', 'Iron, IID-an','Iron, IIF', 'Iron, IIG',\n",
        "           'Iron, IIIAB', 'Iron, IIIAB-an', 'Iron, IIIAB?', 'Iron, IIIE',\n",
        "           'Iron, IIIE-an', 'Iron, IIIF', 'Iron, IVA', 'Iron, IVA-an',\n",
        "           'Iron, IVB','Iron, IAB complex', 'Iron, IAB-MG','Iron, IAB-an', 'Iron, IAB-sHH',\n",
        "           'Iron, IAB-sHL', 'Iron, IAB-sLH','Iron, IAB-sLL', 'Iron, IAB-sLM',\n",
        "           'Iron, IAB-ung', 'Iron, IAB?','Iron, IIE',\n",
        "           'Iron, IIE-an', 'Iron, IIE?','Iron','Iron?','Relict iron','Chondrite-fusion crust',\n",
        "           'Fusion crust','Impact melt breccia',\n",
        "           'Enst achon-ung','Iron, ungrouped','Stone-uncl', 'Stone-ung',\n",
        "           'Unknown','Achondrite-ung','Chondrite-ung',\n",
        "           'Enst achon','E-an',  'E3-an',  'E5-an'],value='Others',inplace=True)\n",
        "\n",
        "tmp_df2.recclass.replace(to_replace=['H', 'H(5?)', 'H(?)4', 'H(L)3', 'H(L)3-an', 'H-an','H-imp melt',\n",
        "           'H-melt rock', 'H-metal', 'H/L3', 'H/L3-4', 'H/L3.5',\n",
        "           'H/L3.6', 'H/L3.7', 'H/L3.9', 'H/L4', 'H/L4-5', 'H/L4/5', 'H/L5',\n",
        "           'H/L6', 'H/L6-melt rock', 'H/L~4', 'H3', 'H3 ', 'H3-4', 'H3-5',\n",
        "           'H3-6', 'H3-an', 'H3.0', 'H3.0-3.4', 'H3.1', 'H3.10', 'H3.2',\n",
        "           'H3.2-3.7', 'H3.2-6', 'H3.2-an', 'H3.3', 'H3.4', 'H3.4-5',\n",
        "           'H3.4/3.5', 'H3.5', 'H3.5-4', 'H3.6', 'H3.6-6', 'H3.7', 'H3.7-5',\n",
        "           'H3.7-6', 'H3.7/3.8', 'H3.8', 'H3.8-4', 'H3.8-5', 'H3.8-6',\n",
        "           'H3.8-an', 'H3.8/3.9', 'H3.8/4', 'H3.9', 'H3.9-5', 'H3.9-6',\n",
        "           'H3.9/4', 'H3/4', 'H4', 'H4 ', 'H4(?)', 'H4-5', 'H4-6', 'H4-an',\n",
        "           'H4/5', 'H4/6', 'H5', 'H5 ', 'H5-6', 'H5-7', 'H5-an',\n",
        "           'H5-melt breccia', 'H5/6', 'H6', 'H6 ', 'H6-melt breccia', 'H6/7',\n",
        "           'H7', 'H?','H~4', 'H~4/5', 'H~5', 'H~6'],value='H',inplace=True)\n",
        "\n",
        "tmp_df2.recclass.replace(to_replace=['L', 'L(?)3','L(H)3', 'L(LL)3', 'L(LL)3.05', 'L(LL)3.5-3.7', 'L(LL)5', 'L(LL)6',\n",
        "           'L(LL)~4', 'L-imp melt', 'L-melt breccia', 'L-melt rock', 'L-metal',\n",
        "           'L/LL', 'L/LL(?)3', 'L/LL-melt rock', 'L/LL3', 'L/LL3-5', 'L/LL3-6',\n",
        "           'L/LL3.10', 'L/LL3.2', 'L/LL3.4', 'L/LL3.5', 'L/LL3.6/3.7', 'L/LL4',\n",
        "           'L/LL4-6', 'L/LL4/5', 'L/LL5', 'L/LL5-6', 'L/LL5/6', 'L/LL6',\n",
        "           'L/LL6-an', 'L/LL~4', 'L/LL~5', 'L/LL~6', 'L3', 'L3-4', 'L3-5',\n",
        "           'L3-6', 'L3-7', 'L3.0', 'L3.0-3.7', 'L3.0-3.9', 'L3.05', 'L3.1',\n",
        "           'L3.10', 'L3.2', 'L3.2-3.5', 'L3.2-3.6', 'L3.3', 'L3.3-3.5',\n",
        "           'L3.3-3.6', 'L3.3-3.7', 'L3.4', 'L3.4-3.7', 'L3.5', 'L3.5-3.7',\n",
        "           'L3.5-3.8', 'L3.5-3.9', 'L3.5-5', 'L3.6', 'L3.6-4', 'L3.7',\n",
        "           'L3.7-3.9', 'L3.7-4', 'L3.7-6', 'L3.7/3.8', 'L3.8', 'L3.8-5',\n",
        "           'L3.8-6', 'L3.8-an', 'L3.9', 'L3.9-5', 'L3.9-6', 'L3.9/4', 'L3/4',\n",
        "           'L4', 'L4 ', 'L4-5', 'L4-6', 'L4-an', 'L4-melt rock', 'L4/5', 'L5',\n",
        "           'L5 ', 'L5-6', 'L5-7', 'L5/6', 'L6', 'L6 ', 'L6-melt breccia',\n",
        "           'L6-melt rock', 'L6/7', 'L7','L~3', 'L~4', 'L~5', 'L~6'],value='L',inplace=True)\n",
        "\n",
        "tmp_df2.recclass.replace(to_replace=['LL', 'LL(L)3', 'LL-melt rock', 'LL3',\n",
        "           'LL3-4', 'LL3-5', 'LL3-6', 'LL3.0', 'LL3.00', 'LL3.1', 'LL3.1-3.5',\n",
        "           'LL3.10', 'LL3.15', 'LL3.2', 'LL3.3', 'LL3.4', 'LL3.5', 'LL3.6',\n",
        "           'LL3.7', 'LL3.7-6', 'LL3.8', 'LL3.8-6', 'LL3.9', 'LL3.9/4', 'LL3/4',\n",
        "           'LL4', 'LL4-5', 'LL4-6', 'LL4/5', 'LL4/6', 'LL5', 'LL5-6', 'LL5-7',\n",
        "           'LL5/6', 'LL6', 'LL6 ', 'LL6(?)', 'LL6/7', 'LL7', 'LL7(?)',\n",
        "           'LL<3.5', 'LL~3', 'LL~4', 'LL~4/5', 'LL~5', 'LL~6'],value='LL',inplace=True)"
      ]
    },
    {
      "cell_type": "code",
      "execution_count": null,
      "metadata": {
        "_cell_guid": "8922e892-5492-7e9b-32b0-d0f43f73fc51"
      },
      "outputs": [],
      "source": [
        "# Count\n",
        "tmp_df2['recclass'].value_counts()"
      ]
    },
    {
      "cell_type": "code",
      "execution_count": null,
      "metadata": {
        "_cell_guid": "20f6f740-ccf5-a947-446f-3192bfd6546c"
      },
      "outputs": [],
      "source": [
        "# Visualize\n",
        "tmp_df2['recclass'].value_counts().plot.pie(autopct='%.2f')"
      ]
    },
    {
      "cell_type": "markdown",
      "metadata": {
        "_cell_guid": "990c9448-7395-ea68-f681-6fef50d8b3cd"
      },
      "source": [
        "<p>From here we can look at the frequency of discoveries as a function of time.</p>\n"
      ]
    },
    {
      "cell_type": "code",
      "execution_count": null,
      "metadata": {
        "_cell_guid": "73de278b-b795-14da-df82-feec8018baf2"
      },
      "outputs": [],
      "source": [
        "# Here I just create \"shortcuts\" to each class\n",
        "Hs = tmp_df2[tmp_df2.recclass=='H']\n",
        "Ls = tmp_df2[tmp_df2.recclass=='L']\n",
        "LLs = tmp_df2[tmp_df2.recclass=='LL']\n",
        "Oth = tmp_df2[tmp_df2.recclass=='Others']"
      ]
    },
    {
      "cell_type": "code",
      "execution_count": null,
      "metadata": {
        "_cell_guid": "68967af7-db1d-6f22-4dbb-f433188b7f0e"
      },
      "outputs": [],
      "source": [
        "plt.figure(figsize=(7,10))\n",
        "\n",
        "plt.subplot(411)\n",
        "_=plt.hist(Hs.year.values,bins=np.arange(1900,2014,2),lw=2,histtype='step')\n",
        "plt.ylabel('H class')\n",
        "_=plt.xticks(np.arange(1900,2030,10))\n",
        "\n",
        "plt.subplot(412)\n",
        "_=plt.hist(Ls.year.values,bins=np.arange(1900,2014,2),lw=2,histtype='step')\n",
        "plt.ylabel('L class')\n",
        "_=plt.xticks(np.arange(1900,2030,10))\n",
        "\n",
        "plt.subplot(413)\n",
        "_=plt.hist(LLs.year.values,bins=np.arange(1900,2014,2),lw=2,histtype='step')\n",
        "plt.ylabel('LL class')\n",
        "_=plt.xticks(np.arange(1900,2030,10))\n",
        "\n",
        "plt.subplot(414)\n",
        "_=plt.hist(Oth.year.values,bins=np.arange(1900,2014,2),lw=2,histtype='step')\n",
        "plt.ylabel('Others')\n",
        "_=plt.xticks(np.arange(1900,2030,10))"
      ]
    },
    {
      "cell_type": "code",
      "execution_count": null,
      "metadata": {
        "_cell_guid": "d7588449-eac7-315a-e45b-67593d6136a3"
      },
      "outputs": [],
      "source": [
        "#To be continued"
      ]
    },
    {
      "cell_type": "code",
      "execution_count": null,
      "metadata": {
        "_cell_guid": "637eb6d5-7bcb-59fe-f382-3071c2caec3d"
      },
      "outputs": [],
      "source": [
        ""
      ]
    }
  ],
  "metadata": {
    "_change_revision": 0,
    "_is_fork": false,
    "kernelspec": {
      "display_name": "Python 3",
      "language": "python",
      "name": "python3"
    },
    "language_info": {
      "codemirror_mode": {
        "name": "ipython",
        "version": 3
      },
      "file_extension": ".py",
      "mimetype": "text/x-python",
      "name": "python",
      "nbconvert_exporter": "python",
      "pygments_lexer": "ipython3",
      "version": "3.6.0"
    }
  },
  "nbformat": 4,
  "nbformat_minor": 0
}