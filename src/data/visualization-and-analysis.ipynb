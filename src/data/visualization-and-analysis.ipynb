{
  "cells": [
    {
      "cell_type": "markdown",
      "metadata": {
        "_cell_guid": "dc815472-ddb1-b6c8-ccc4-1aa514933990"
      },
      "source": [
        "### Anastasya Rysmyatova (MMP, MSU, Russia)"
      ]
    },
    {
      "cell_type": "code",
      "execution_count": null,
      "metadata": {
        "_cell_guid": "ba8baef9-fffb-089d-1c28-2c30cb03d000"
      },
      "outputs": [],
      "source": [
        "import pandas as pd\n",
        "import numpy as np\n",
        "import matplotlib.pyplot as plt\n",
        "from mpl_toolkits.basemap import Basemap\n",
        "from IPython.display import HTML\n",
        "from matplotlib.ticker import FuncFormatter\n",
        "from pylab import rcParams\n",
        "from matplotlib import animation\n",
        "\n",
        "%matplotlib inline"
      ]
    },
    {
      "cell_type": "code",
      "execution_count": null,
      "metadata": {
        "_cell_guid": "bef77b83-55ec-5d93-84e2-6111b1d84142"
      },
      "outputs": [],
      "source": [
        "import seaborn"
      ]
    },
    {
      "cell_type": "markdown",
      "metadata": {
        "_cell_guid": "d5b03d3c-8507-5698-441f-646ad9f3c029"
      },
      "source": [
        "### Read data "
      ]
    },
    {
      "cell_type": "code",
      "execution_count": null,
      "metadata": {
        "_cell_guid": "bac6b94f-9f8a-61cf-c790-2446479f5ee9"
      },
      "outputs": [],
      "source": [
        "Data = pd.read_csv('../input/crime.csv')"
      ]
    },
    {
      "cell_type": "markdown",
      "metadata": {
        "_cell_guid": "870368ee-c10c-a949-97f1-5b39c11c3196"
      },
      "source": [
        "### Sort the data in order of the date of the crime"
      ]
    },
    {
      "cell_type": "code",
      "execution_count": null,
      "metadata": {
        "_cell_guid": "af5d05bc-a828-dce1-15c5-6213e315c9df"
      },
      "outputs": [],
      "source": [
        "Dat = pd.to_datetime(Data.Dispatch_Date_Time)\n",
        "Data.Dispatch_Date_Time = Dat\n",
        "Data.sort_values(by='Dispatch_Date_Time', inplace=True)\n",
        "Data.index = np.array(range(Data.shape[0]))\n",
        "Dat = pd.to_datetime(Data.Dispatch_Date_Time)\n",
        "Data['all_hour'] = abs(Dat - Dat[0]).dt.total_seconds() / 3600.0"
      ]
    },
    {
      "cell_type": "markdown",
      "metadata": {
        "_cell_guid": "a6a17da1-d2b1-b7ac-44a2-3c4b140f5e4c"
      },
      "source": [
        "## Animation"
      ]
    },
    {
      "cell_type": "markdown",
      "metadata": {
        "_cell_guid": "8231f89a-ed52-4d51-7faf-4d0cc04dd73a"
      },
      "source": [
        "Let's see how the offences occurred over time. Choose the crimes that happened since the beginning of 2006 over 5,000 hours.\n",
        "Draw the crimes on a map, using video. Each frame depicts crime occurred in 4 hours.\n",
        "Red indicates crimes that occurred on the day. Blue, which happened last night.\n",
        "\n",
        "\n"
      ]
    },
    {
      "cell_type": "code",
      "execution_count": null,
      "metadata": {
        "_cell_guid": "4b1d6b49-6e18-cc1c-ae28-14d709bb5587"
      },
      "outputs": [],
      "source": [
        "\"\"\"import numpy as np\n",
        "import matplotlib.pylab as plt\n",
        "from matplotlib.animation import FuncAnimation\n",
        "\n",
        "fig = plt.gcf()\n",
        "plt.figure(figsize=(10,9))\n",
        "\n",
        "m = Basemap(projection='mill', llcrnrlat=Data.Lat.min(), urcrnrlat=Data.Lat.max(),\\\n",
        "             llcrnrlon=Data.Lon.min(), urcrnrlon=Data.Lon.max(), resolution='c', epsg=4269)\n",
        "\n",
        "x, y = m(Data.Lon[(Data.Lon.isnull()==False) ], \\\n",
        "        Data.Lat[(Data.Lat.isnull() == False)])\n",
        "\n",
        "m.arcgisimage(service=\"NatGeo_World_Map\", xpixels=3000, verbose=True)\n",
        "\n",
        "a, b = m(Data.Lon.min(), Data.Lat.min())\n",
        "graph = m.plot(a, b, 'ro', markersize=6, alpha = 1.0)[0]\n",
        "\n",
        "all_hour = Data.all_hour[(Data.Lon.isnull()==False) ] \n",
        "def animate(i):\n",
        "    lons = x[(all_hour < i+4) & (all_hour >= i) ]\n",
        "\n",
        "    lats = y[(all_hour < i+4) & (all_hour >= i) ]\n",
        "    graph.set_data(lons, lats)\n",
        "    if (i % 24 >=23) | (i % 24 <= 7):\n",
        "        graph.set_color('b')\n",
        "    else:\n",
        "        graph.set_color('r')\n",
        "    return graph\n",
        "anim = FuncAnimation(plt.gcf(), animate, repeat=True, frames=5000, interval=100)\"\"\""
      ]
    },
    {
      "cell_type": "code",
      "execution_count": null,
      "metadata": {
        "_cell_guid": "21bfa8e2-37b7-8d80-d8c7-f18ca3fecd7f"
      },
      "outputs": [],
      "source": [
        "#from IPython.display import HTML\n",
        "#HTML(anim.to_html5_video())"
      ]
    },
    {
      "cell_type": "markdown",
      "metadata": {
        "_cell_guid": "6f784327-b9a5-6c1b-6a24-8abe1d0e5a5b"
      },
      "source": [
        "to view the visualization, click on the \n",
        "[**LINK**][1]\n",
        "\n",
        "\n",
        "  [1]: http://nbviewer.jupyter.org/urls/dl.dropbox.com/s/60wzl584jvkmuag/Untitled1.ipynb\n",
        "  "
      ]
    },
    {
      "cell_type": "markdown",
      "metadata": {
        "_cell_guid": "d079916f-8687-cee0-b2d0-876b12ad7d7f"
      },
      "source": [
        "It is seen that at night there is less crime than during the day.\n",
        "\n"
      ]
    },
    {
      "cell_type": "markdown",
      "metadata": {
        "_cell_guid": "2e37af26-6c87-0954-4ba4-f0eecb1eb4ac"
      },
      "source": [
        "### Let's see how many crimes happen by days, by months, by years  "
      ]
    },
    {
      "cell_type": "code",
      "execution_count": null,
      "metadata": {
        "_cell_guid": "2752a50b-337b-422d-fee4-1fd5b78ab0fc"
      },
      "outputs": [],
      "source": [
        "Dat = pd.to_datetime(Data.Dispatch_Date_Time)\n",
        "Data['month'] = Dat.dt.month\n",
        "Data['year'] = Dat.dt.year\n",
        "Data['day'] = Dat.dt.day\n",
        "Group = Data.groupby(['year', 'month', 'day'])['day'].count()\n",
        "Count = Group.to_frame(name='count').reset_index()\n",
        "#fig, ax = plt.subplots(figsize=(15,5))\n",
        "#ax.plot_date(Data.Dispatch_Date.unique(), Count['count'], '-')\n",
        "#ax.set_ylabel('number of crimes')\n",
        "#ax.set_xlabel('date')\n",
        "#ax.set_title('number of crimes by day')\n",
        "\n",
        "Dat = pd.to_datetime(Data.Dispatch_Date_Time)\n",
        "Data['month'] = Dat.dt.month\n",
        "Data['year'] = Dat.dt.year\n",
        "Group = Data.groupby(['year', 'month'])['month'].count()\n",
        "Count = Group.to_frame(name='count').reset_index()\n",
        "#fig, ax = plt.subplots(figsize=(15,5))\n",
        "#ax.plot_date(Data.Month.unique(), Count['count'], '-')\n",
        "#ax.set_ylabel('number of crimes')\n",
        "#ax.set_xlabel('date')\n",
        "#ax.set_title('number of crimes by month')\n",
        "\n",
        "Group = Data.groupby(['year'])['year'].count()\n",
        "Count = Group.to_frame(name='count').reset_index()\n",
        "#fig, ax = plt.subplots(figsize=(15,5))\n",
        "#ax.plot_date(Data.year.unique(), Count['count'], '-')\n",
        "#ax.set_ylabel('number of crimes')\n",
        "#ax.set_xlabel('date')\n",
        "#ax.set_title('number of crimes by year')"
      ]
    },
    {
      "cell_type": "markdown",
      "metadata": {
        "_cell_guid": "04bc7b77-846f-827c-f5a8-38fe753edf8a"
      },
      "source": [
        "![day][1]\n",
        "![month][2]\n",
        "![year][3]\n",
        "\n",
        "\n",
        "  [1]: https://pp.vk.me/c637625/v637625621/138b0/3TEadaoS8K8.jpg\n",
        "  [2]: https://pp.vk.me/c637625/v637625621/138a7/V3-3a6IUfDM.jpg\n",
        "  [3]: https://pp.vk.me/c637625/v637625621/1389e/xZ50PoES3y0.jpg"
      ]
    },
    {
      "cell_type": "markdown",
      "metadata": {
        "_cell_guid": "296a966e-7eb9-9a61-ef16-202d03fc54aa"
      },
      "source": [
        "On the chart of crimes by day visible seasonality.\n",
        "From the graph of the crimes by months of visible frequency, in summer, is made considerably more crimes than in the winter.\n",
        "Looking at the total number of crimes per year from 2006 to 2015, it is clear that the total number of crimes is decreasing every year."
      ]
    },
    {
      "cell_type": "markdown",
      "metadata": {
        "_cell_guid": "49735ad7-67d1-ed07-3a04-25ef50d121d7"
      },
      "source": [
        "### Let's see how it changes the total number of crimes per year in each of the Police_Districts \n",
        "\n"
      ]
    },
    {
      "cell_type": "code",
      "execution_count": null,
      "metadata": {
        "_cell_guid": "9f915ec7-1a66-f892-4809-e717c48eeffe"
      },
      "outputs": [],
      "source": [
        "color = np.random.rand( Data.Police_Districts.value_counts(sort = False).shape[0], 3)\n",
        "c = 0\n",
        "rcParams['figure.figsize'] = 13, 6\n",
        "for i in range(2006, 2016): \n",
        "    crimes = np.array( Data.Police_Districts[Data.year == i].value_counts(sort= False))\n",
        "    N = crimes.shape[0]\n",
        "    ind = np.arange(N)*1.2    \n",
        "    width = 0.085\n",
        "    p1 = plt.bar( ind + width*c*0.9, crimes, width, color= color[c])\n",
        "    plt.ylabel('number of crimes')\n",
        "    plt.title('Police_Districts')\n",
        "    plt.xticks(ind+width, Data.Police_Districts[Data.year == 2006].value_counts(sort= False).index)\n",
        "    plt.axis([0, 26, 0.0, 20000])\n",
        "    c += 1\n",
        "\n",
        "plt.show()"
      ]
    },
    {
      "cell_type": "markdown",
      "metadata": {
        "_cell_guid": "71473145-2d0d-77d0-d7da-165ca4bf64aa"
      },
      "source": [
        "It is evident that most police stations every year the number of crimes is reduced (for example 4.0, 0.0, 10.0, 18.0, 6.0)\n",
        "But there are areas where the number of crimes increased (e.g. 15.0)"
      ]
    },
    {
      "cell_type": "markdown",
      "metadata": {
        "_cell_guid": "c3a4748c-8111-bc1d-66c2-19ba389eb4ab"
      },
      "source": [
        "### Let's see how it changes the total number of crimes per year for each Text_General_Code\n",
        "\n"
      ]
    },
    {
      "cell_type": "code",
      "execution_count": null,
      "metadata": {
        "_cell_guid": "ca196de1-6889-0e3f-6f62-8250e17fdc51"
      },
      "outputs": [],
      "source": [
        "color = np.random.rand( Data.Text_General_Code.value_counts(sort= False).shape[0], 3)\n",
        "c = 0\n",
        "rcParams['figure.figsize'] = 13, 7\n",
        "fig, ax = plt.subplots()\n",
        "for i in range(2006, 2016):\n",
        "    crimes = np.array( Data.Text_General_Code[Data.year == i].value_counts(sort= False))\n",
        "    N = crimes.shape[0]\n",
        "    ind = np.arange(N)*1.2    \n",
        "    width = 0.085\n",
        "    p1 = plt.bar( ind + width*c*0.9, crimes, width, color= color[c])\n",
        "    plt.ylabel('number of crimes')\n",
        "    plt.title('Text_General_Code')\n",
        "    plt.xticks(ind+width, Data.Text_General_Code[Data.year == i].value_counts(sort= False).index, rotation = 70)\n",
        "    plt.axis([0, 27, 0.0, 51000])\n",
        "    c += 1\n",
        "\n",
        "plt.show()"
      ]
    },
    {
      "cell_type": "markdown",
      "metadata": {
        "_cell_guid": "0be41ab1-8e2a-f80d-4e40-e38e8903086c"
      },
      "source": [
        "Some Text_General_Code acting weird\n",
        "\n"
      ]
    },
    {
      "cell_type": "markdown",
      "metadata": {
        "_cell_guid": "541febcc-ad8d-dc39-3f22-5b8ec149dab7"
      },
      "source": [
        "### Let's see how it changes the total number of crimes per year in each month\n",
        "\n"
      ]
    },
    {
      "cell_type": "code",
      "execution_count": null,
      "metadata": {
        "_cell_guid": "8878d71a-9446-44d4-63a8-0c3d0687ad72"
      },
      "outputs": [],
      "source": [
        "color = np.random.rand( Data.month.value_counts(sort= False).shape[0], 3)\n",
        "c = 0\n",
        "rcParams['figure.figsize'] = 13, 6\n",
        "fig, ax = plt.subplots()\n",
        "for i in range(2006, 2016):\n",
        "    crimes = np.array( Data.month[Data.year == i].value_counts(sort= False))\n",
        "    N = crimes.shape[0]\n",
        "    ind = np.arange(N)*1.2    \n",
        "    width = 0.085\n",
        "    p1 = plt.bar( ind + width*c*0.9, crimes, width, color= color[c])\n",
        "    plt.ylabel('number of crimes')\n",
        "    plt.title('Months')\n",
        "    plt.xticks(ind+width, Data.month[Data.year == i].value_counts(sort= False).index)\n",
        "    plt.axis([0, 14, 0.0, 26000])\n",
        "    c += 1\n",
        "\n",
        "plt.show()"
      ]
    },
    {
      "cell_type": "markdown",
      "metadata": {
        "_cell_guid": "27e36cd5-dc1d-9509-ddf6-2990e23a23fc"
      },
      "source": [
        "On the x-axis is months.\n",
        "\n",
        "1 - January.\n",
        "\n",
        "12 - December.\n",
        "\n",
        "It is seen that in winter there is less crime than in the summer. Every year it becomes less of crimes for each month.\n",
        "\n"
      ]
    },
    {
      "cell_type": "markdown",
      "metadata": {
        "_cell_guid": "f00746c3-ff08-db7b-e971-6a32246fa7d1"
      },
      "source": [
        "### Let's see how it changes the total number of crimes per year in each hour."
      ]
    },
    {
      "cell_type": "code",
      "execution_count": null,
      "metadata": {
        "_cell_guid": "69ea7f5f-e1f9-df36-cee2-82f296251895"
      },
      "outputs": [],
      "source": [
        "color = np.random.rand( Data.Hour.value_counts(sort= False).shape[0], 3)\n",
        "c = 0\n",
        "rcParams['figure.figsize'] = 13, 6\n",
        "fig, ax = plt.subplots()\n",
        "for i in range(2006, 2016):  \n",
        "    crimes = np.array( Data.Hour[Data.year == i].value_counts(sort= False))\n",
        "    N = crimes.shape[0]\n",
        "    ind = np.arange(N)*1.2    \n",
        "    width = 0.085\n",
        "    p1 = plt.bar( ind + width*c*0.9, crimes, width, color= color[c])\n",
        "    plt.ylabel('number of crimes')\n",
        "    plt.title('Hours')\n",
        "    plt.xticks(ind+width, Data.Hour[Data.year == i].value_counts(sort= False).index)\n",
        "    plt.axis([0, 29, 0.0, 17000])\n",
        "    c += 1\n",
        "\n",
        "plt.show()"
      ]
    },
    {
      "cell_type": "markdown",
      "metadata": {
        "_cell_guid": "1bbaed43-9fba-415d-6223-c0493cdde475"
      },
      "source": [
        "On the x-axis is hours.\n",
        "\n",
        "It is seen that from 3:00 - 7:00 there is less crimes. \n",
        "It is seen that in 2015, significantly reduced the number of crimes between 23:00 - 2:00 hours than in 2006.\n",
        "\n"
      ]
    },
    {
      "cell_type": "markdown",
      "metadata": {
        "_cell_guid": "ee1e41a3-0ff1-f239-5fb1-3e5dedea3a14"
      },
      "source": [
        "### Let's see how are distributed the crimes on the map."
      ]
    },
    {
      "cell_type": "markdown",
      "metadata": {
        "_cell_guid": "dfcdba74-feb5-1a73-f74c-d07347d2bdd3"
      },
      "source": [
        "Use the data only for 2015\n"
      ]
    },
    {
      "cell_type": "code",
      "execution_count": null,
      "metadata": {
        "_cell_guid": "697081bd-347c-d686-9bb2-1f34afab96d1"
      },
      "outputs": [],
      "source": [
        "m = Basemap(projection='mill', llcrnrlat=Data.Lat.min(), urcrnrlat=Data.Lat.max(), \n",
        "            llcrnrlon=Data.Lon.min(), urcrnrlon=Data.Lon.max(), resolution='c', epsg=4269)\n",
        "x, y = m(tuple(Data.Lon[(Data.Lon.isnull()==False) & (Dat.dt.year == 2015)]), \\\n",
        "         tuple(Data.Lat[(Data.Lat.isnull() == False) & (Dat.dt.year == 2015)]))\n",
        "\n",
        "#plt.figure(figsize=(20,10))\n",
        "#m.arcgisimage(service=\"NatGeo_World_Map\", xpixels=3000, verbose=True)\n",
        "#m.plot(x,y,'ro',markersize=1, alpha=.3 )"
      ]
    },
    {
      "cell_type": "markdown",
      "metadata": {
        "_cell_guid": "35a51de8-5566-1680-bafa-449d9c99ac16"
      },
      "source": [
        "![crimes][1]\n",
        "\n",
        "\n",
        "  [1]: https://pp.vk.me/c637625/v637625621/13895/Omh31Vs76BY.jpg"
      ]
    },
    {
      "cell_type": "markdown",
      "metadata": {
        "_cell_guid": "52f0e485-d69d-b290-b638-9197675db592"
      },
      "source": [
        "It is seen that in some places the crimes occurred often, some less often."
      ]
    },
    {
      "cell_type": "markdown",
      "metadata": {
        "_cell_guid": "a61e8952-413c-9a83-95dd-ac9875f2605e"
      },
      "source": [
        "\u0412\u0438\u0434\u043d\u043e, \u0447\u0442\u043e \u0432 \u043d\u0435\u043a\u043e\u0442\u043e\u0440\u044b\u0445 \u043c\u0435\u0441\u0442\u0430\u0445 \u043f\u0440\u0435\u0441\u0442\u0443\u043f\u043b\u0435\u043d\u0438\u044f \u043f\u0440\u043e\u0438\u0441\u0445\u043e\u0434\u0438\u043b\u0438 \u0447\u0430\u0441\u0442\u043e, \u0432 \u043d\u0435\u043a\u043e\u0442\u043e\u0440\u044b\u0445 \u0440\u0435\u0436\u0435."
      ]
    },
    {
      "cell_type": "markdown",
      "metadata": {
        "_cell_guid": "c034baa3-a1ae-7598-c89a-e4f249627445"
      },
      "source": [
        "### Police_Districts"
      ]
    },
    {
      "cell_type": "code",
      "execution_count": null,
      "metadata": {
        "_cell_guid": "b9cb1e33-7491-d240-4d0f-66aea920c09e"
      },
      "outputs": [],
      "source": [
        "color = np.random.rand(Data.Police_Districts.unique().shape[0], 3)\n",
        "#plt.figure(figsize=(20,10))\n",
        "m = Basemap(projection='mill', llcrnrlat=Data.Lat.min(), urcrnrlat=Data.Lat.max(), \n",
        "            llcrnrlon=Data.Lon.min(), urcrnrlon=Data.Lon.max(), resolution='c', epsg=4269)\n",
        "#m.arcgisimage(service=\"NatGeo_World_Map\", xpixels=3000, verbose=True)\n",
        "c = 0\n",
        "for i in Data.Police_Districts.unique():\n",
        "    x, y = m(tuple(Data.Lon[(Data.Lon.isnull()==False) & (Data.Police_Districts == i)]), \\\n",
        "         tuple(Data.Lat[(Data.Lat.isnull() == False) & (Data.Police_Districts == i)]))\n",
        "\n",
        "    #m.plot(x,y,'ro',markersize=1,alpha=.3, color = color[c] )\n",
        "\n",
        "    c += 1"
      ]
    },
    {
      "cell_type": "markdown",
      "metadata": {
        "_cell_guid": "bea32d2b-d339-ed74-b249-680f6216c1bc"
      },
      "source": [
        "![D][1]\n",
        "\n",
        "\n",
        "  [1]: https://pp.vk.me/c637625/v637625621/13875/KIBbAJmRf_8.jpg"
      ]
    },
    {
      "cell_type": "markdown",
      "metadata": {
        "_cell_guid": "fba6c3f0-cfb3-43ca-9462-8becbc4fef64"
      },
      "source": [
        "The map shows how divided police districts (Police_Districts).\n",
        "\n"
      ]
    },
    {
      "cell_type": "markdown",
      "metadata": {
        "_cell_guid": "7efb4e5a-290d-e34c-d4ea-7e955e966a87"
      },
      "source": [
        "### Look at any police districts most of the crimes were committed in 2015"
      ]
    },
    {
      "cell_type": "code",
      "execution_count": null,
      "metadata": {
        "_cell_guid": "0f07a110-1686-97d8-f6bc-9eca2c787b66"
      },
      "outputs": [],
      "source": [
        "from matplotlib import cm\n",
        "import matplotlib as mpl\n",
        "# color = np.random.rand(Data.Police_Districts.unique().shape[0], 3)\n",
        "plt.figure(figsize=(20,10))\n",
        "m = Basemap(projection='mill', llcrnrlat=Data.Lat.min(), urcrnrlat=Data.Lat.max(), \n",
        "            llcrnrlon=Data.Lon.min(), urcrnrlon=Data.Lon.max(), resolution='c', epsg=4269)\n",
        "#m.arcgisimage(service=\"NatGeo_World_Map\", xpixels=3000, verbose=True)\n",
        "c = 0\n",
        "des = np.ones(Data.Police_Districts.unique().shape[0])\n",
        "for i in range(Data.Police_Districts.unique().shape[0]):\n",
        "    des[i] = Data.Lon[(Data.Lon.isnull()==False) & (Data.Police_Districts == i)].shape[0]\n",
        "\n",
        "colors = []\n",
        "for i in range(Data.Police_Districts.unique().shape[0]):\n",
        "    \n",
        "    x, y = m(Data.Lon[(Data.Lon.isnull()==False) & (Data.Police_Districts == i)], \\\n",
        "       Data.Lat[(Data.Lat.isnull() == False) & (Data.Police_Districts == i)])\n",
        "\n",
        "    c = (des[i]/des.max(), 0.0, 0.0)\n",
        "    m.scatter(x,y,s=10,alpha=1, color = c)\n",
        "    colors += [c]\n",
        "\n",
        "sm = cm.ScalarMappable(cmap='Reds')\n",
        "sm.set_array(colors)\n",
        "\n",
        "m.colorbar(sm, location='right',pad='5%')\n",
        "plt.title('Distribution of crimes between the police districts')\n",
        "\n"
      ]
    },
    {
      "cell_type": "markdown",
      "metadata": {
        "_cell_guid": "79f71048-46a9-73e5-c49d-45e727d105ba"
      },
      "source": [
        "The figure shows the percentage of crime in each police districts.\n",
        "black - no crimes\n",
        "red - crimes a lot\n",
        "It is seen that in the center of the city, commit more crimes. Visible areas on the outskirts of the city where commit a few crimes&"
      ]
    },
    {
      "cell_type": "markdown",
      "metadata": {
        "_cell_guid": "e2babfe6-42e0-b0dc-0bb3-9146417cd78f"
      },
      "source": [
        "### View on the street where were more than 1,000 crimes in 2015"
      ]
    },
    {
      "cell_type": "markdown",
      "metadata": {
        "_cell_guid": "bc4dcba1-8b2f-56bb-7138-00655aa3a85c"
      },
      "source": [
        "Extract the street name from the characteristic Location_Block"
      ]
    },
    {
      "cell_type": "code",
      "execution_count": null,
      "metadata": {
        "_cell_guid": "3d324598-c6b7-8a6a-e0a3-9f0b973c0cfd"
      },
      "outputs": [],
      "source": [
        "stret = Data.Location_Block.str.split(' ')#[:][:-2]\n",
        "L = list(stret)\n",
        "Mas = []\n",
        "for i in L:\n",
        "    Mas.append(list(i[-2:])) \n",
        "mas = []\n",
        "for i in range(len(Mas)):\n",
        "    mas.append(' '.join(Mas[i]))\n",
        "    \n",
        "Data['stret'] = mas\n",
        "\n",
        "mas = []\n",
        "\n",
        "# plt.figure(figsize=(20,10))\n",
        "# m = Basemap(projection='mill', llcrnrlat=Data.Lat.min(), urcrnrlat=Data.Lat.max(), \n",
        "#             llcrnrlon=Data.Lon.min(), urcrnrlon=Data.Lon.max(), resolution='c', epsg=4269)\n",
        "# m.arcgisimage(service=\"NatGeo_World_Map\", xpixels=3000, verbose=True)\n",
        "# c = 0\n",
        "# des = np.ones(Data.stret.unique().shape[0])\n",
        "# uniq = Data.stret.unique()\n",
        "# for i in range(Data.stret.unique().shape[0]):\n",
        "#      des[i] = Data.Lon[(Data.Lon.isnull()==False) & (Data.stret == uniq[i])& (Data.year == 2015)].shape[0]\n",
        "\n",
        "\n",
        "#for i in range(Data.stret.unique().shape[0]):\n",
        "#    if des[i] > 1000:\n",
        "#        x, y = m(Data.Lon[(Data.Lon.isnull()==False) & (Data.stret == uniq[i])& (Data.year == 2015)], \\\n",
        "#           Data.Lat[(Data.Lat.isnull() == False) & (Data.stret == uniq[i])& (Data.year == 2015)])\n",
        "\n",
        "#        m.scatter(x,y,s=3,alpha=1, color = [des[i]/des.max(), 0.0, 0.0] )"
      ]
    },
    {
      "cell_type": "markdown",
      "metadata": {
        "_cell_guid": "d5ae5cf8-f783-5662-13c7-1d64aff67f2b"
      },
      "source": [
        "![St][1]\n",
        "\n",
        "\n",
        "  [1]: https://pp.vk.me/c636128/v636128621/275ab/PHgK7SruFO4.jpg"
      ]
    },
    {
      "cell_type": "markdown",
      "metadata": {
        "_cell_guid": "a88299a1-40b4-4e3a-d190-8ed9ea3846fe"
      },
      "source": [
        "streets with the highest number of crimes highlighted in red"
      ]
    },
    {
      "cell_type": "markdown",
      "metadata": {
        "_cell_guid": "ec4521b8-d82b-19dd-ec79-d2485d973c78"
      },
      "source": [
        "### Psa"
      ]
    },
    {
      "cell_type": "code",
      "execution_count": null,
      "metadata": {
        "_cell_guid": "3c049cc6-7625-f115-952e-d4b18f8556e2"
      },
      "outputs": [],
      "source": [
        "color = np.random.rand(Data.Psa.unique().shape[0], 3)\n",
        "\n",
        "# plt.figure(figsize=(20,10))\n",
        "m = Basemap(projection='mill', llcrnrlat=Data.Lat.min(), urcrnrlat=Data.Lat.max(), \n",
        "            llcrnrlon=Data.Lon.min(), urcrnrlon=Data.Lon.max(), resolution='c', epsg=4269)\n",
        "# m.arcgisimage(service=\"NatGeo_World_Map\", xpixels=3000, verbose=True)\n",
        "c = 0\n",
        "for i in Data.Psa.unique():\n",
        "    x, y = m(tuple(Data.Lon[(Data.Lon.isnull()==False) & (Data.Psa == i)]), \\\n",
        "         tuple(Data.Lat[(Data.Lat.isnull() == False) & (Data.Psa == i)]))\n",
        "\n",
        "    # m.plot(x,y,'ro',markersize=1, alpha = 0.1, color = color[c] )\n",
        "    c += 1"
      ]
    },
    {
      "cell_type": "markdown",
      "metadata": {
        "_cell_guid": "d4c5dac6-4fb3-8e54-5328-d7a8773db8ed"
      },
      "source": [
        "![P][1]\n",
        "\n",
        "\n",
        "  [1]: https://pp.vk.me/c637625/v637625621/1386d/vAoXFGElHqs.jpg"
      ]
    },
    {
      "cell_type": "markdown",
      "metadata": {
        "_cell_guid": "0ca1a38c-6967-ea69-6b5c-04f1d1d48e70"
      },
      "source": [
        "The map shows how divided Psa.\n"
      ]
    },
    {
      "cell_type": "markdown",
      "metadata": {
        "_cell_guid": "1657de14-f9b3-993e-1637-b53dd6de8791"
      },
      "source": [
        "### Dc_Dist"
      ]
    },
    {
      "cell_type": "code",
      "execution_count": null,
      "metadata": {
        "_cell_guid": "dca1a5a9-df97-bf24-8c98-246dc25934f1"
      },
      "outputs": [],
      "source": [
        "color = np.random.rand(Data.Dc_Dist.unique().shape[0], 3)\n",
        "\n",
        "# plt.figure(figsize=(20,10))\n",
        "m = Basemap(projection='mill', llcrnrlat=Data.Lat.min(), urcrnrlat=Data.Lat.max(), \n",
        "            llcrnrlon=Data.Lon.min(), urcrnrlon=Data.Lon.max(), resolution='c', epsg=4269)\n",
        "# m.arcgisimage(service=\"NatGeo_World_Map\", xpixels=3000, verbose=True)\n",
        "c = 0\n",
        "for i in Data.Dc_Dist.unique():\n",
        "    x, y = m(tuple(Data.Lon[(Data.Lon.isnull()==False) & (Data.Dc_Dist == i)]), \\\n",
        "         tuple(Data.Lat[(Data.Lat.isnull() == False) & (Data.Dc_Dist == i)]))\n",
        "\n",
        "    # m.plot(x,y,'ro',markersize=1, alpha = 0.1, color = color[c] )\n",
        "    c += 1"
      ]
    },
    {
      "cell_type": "markdown",
      "metadata": {
        "_cell_guid": "c1956634-4beb-f629-6aeb-1b0f0aac5b6e"
      },
      "source": [
        "![C][1]\n",
        "\n",
        "\n",
        "  [1]: https://pp.vk.me/c637625/v637625621/13865/yG-ZF47uyfI.jpg"
      ]
    },
    {
      "cell_type": "markdown",
      "metadata": {
        "_cell_guid": "c1103122-c262-32ac-da66-b448c5f9ce67"
      },
      "source": [
        "The map shows how divided Dc_Dist.\n",
        "\n"
      ]
    },
    {
      "cell_type": "code",
      "execution_count": null,
      "metadata": {
        "_cell_guid": "fceacf82-0091-f5aa-1253-6b47f7a5ed82",
        "collapsed": true
      },
      "outputs": [],
      "source": [
        ""
      ]
    }
  ],
  "metadata": {
    "_change_revision": 0,
    "_is_fork": false,
    "kernelspec": {
      "display_name": "Python 3",
      "language": "python",
      "name": "python3"
    },
    "language_info": {
      "codemirror_mode": {
        "name": "ipython",
        "version": 3
      },
      "file_extension": ".py",
      "mimetype": "text/x-python",
      "name": "python",
      "nbconvert_exporter": "python",
      "pygments_lexer": "ipython3",
      "version": "3.5.2"
    }
  },
  "nbformat": 4,
  "nbformat_minor": 0
}