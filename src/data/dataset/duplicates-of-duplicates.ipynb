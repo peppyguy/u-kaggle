{
  "cells": [
    {
      "cell_type": "markdown",
      "metadata": {
        "_cell_guid": "df48d773-7c92-e3e0-475c-650a0ccfd685"
      },
      "source": [
        "## Duplicates of Duplicates\n",
        "In this notebook, we will take a look at connected groups of questions that are marked as duplicates of each other.\n",
        "What we will find is that, at least in the training set, duplicates tend to occur in clusters of related questions."
      ]
    },
    {
      "cell_type": "code",
      "execution_count": null,
      "metadata": {
        "_cell_guid": "d15d73a9-fd9b-68c8-b97a-8bb2d1381432"
      },
      "outputs": [],
      "source": [
        "import numpy as np\n",
        "import pandas as pd\n",
        "import networkx as nx\n",
        "from matplotlib import pyplot as plt\n",
        "import warnings\n",
        "\n",
        "TRAIN_PATH = \"../input/train.csv\"\n",
        "tr = pd.read_csv(TRAIN_PATH)\n",
        "pos = tr[tr.is_duplicate==1]"
      ]
    },
    {
      "cell_type": "markdown",
      "metadata": {
        "_cell_guid": "3b6f3ae4-4d2c-7665-6c95-fdc9ab76b1c3"
      },
      "source": [
        "We'll graph questions as nodes and place an edge between questions that are marked as duplicates. The connected components in this graph are the duplicates-of-duplicates."
      ]
    },
    {
      "cell_type": "code",
      "execution_count": null,
      "metadata": {
        "_cell_guid": "61722085-2b20-d446-a246-a27c29d3a5ff"
      },
      "outputs": [],
      "source": [
        "g = nx.Graph()\n",
        "g.add_nodes_from(pos.question1)\n",
        "g.add_nodes_from(pos.question2)\n",
        "edges = list(pos[['question1', 'question2']].to_records(index=False))\n",
        "g.add_edges_from(edges)"
      ]
    },
    {
      "cell_type": "markdown",
      "metadata": {
        "_cell_guid": "b86c46eb-8a4e-5405-bdc8-1cbc8a5c611c"
      },
      "source": [
        "The number of nodes in this graph is equal to the number of unique questions in positive rows."
      ]
    },
    {
      "cell_type": "code",
      "execution_count": null,
      "metadata": {
        "_cell_guid": "440485b2-5645-d200-5b37-2ca2eff30acd"
      },
      "outputs": [],
      "source": [
        "len(set(pos.question1) | set(pos.question2)), g.number_of_nodes()"
      ]
    },
    {
      "cell_type": "markdown",
      "metadata": {
        "_cell_guid": "3dbef356-ef9c-972e-8308-4c529bceb440"
      },
      "source": [
        "The number of edges in g is equal to the number of positive rows."
      ]
    },
    {
      "cell_type": "code",
      "execution_count": null,
      "metadata": {
        "_cell_guid": "5e2d88c9-40fa-6772-2516-16608e7460d1"
      },
      "outputs": [],
      "source": [
        "len(pos), g.number_of_edges()"
      ]
    },
    {
      "cell_type": "markdown",
      "metadata": {
        "_cell_guid": "6ae9ef48-1f0b-031f-388b-e4d0d1ba92f3"
      },
      "source": [
        "The mean degree is about 2. This means that for questions that ever occur as duplicates, the average number of times that they occur as duplicates is 2."
      ]
    },
    {
      "cell_type": "code",
      "execution_count": null,
      "metadata": {
        "_cell_guid": "2763f01f-e03c-5a92-0dec-ddedd2075357"
      },
      "outputs": [],
      "source": [
        "d = g.degree()\n",
        "np.mean([d[k] for k in d])"
      ]
    },
    {
      "cell_type": "markdown",
      "metadata": {
        "_cell_guid": "7c24c0ba-b4ff-8c6d-842b-fc368a70a729"
      },
      "source": [
        "Here are a few medium-sized connected components:"
      ]
    },
    {
      "cell_type": "code",
      "execution_count": null,
      "metadata": {
        "_cell_guid": "f12424e7-6eae-5b89-4794-bc0f925095b9"
      },
      "outputs": [],
      "source": [
        "cc = filter(lambda x : (len(x) > 3) and (len(x) < 10), \n",
        "            nx.connected_component_subgraphs(g))\n",
        "g1 = next(cc)\n",
        "g1.nodes()"
      ]
    },
    {
      "cell_type": "code",
      "execution_count": null,
      "metadata": {
        "_cell_guid": "98127616-569c-b891-ebee-3b6f2eedc9ce"
      },
      "outputs": [],
      "source": [
        "# with block handles a deprecation warning that occurs inside nx.draw_networkx\n",
        "with warnings.catch_warnings():\n",
        "    warnings.simplefilter('ignore')\n",
        "    nx.draw_circular(g1, with_labels=True, alpha=0.5, font_size=8)\n",
        "    plt.show()"
      ]
    },
    {
      "cell_type": "code",
      "execution_count": null,
      "metadata": {
        "_cell_guid": "60bbe3dc-9783-8324-fd40-f5be87afc1a6"
      },
      "outputs": [],
      "source": [
        "g1 = next(cc)\n",
        "g1.nodes()"
      ]
    },
    {
      "cell_type": "code",
      "execution_count": null,
      "metadata": {
        "_cell_guid": "cd5329df-2291-087a-0b83-564ebdebed55"
      },
      "outputs": [],
      "source": [
        "with warnings.catch_warnings():\n",
        "    warnings.simplefilter('ignore')\n",
        "    nx.draw_circular(g1, with_labels=True, alpha=0.5, font_size=8)\n",
        "    plt.show()"
      ]
    },
    {
      "cell_type": "code",
      "execution_count": null,
      "metadata": {
        "_cell_guid": "38796f73-d268-c664-95ad-b0df31702e71"
      },
      "outputs": [],
      "source": [
        "g1 = next(cc)\n",
        "g1.nodes()"
      ]
    },
    {
      "cell_type": "code",
      "execution_count": null,
      "metadata": {
        "_cell_guid": "32f8ce52-9d15-c137-dd65-3f1f2eaa78e6"
      },
      "outputs": [],
      "source": [
        "with warnings.catch_warnings():\n",
        "    warnings.simplefilter('ignore')\n",
        "    nx.draw_circular(g1, with_labels=True, alpha=0.5, font_size=8)\n",
        "    plt.show()"
      ]
    },
    {
      "cell_type": "markdown",
      "metadata": {
        "_cell_guid": "6b343f3a-fdfe-2c51-c0d0-33dfac133803"
      },
      "source": [
        "So it looks like duplicates often occur in groups. The groups are not complete subgraphs, but they are pretty densely connected. Some of them are pretty big. Let's look at their sizes."
      ]
    },
    {
      "cell_type": "code",
      "execution_count": null,
      "metadata": {
        "_cell_guid": "1ad6fbbc-9a15-8368-a870-5752f5dcd7c2"
      },
      "outputs": [],
      "source": [
        "cc = nx.connected_component_subgraphs(g)\n",
        "node_cts = list(sub.number_of_nodes() for sub in cc)\n",
        "cc = nx.connected_component_subgraphs(g)\n",
        "edge_cts = list(sub.number_of_edges() for sub in cc)\n",
        "cts = pd.DataFrame({'nodes': node_cts, 'edges': edge_cts})\n",
        "cts['mean_deg'] = 2 * cts.edges / cts.nodes\n",
        "cts.nodes.clip_upper(10).value_counts().sort_index()"
      ]
    },
    {
      "cell_type": "code",
      "execution_count": null,
      "metadata": {
        "_cell_guid": "1967f422-8c60-eb71-7f32-47a2605645c9"
      },
      "outputs": [],
      "source": [
        "Most of the components have just 2 questions, the minimum possible. But there are also several thousand larger components."
      ]
    },
    {
      "cell_type": "code",
      "execution_count": null,
      "metadata": {
        "_cell_guid": "86dac020-ff48-2881-8f01-00f065e29c5f"
      },
      "outputs": [],
      "source": [
        "cts.plot.scatter('nodes', 'edges')\n",
        "plt.show()"
      ]
    },
    {
      "cell_type": "markdown",
      "metadata": {
        "_cell_guid": "fdec5dd9-992e-8cd8-1f6a-a868c25ca5c1"
      },
      "source": [
        "The largest components have over 100 nodes and 1000 edges. That means that the largest clusters of duplicates of duplicates occur on around 1% of the positive rows in train."
      ]
    },
    {
      "cell_type": "code",
      "execution_count": null,
      "metadata": {
        "_cell_guid": "01d17bdd-8baa-b87b-8389-ea73b0520d2b"
      },
      "outputs": [],
      "source": [
        "cts.plot.scatter('nodes', 'mean_deg')\n",
        "plt.show()"
      ]
    },
    {
      "cell_type": "markdown",
      "metadata": {
        "_cell_guid": "da25868d-3571-3878-f890-441e0d855abf"
      },
      "source": [
        "The visible straight diagonal edge on the top of the data are the components that are nearly complete subgraphs. "
      ]
    },
    {
      "cell_type": "markdown",
      "metadata": {
        "_cell_guid": "630b61b8-ab38-1e54-b29a-b003ba76a74c"
      },
      "source": [
        "### Conclusion (Work in Progress)\n",
        "\n",
        "So at this point, I'm not quite sure what to make of this, but it seems pretty important. Recall that the nodes map to unique questions and the edges map to positive rows. There are about 149,000 positive rows in train and almost half of them involve questions that are in connected groups of 5 or more related (duplicate-of-duplicate) questions."
      ]
    },
    {
      "cell_type": "code",
      "execution_count": null,
      "metadata": {
        "_cell_guid": "a140f911-7c47-58ed-a80d-5fa6d87c65a9"
      },
      "outputs": [],
      "source": [
        "cts[cts.nodes >= 5].edges.sum()"
      ]
    },
    {
      "cell_type": "markdown",
      "metadata": {
        "_cell_guid": "69356ede-2ba2-6848-3676-5b6a69a47166"
      },
      "source": [
        "I may add more here later, but in the mean time, please add your thoughts in the comments."
      ]
    }
  ],
  "metadata": {
    "_change_revision": 0,
    "_is_fork": false,
    "kernelspec": {
      "display_name": "Python 3",
      "language": "python",
      "name": "python3"
    },
    "language_info": {
      "codemirror_mode": {
        "name": "ipython",
        "version": 3
      },
      "file_extension": ".py",
      "mimetype": "text/x-python",
      "name": "python",
      "nbconvert_exporter": "python",
      "pygments_lexer": "ipython3",
      "version": "3.6.0"
    }
  },
  "nbformat": 4,
  "nbformat_minor": 0
}