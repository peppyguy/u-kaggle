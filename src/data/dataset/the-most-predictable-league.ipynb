{
  "cells": [
    {
      "cell_type": "code",
      "execution_count": null,
      "metadata": {
        "_cell_guid": "de7ae396-e225-5c82-3045-390046874da7"
      },
      "outputs": [],
      "source": [
        "%matplotlib inline\n",
        "\n",
        "import numpy as np\n",
        "import matplotlib.pyplot as plt\n",
        "import seaborn as sns\n",
        "import pandas as pd\n",
        "import sqlite3\n",
        "import numpy as np\n",
        "from numpy import random\n",
        "\n",
        "#load data (make sure you have downloaded database.sqlite)\n",
        "with sqlite3.connect('../input/database.sqlite') as con:\n",
        "    countries = pd.read_sql_query(\"SELECT * from Country\", con)\n",
        "    matches = pd.read_sql_query(\"SELECT * from Match\", con)\n",
        "    leagues = pd.read_sql_query(\"SELECT * from League\", con)\n",
        "    teams = pd.read_sql_query(\"SELECT * from Team\", con)"
      ]
    },
    {
      "cell_type": "code",
      "execution_count": null,
      "metadata": {
        "_cell_guid": "55559473-ecc7-b333-e0f5-185b5b85cc38"
      },
      "outputs": [],
      "source": [
        "#select relevant countries and merge with leagues\n",
        "\n",
        "selected_countries = ['England','France','Germany','Italy','Spain']\n",
        "\n",
        "countries = countries[countries.name.isin(selected_countries)]\n",
        "\n",
        "leagues = countries.merge(leagues,on='id',suffixes=('', '_y'))"
      ]
    },
    {
      "cell_type": "code",
      "execution_count": null,
      "metadata": {
        "_cell_guid": "5956e544-c24c-f3a8-a342-689ee41fb04f"
      },
      "outputs": [],
      "source": [
        "#select relevant fields\n",
        "\n",
        "matches = matches[matches.league_id.isin(leagues.id)]\n",
        "\n",
        "matches = matches[['id', 'country_id' ,'league_id', 'season', 'stage', 'date','match_api_id', 'home_team_api_id', 'away_team_api_id','B365H', 'B365D' ,'B365A']]\n",
        "\n",
        "matches.dropna(inplace=True)\n",
        "\n",
        "matches.head()"
      ]
    },
    {
      "cell_type": "code",
      "execution_count": null,
      "metadata": {
        "_cell_guid": "2c7c9222-1bce-7f64-85e0-1657eda8e286"
      },
      "outputs": [],
      "source": [
        "from scipy.stats import entropy\n",
        "\n",
        "\n",
        "\n",
        "def match_entropy(row):\n",
        "\n",
        "    odds = [row['B365H'],row['B365D'],row['B365A']]\n",
        "\n",
        "    #change odds to probability\n",
        "\n",
        "    probs = [1/o for o in odds]\n",
        "\n",
        "    #normalize to sum to 1\n",
        "\n",
        "    norm = sum(probs)\n",
        "\n",
        "    probs = [p/norm for p in probs]\n",
        "\n",
        "    return entropy(probs)\n",
        "\n",
        "\n",
        "\n",
        "#compute match entropy\n",
        "\n",
        "matches['entropy'] = matches.apply(match_entropy,axis=1)"
      ]
    },
    {
      "cell_type": "code",
      "execution_count": null,
      "metadata": {
        "_cell_guid": "9bffe3a1-7232-c026-367e-edae93f07b1d"
      },
      "outputs": [],
      "source": [
        "#compute mean entropy for every league in every season\n",
        "\n",
        "entropy_means = matches.groupby(('season','league_id')).entropy.mean()\n",
        "\n",
        "entropy_means = entropy_means.reset_index().pivot(index='season', columns='league_id', values='entropy')\n",
        "\n",
        "entropy_means.columns = [leagues[leagues.id==x].name.values[0] for x in entropy_means.columns]\n",
        "\n",
        "entropy_means.head(10)"
      ]
    },
    {
      "cell_type": "code",
      "execution_count": null,
      "metadata": {
        "_cell_guid": "adce55bd-a726-c3d4-bff0-3a27c71f350b"
      },
      "outputs": [],
      "source": [
        "#plot graph\n",
        "ax = entropy_means.plot(figsize=(12,8),marker='o')\n",
        "\n",
        "#set title\n",
        "plt.title('Leagues Predictability', fontsize=16)\n",
        "\n",
        "#set ticks roatation\n",
        "plt.xticks(rotation=50)\n",
        "\n",
        "#keep colors for next graph\n",
        "colors = [x.get_color() for x in ax.get_lines()]\n",
        "colors_mapping = dict(zip(leagues.id,colors))\n",
        "\n",
        "#remove x label\n",
        "ax.set_xlabel('')\n",
        "\n",
        "#locate legend \n",
        "plt.legend(loc='lower left')\n",
        "\n",
        "#add arrows\n",
        "ax.annotate('', xytext=(7.2, 1),xy=(7.2, 1.039),\n",
        "            arrowprops=dict(facecolor='black',arrowstyle=\"->, head_length=.7, head_width=.3\",linewidth=1), annotation_clip=False)\n",
        "\n",
        "ax.annotate('', xytext=(7.2, 0.96),xy=(7.2, 0.921),\n",
        "            arrowprops=dict(facecolor='black',arrowstyle=\"->, head_length=.7, head_width=.3\",linewidth=1), annotation_clip=False)\n",
        "\n",
        "ax.annotate('less predictable', xy=(7.3, 1.028), annotation_clip=False,fontsize=14,rotation='vertical')\n",
        "ax.annotate('more predictable', xy=(7.3, 0.952), annotation_clip=False,fontsize=14,rotation='vertical')\n"
      ]
    },
    {
      "cell_type": "code",
      "execution_count": null,
      "metadata": {
        "_cell_guid": "486cf53b-8447-1d26-a971-cf5c33a6194a"
      },
      "outputs": [],
      "source": [
        "from matplotlib.lines import Line2D\n",
        "\n",
        "\n",
        "barcelona = teams[teams.team_long_name=='Barcelona'].team_api_id.values[0]\n",
        "offsets = [-0.16,-0.08,0,0.08,0.16]\n",
        "offsets_mapping = dict(zip(colors_mapping.keys(),offsets))\n",
        "y = []\n",
        "x = []\n",
        "c = []\n",
        "\n",
        "i = -1\n",
        "for season,season_df in matches.groupby('season'):\n",
        "    i+=1\n",
        "    for team,name in zip(teams.team_api_id,teams.team_long_name):\n",
        "        team_df = season_df[(season_df.home_team_api_id==team)|(season_df.away_team_api_id==team)]\n",
        "        team_entropy = team_df.entropy.mean()\n",
        "        if team_entropy>0:\n",
        "            league_id = team_df.league_id.values[0]\n",
        "            x.append(i+offsets_mapping[league_id])\n",
        "            y.append(team_entropy)\n",
        "            c.append(colors_mapping[league_id])\n",
        "\n",
        "plt.figure(figsize=(16,8))\n",
        "plt.scatter(x,y,color=c,s=[60]*len(x))\n",
        "plt.title('Teams Predictability', fontsize=16)\n",
        "\n",
        "#create ticks and labels\n",
        "ax = plt.gca()\n",
        "plt.xlim((-0.5,7.5))\n",
        "plt.xticks(np.arange(0,8,1),rotation=50)\n",
        "\n",
        "#create grid\n",
        "ax.set_xticklabels(entropy_means.index,fontsize=12)\n",
        "for i in range(7):\n",
        "    ax.axvline(x=0.5+i,ls='--',c='w')\n",
        "ax.yaxis.grid(False)\n",
        "ax.xaxis.grid(False)\n",
        "\n",
        "#create legend\n",
        "circles = []\n",
        "labels = []\n",
        "for league_id,name in zip(leagues.id,leagues.name):\n",
        "    labels.append(name)\n",
        "    circles.append(Line2D([0], [0], linestyle=\"none\", marker=\"o\", markersize=8, markerfacecolor=colors_mapping[league_id]))\n",
        "plt.legend(circles, labels, numpoints=3, loc=(0.005,0.02))\n",
        "\n",
        "#add arrows\n",
        "ax.annotate('', xytext=(7.65, 0.93),xy=(7.65, 1.1),\n",
        "            arrowprops=dict(facecolor='black',arrowstyle=\"->, head_length=.7, head_width=.3\",linewidth=1), annotation_clip=False)\n",
        "\n",
        "ax.annotate('', xytext=(7.65, 0.77),xy=(7.65, 0.6),\n",
        "            arrowprops=dict(facecolor='black',arrowstyle=\"->, head_length=.7, head_width=.3\",linewidth=1), annotation_clip=False)\n",
        "\n",
        "ax.annotate('less predictable', xy=(7.75, 1.05), annotation_clip=False,fontsize=14,rotation='vertical')\n",
        "ax.annotate('more predictable', xy=(7.75, 0.73), annotation_clip=False,fontsize=14,rotation='vertical')\n",
        "\n",
        "#add labels\n",
        "ax.annotate('Barcelona', xy=(6.55, 0.634),fontsize=9)\n",
        "ax.annotate('B. Munich', xy=(6.5, 0.655),fontsize=9)\n",
        "ax.annotate('Real Madrid', xy=(6.51, 0.731),fontsize=9)\n",
        "ax.annotate('PSG', xy=(6.93, 0.78),fontsize=9)\n",
        "\n"
      ]
    },
    {
      "cell_type": "code",
      "execution_count": null,
      "metadata": {
        "_cell_guid": "cdb17be3-abf6-50fd-9cb0-02aeb6ee61ab",
        "collapsed": true
      },
      "outputs": [],
      "source": ""
    }
  ],
  "metadata": {
    "_change_revision": 0,
    "_is_fork": false,
    "kernelspec": {
      "display_name": "Python 3",
      "language": "python",
      "name": "python3"
    },
    "language_info": {
      "codemirror_mode": {
        "name": "ipython",
        "version": 3
      },
      "file_extension": ".py",
      "mimetype": "text/x-python",
      "name": "python",
      "nbconvert_exporter": "python",
      "pygments_lexer": "ipython3",
      "version": "3.5.2"
    }
  },
  "nbformat": 4,
  "nbformat_minor": 0
}