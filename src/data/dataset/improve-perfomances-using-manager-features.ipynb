{
  "cells": [
    {
      "cell_type": "markdown",
      "metadata": {
        "_cell_guid": "263fbf01-56ac-67a9-bfb9-51235a4356ea"
      },
      "source": [
        "(This post has been edited after Philippe Lonjoux's insightful comment. The amendments I made are highlighted in my answer to his comment.)\n",
        "\n",
        "\n",
        "Hello there!\n",
        "\n",
        "This notebook exploits the analysis I did [here][1] to boost the performance of a classifier.\n",
        "\n",
        "In particular, I will show how additional features computed from 'manager_id' can substantially improve performances by building upon the neat [\"Random Forest Starter\"][2] by Li Li\n",
        "\n",
        "  [1]: https://www.kaggle.com/den3b81/two-sigma-connect-rental-listing-inquiries/do-managers-matter-some-insights-on-manager-id\n",
        "  [2]: https://www.kaggle.com/aikinogard/two-sigma-connect-rental-listing-inquiries/random-forest-starter-with-numerical-features"
      ]
    },
    {
      "cell_type": "code",
      "execution_count": null,
      "metadata": {
        "_cell_guid": "19e68744-9cd3-66fd-5e2c-66180e54c2cb"
      },
      "outputs": [],
      "source": [
        "# ...let's import the modules\n",
        "import numpy as np\n",
        "import pandas as pd\n",
        "from sklearn.ensemble import RandomForestClassifier\n",
        "from sklearn.cross_validation import train_test_split\n",
        "from sklearn.metrics import log_loss\n",
        "\n",
        "import matplotlib.pyplot as plt\n",
        "%matplotlib inline"
      ]
    },
    {
      "cell_type": "code",
      "execution_count": null,
      "metadata": {
        "_cell_guid": "997d43f7-adbf-8191-b7a8-93a04a89ac36"
      },
      "outputs": [],
      "source": [
        "# ... and load the training data\n",
        "df = pd.read_json(open(\"../input/train.json\", \"r\"))"
      ]
    },
    {
      "cell_type": "markdown",
      "metadata": {
        "_cell_guid": "366b8080-1599-0df2-2a01-d5cf2a5618dd"
      },
      "source": [
        "### Naive feature engineering (from Li Li's Random Forest Starter)"
      ]
    },
    {
      "cell_type": "code",
      "execution_count": null,
      "metadata": {
        "_cell_guid": "5cf89004-1778-0311-239c-bb08ba882584"
      },
      "outputs": [],
      "source": [
        "df[\"num_photos\"] = df[\"photos\"].apply(len)\n",
        "df[\"num_features\"] = df[\"features\"].apply(len)\n",
        "df[\"num_description_words\"] = df[\"description\"].apply(lambda x: len(x.split(\" \")))\n",
        "df[\"created\"] = pd.to_datetime(df[\"created\"])\n",
        "df[\"created_year\"] = df[\"created\"].dt.year\n",
        "df[\"created_month\"] = df[\"created\"].dt.month\n",
        "df[\"created_day\"] = df[\"created\"].dt.day\n",
        "\n",
        "features_to_use = [\"bathrooms\", \"bedrooms\", \"latitude\", \"longitude\", \"price\",\n",
        "                   \"num_photos\", \"num_features\", \"num_description_words\",\n",
        "                   \"created_year\", \"created_month\", \"created_day\"]"
      ]
    },
    {
      "cell_type": "markdown",
      "metadata": {
        "_cell_guid": "ac6a220e-241f-fee1-5058-6202c7c59b00"
      },
      "source": [
        "### Basic encoding of 'manager_id', from SRK [\"XGBoost starter\"][1] \n",
        "\n",
        "\n",
        "  [1]: https://www.kaggle.com/sudalairajkumar/two-sigma-connect-rental-listing-inquiries/xgb-starter-in-python"
      ]
    },
    {
      "cell_type": "code",
      "execution_count": null,
      "metadata": {
        "_cell_guid": "6e14f1b6-004a-2545-b4c2-bfbb5c8b804c"
      },
      "outputs": [],
      "source": [
        "from sklearn import preprocessing\n",
        "\n",
        "lbl = preprocessing.LabelEncoder()\n",
        "lbl.fit(list(df['manager_id'].values))\n",
        "df['manager_id'] = lbl.transform(list(df['manager_id'].values))\n",
        "\n",
        "# let's add this feature\n",
        "features_to_use.append('manager_id')"
      ]
    },
    {
      "cell_type": "markdown",
      "metadata": {
        "_cell_guid": "c925af96-fdbc-b380-2ae6-093c05aa5df0"
      },
      "source": [
        "### Let's now add 3 columns contaning the fractions of 'low','medium' and 'high' interest level obtained by each manager in the training dataset. \n",
        "\n",
        "### We also add the simple 'manager_skill' feature I introduced in my [previous notebook][1].\n",
        "\n",
        "### We use mean values for those managers who don't have enough entries for being ranked (minimum = 20 here).\n",
        "\n",
        "\n",
        "----------\n",
        "\n",
        "\n",
        "### As pointed out by Philippe Lonjoux's, since these new features involve the target variable, we split the dataset first so to avoid \"cheating\" during the validation phase. The features are computed for each manager on the training part and the values obtained are then copied for the instances in the validation dataset. \n",
        "\n",
        "\n",
        "  [1]: https://www.kaggle.com/den3b81/two-sigma-connect-rental-listing-inquiries/do-managers-matter-some-insights-on-manager-id."
      ]
    },
    {
      "cell_type": "code",
      "execution_count": null,
      "metadata": {
        "_cell_guid": "b23bf452-5229-4d7d-9ec9-f9111c15a90b"
      },
      "outputs": [],
      "source": [
        "# Let's split the data\n",
        "X = df[features_to_use]\n",
        "y = df[\"interest_level\"]\n",
        "X_train, X_val, y_train, y_val = train_test_split(X, y, test_size=0.33)"
      ]
    },
    {
      "cell_type": "code",
      "execution_count": null,
      "metadata": {
        "_cell_guid": "ace4ab36-1e86-27e8-dc38-2a30b3721f35"
      },
      "outputs": [],
      "source": [
        "# compute fractions and count for each manager\n",
        "temp = pd.concat([X_train.manager_id,pd.get_dummies(y_train)], axis = 1).groupby('manager_id').mean()\n",
        "temp.columns = ['high_frac','low_frac', 'medium_frac']\n",
        "temp['count'] = X_train.groupby('manager_id').count().iloc[:,1]\n",
        "\n",
        "# remember the manager_ids look different because we encoded them in the previous step \n",
        "print(temp.tail(10))"
      ]
    },
    {
      "cell_type": "code",
      "execution_count": null,
      "metadata": {
        "_cell_guid": "ad7b6860-c82e-cf01-587d-5e5ca3e3a1df"
      },
      "outputs": [],
      "source": [
        "# compute skill\n",
        "temp['manager_skill'] = temp['high_frac']*2 + temp['medium_frac']\n",
        "\n",
        "# get ixes for unranked managers...\n",
        "unranked_managers_ixes = temp['count']<20\n",
        "# ... and ranked ones\n",
        "ranked_managers_ixes = ~unranked_managers_ixes\n",
        "\n",
        "# compute mean values from ranked managers and assign them to unranked ones\n",
        "mean_values = temp.loc[ranked_managers_ixes, ['high_frac','low_frac', 'medium_frac','manager_skill']].mean()\n",
        "print(mean_values)\n",
        "temp.loc[unranked_managers_ixes,['high_frac','low_frac', 'medium_frac','manager_skill']] = mean_values.values\n",
        "print(temp.tail(10))"
      ]
    },
    {
      "cell_type": "code",
      "execution_count": null,
      "metadata": {
        "_cell_guid": "fcc24149-93dc-9044-59b6-dc21f38f1e4c"
      },
      "outputs": [],
      "source": [
        "# inner join to assign manager features to the managers in the training dataframe\n",
        "X_train = X_train.merge(temp.reset_index(),how='left', left_on='manager_id', right_on='manager_id')\n",
        "X_train.head()"
      ]
    },
    {
      "cell_type": "code",
      "execution_count": null,
      "metadata": {
        "_cell_guid": "f731886d-5904-d9f7-2dab-8548d57409e6"
      },
      "outputs": [],
      "source": [
        "# add the features computed on the training dataset to the validation dataset\n",
        "X_val = X_val.merge(temp.reset_index(),how='left', left_on='manager_id', right_on='manager_id')\n",
        "new_manager_ixes = X_val['high_frac'].isnull()\n",
        "X_val.loc[new_manager_ixes,['high_frac','low_frac', 'medium_frac','manager_skill']] = mean_values.values\n",
        "X_val.head()"
      ]
    },
    {
      "cell_type": "code",
      "execution_count": null,
      "metadata": {
        "_cell_guid": "dce59b77-7fad-fa61-7d51-ef1a1dcce50c"
      },
      "outputs": [],
      "source": [
        "# add manager fractions and skills to the features to use\n",
        "features_to_use.extend(['high_frac','low_frac', 'medium_frac','manager_skill'])"
      ]
    },
    {
      "cell_type": "markdown",
      "metadata": {
        "_cell_guid": "6e62fa0c-8320-4b68-18fc-a6d2b3dc6415"
      },
      "source": [
        "### Let's train and validate a few random forest classifiers to see whether we can improve performances with thee additional features"
      ]
    },
    {
      "cell_type": "markdown",
      "metadata": {
        "_cell_guid": "ca5d185e-4ed1-9fde-f63b-fda7ff553339"
      },
      "source": [
        "### Basic model with no manager-related features, this is the model in Li Li's Random Forest Starter"
      ]
    },
    {
      "cell_type": "code",
      "execution_count": null,
      "metadata": {
        "_cell_guid": "ba9fb74f-8c36-609b-a943-bba48e0cf808"
      },
      "outputs": [],
      "source": [
        "# features to use for this classifier == only basic numerical\n",
        "these_features = [f for f in features_to_use if f not in ['manager_id','high_frac','low_frac', 'medium_frac','manager_skill']]\n",
        "\n",
        "clf = RandomForestClassifier(n_estimators=1000)\n",
        "clf.fit(X_train[these_features], y_train)\n",
        "y_val_pred = clf.predict_proba(X_val[these_features])\n",
        "log_loss(y_val, y_val_pred)"
      ]
    },
    {
      "cell_type": "code",
      "execution_count": null,
      "metadata": {
        "_cell_guid": "c78cac29-435a-d4fb-c447-ba6e2dd0aa50"
      },
      "outputs": [],
      "source": [
        "# Let's visualize features importance, \n",
        "# price is the most important feature, followed by number of descriptive words, latitude and longitude\n",
        "pd.Series(index = these_features, data = clf.feature_importances_).sort_values().plot(kind = 'bar')"
      ]
    },
    {
      "cell_type": "markdown",
      "metadata": {
        "_cell_guid": "026382e8-7664-b996-dc02-17ba207cfd28"
      },
      "source": [
        "### Let's add manager_id and see if we can get some improvement already"
      ]
    },
    {
      "cell_type": "code",
      "execution_count": null,
      "metadata": {
        "_cell_guid": "be13dddd-9cfd-fb76-ad3e-c232236ea665"
      },
      "outputs": [],
      "source": [
        "# add manager_id\n",
        "these_features = [f for f in features_to_use if f not in ['high_frac','low_frac', 'medium_frac','manager_skill']]\n",
        "\n",
        "clf = RandomForestClassifier(n_estimators=1000)\n",
        "clf.fit(X_train[these_features], y_train)\n",
        "y_val_pred = clf.predict_proba(X_val[these_features])\n",
        "log_loss(y_val, y_val_pred)"
      ]
    },
    {
      "cell_type": "code",
      "execution_count": null,
      "metadata": {
        "_cell_guid": "8243c344-169a-346f-728d-9c167aca2be1"
      },
      "outputs": [],
      "source": [
        "# Let's visualize features importance\n",
        "pd.Series(index = these_features, data = clf.feature_importances_).sort_values().plot(kind = 'bar')"
      ]
    },
    {
      "cell_type": "markdown",
      "metadata": {
        "_cell_guid": "c80e75d4-5e8a-3608-36f5-21a015d9ba3c"
      },
      "source": [
        "### We get a small improvement, but we can do better. Let's remove 'manager_id' and use manager interest fractions and skill instead"
      ]
    },
    {
      "cell_type": "code",
      "execution_count": null,
      "metadata": {
        "_cell_guid": "b1a828c9-4c22-5ada-716c-bdcc1d628311"
      },
      "outputs": [],
      "source": [
        "# no manager_id, use fractions and skill instad\n",
        "these_features = [f for f in features_to_use if f not in ['manager_id']]\n",
        "\n",
        "clf = RandomForestClassifier(n_estimators=1000)\n",
        "clf.fit(X_train[these_features], y_train)\n",
        "y_val_pred = clf.predict_proba(X_val[these_features])\n",
        "log_loss(y_val, y_val_pred)"
      ]
    },
    {
      "cell_type": "code",
      "execution_count": null,
      "metadata": {
        "_cell_guid": "5a2763d9-146e-b643-9cd2-ba576ef4a41d"
      },
      "outputs": [],
      "source": [
        "# Let's visualize features importance\n",
        "pd.Series(index = these_features, data = clf.feature_importances_).sort_values().plot(kind = 'bar')"
      ]
    },
    {
      "cell_type": "markdown",
      "metadata": {
        "_cell_guid": "6115eed0-b755-8b33-9f7b-6b7bfb14f305"
      },
      "source": [
        "### That's an improvement, but maybe we can do better if we just use the fractions."
      ]
    },
    {
      "cell_type": "code",
      "execution_count": null,
      "metadata": {
        "_cell_guid": "9a8122d1-7f04-ecd9-4c3c-06dd2439bf74"
      },
      "outputs": [],
      "source": [
        "# no manager_id, no skill, use fractions\n",
        "these_features = [f for f in features_to_use if f not in ['manager_id','manager_skill']]\n",
        "\n",
        "clf = RandomForestClassifier(n_estimators=1000)\n",
        "clf.fit(X_train[these_features], y_train)\n",
        "y_val_pred = clf.predict_proba(X_val[these_features])\n",
        "log_loss(y_val, y_val_pred)"
      ]
    },
    {
      "cell_type": "code",
      "execution_count": null,
      "metadata": {
        "_cell_guid": "232ce6d8-0ede-7d4c-1a66-fbe36ed01646"
      },
      "outputs": [],
      "source": [
        "# Let's visualize features importance\n",
        "pd.Series(index = these_features, data = clf.feature_importances_).sort_values().plot(kind = 'bar')"
      ]
    },
    {
      "cell_type": "markdown",
      "metadata": {
        "_cell_guid": "90a9c4d0-ba07-1c04-a893-b03813e5b647"
      },
      "source": [
        "### What if we use the manager skill and not the fractions?!"
      ]
    },
    {
      "cell_type": "code",
      "execution_count": null,
      "metadata": {
        "_cell_guid": "0fd4fea5-16e3-4897-0396-fd83bcbe003d"
      },
      "outputs": [],
      "source": [
        "# no manager_id, no fraction, use skill instead\n",
        "these_features = [f for f in features_to_use if f not in ['manager_id','high_frac','low_frac', 'medium_frac']]\n",
        "\n",
        "clf = RandomForestClassifier(n_estimators=1000)\n",
        "clf.fit(X_train[these_features], y_train)\n",
        "y_val_pred = clf.predict_proba(X_val[these_features])\n",
        "log_loss(y_val, y_val_pred)"
      ]
    },
    {
      "cell_type": "code",
      "execution_count": null,
      "metadata": {
        "_cell_guid": "cc4385b9-e89f-1529-f200-2e4ede1b9eba"
      },
      "outputs": [],
      "source": [
        "# Let's visualize features importance\n",
        "pd.Series(index = these_features, data = clf.feature_importances_).sort_values().plot(kind = 'bar')"
      ]
    },
    {
      "cell_type": "markdown",
      "metadata": {
        "_cell_guid": "3ce3fb4f-f6dc-ecd4-4922-712af0575726"
      },
      "source": [
        "### Oh cool, manager_skill still does boost our performances further and it is almost as important as the price feature.\n",
        "\n",
        "### Therefore, I suggest you to use this feature in your classifier, no matter its nature. I am confident you gonna get a nice boost if you are not including similar features already in your model.\n",
        "\n",
        "\n",
        "### Cheers"
      ]
    }
  ],
  "metadata": {
    "_change_revision": 0,
    "_is_fork": false,
    "kernelspec": {
      "display_name": "Python 3",
      "language": "python",
      "name": "python3"
    },
    "language_info": {
      "codemirror_mode": {
        "name": "ipython",
        "version": 3
      },
      "file_extension": ".py",
      "mimetype": "text/x-python",
      "name": "python",
      "nbconvert_exporter": "python",
      "pygments_lexer": "ipython3",
      "version": "3.6.0"
    }
  },
  "nbformat": 4,
  "nbformat_minor": 0
}