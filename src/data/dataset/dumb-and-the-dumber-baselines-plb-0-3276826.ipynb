{
  "cells": [
    {
      "cell_type": "markdown",
      "metadata": {
        "_cell_guid": "6e0ac3af-cafb-e976-048b-dafa1a3fd21a"
      },
      "source": [
        "Hi, Kagglers!\n",
        "\n",
        "Hereafter I will try to create **some baselines for your submissions to start from.**\n",
        "<br> This Kernel touches **submission part mostly AND ONE WELL-KNOWN FILM :)**\n",
        "<br/>For more details about Dataset - please check my **[Data Exploration Kernel](https://www.kaggle.com/frednavruzov/instacart-exploratory-data-analysis/)**\n",
        "\n",
        "**Brief description**\n",
        "\n",
        "The Dataset is an anonymized sample of over 3,000,000 grocery orders from more than 200,000 Instacart users. \n",
        "<br>The goal of a competition is to predict which previously purchased products will be in a user\u2019s next order. \n",
        "\n",
        "### Stay tuned, this notebook will be updated on a regular basis\n",
        "**P.s. Upvotes and comments would let me update it faster and in a more smart way :)**"
      ]
    },
    {
      "cell_type": "code",
      "execution_count": null,
      "metadata": {
        "_cell_guid": "5d2dc24a-5bac-bb90-1f41-58bef9f6e665"
      },
      "outputs": [],
      "source": [
        "import pandas as pd # dataframes\n",
        "import numpy as np # algebra & calculus\n",
        "import nltk # text preprocessing & manipulation\n",
        "# from textblob import TextBlob\n",
        "import matplotlib.pyplot as plt # plotting\n",
        "import seaborn as sns # plotting\n",
        "\n",
        "from functools import partial # to reduce df memory consumption by applying to_numeric\n",
        "\n",
        "color = sns.color_palette() # adjusting plotting style\n",
        "import warnings\n",
        "warnings.filterwarnings('ignore') # silence annoying warnings"
      ]
    },
    {
      "cell_type": "code",
      "execution_count": null,
      "metadata": {
        "_cell_guid": "de32e09a-e8c4-54b9-a086-262e487fb94b"
      },
      "outputs": [],
      "source": [
        "# aisles\n",
        "aisles = pd.read_csv('../input/aisles.csv', engine='c')\n",
        "print('Total aisles: {}'.format(aisles.shape[0]))\n",
        "aisles.head()"
      ]
    },
    {
      "cell_type": "code",
      "execution_count": null,
      "metadata": {
        "_cell_guid": "4056253f-0821-6ef9-2ae8-f48cf706f70b"
      },
      "outputs": [],
      "source": [
        "# departments\n",
        "departments = pd.read_csv('../input/departments.csv', engine='c')\n",
        "print('Total departments: {}'.format(departments.shape[0]))\n",
        "departments.head()"
      ]
    },
    {
      "cell_type": "code",
      "execution_count": null,
      "metadata": {
        "_cell_guid": "48eb42e4-2aef-c925-7355-cad40a7f45f7"
      },
      "outputs": [],
      "source": [
        "# products\n",
        "products = pd.read_csv('../input/products.csv', engine='c')\n",
        "print('Total products: {}'.format(products.shape[0]))\n",
        "products.head(5)"
      ]
    },
    {
      "cell_type": "code",
      "execution_count": null,
      "metadata": {
        "_cell_guid": "308fc55e-4f9a-1048-23a9-866fd60461e9"
      },
      "outputs": [],
      "source": [
        "# combine aisles, departments and products (left joined to products)\n",
        "goods = pd.merge(left=pd.merge(left=products, right=departments, how='left'), right=aisles, how='left')\n",
        "# to retain '-' and make product names more \"standard\"\n",
        "goods.product_name = goods.product_name.str.replace(' ', '_').str.lower() \n",
        "print(goods.info())\n",
        "\n",
        "goods.head()"
      ]
    },
    {
      "cell_type": "code",
      "execution_count": null,
      "metadata": {
        "_cell_guid": "d9c1e0bd-0405-f917-3d52-6a70a7b1d877"
      },
      "outputs": [],
      "source": [
        "# load datasets\n",
        "\n",
        "# train dataset\n",
        "op_train = pd.read_csv('../input/order_products__train.csv', engine='c', \n",
        "                       dtype={'order_id': np.int32, 'product_id': np.int32, \n",
        "                              'add_to_cart_order': np.int16, 'reordered': np.int8})\n",
        "print('Total ordered products(train): {}'.format(op_train.shape[0]))\n",
        "op_train.head(10)"
      ]
    },
    {
      "cell_type": "code",
      "execution_count": null,
      "metadata": {
        "_cell_guid": "aae2f26b-839c-e9ca-c257-f5ca04a4cf01"
      },
      "outputs": [],
      "source": [
        "# test dataset (submission)\n",
        "test = pd.read_csv('../input/sample_submission.csv', engine='c')\n",
        "print('Total orders(test): {}'.format(test.shape[0]))\n",
        "test.head()"
      ]
    },
    {
      "cell_type": "code",
      "execution_count": null,
      "metadata": {
        "_cell_guid": "45b3375a-34e3-fd10-4e37-a1a399a17af8"
      },
      "outputs": [],
      "source": [
        "#prior dataset\n",
        "op_prior = pd.read_csv('../input/order_products__prior.csv', engine='c', \n",
        "                       dtype={'order_id': np.int32, \n",
        "                              'product_id': np.int32, \n",
        "                              'add_to_cart_order': np.int16, \n",
        "                              'reordered': np.int8})\n",
        "\n",
        "print('Total ordered products(prior): {}'.format(op_prior.shape[0]))\n",
        "op_prior.head()"
      ]
    },
    {
      "cell_type": "code",
      "execution_count": null,
      "metadata": {
        "_cell_guid": "a9912b83-120e-bd04-62fe-a29e45a23e34"
      },
      "outputs": [],
      "source": [
        "# orders\n",
        "orders = pd.read_csv('../input/orders.csv', engine='c', dtype={'order_id': np.int32, \n",
        "                                                           'user_id': np.int32, \n",
        "                                                           'order_number': np.int32, \n",
        "                                                           'order_dow': np.int8, \n",
        "                                                           'order_hour_of_day': np.int8, \n",
        "                                                           'days_since_prior_order': np.float16})\n",
        "print('Total orders: {}'.format(orders.shape[0]))\n",
        "print(orders.info())\n",
        "orders.head()"
      ]
    },
    {
      "cell_type": "markdown",
      "metadata": {
        "_cell_guid": "61aa1759-bfaf-9a44-62f6-c389e5f0ce02"
      },
      "source": [
        "### Combine (orders, order details, product hierarchy) into 1 dataframe order_details \n",
        "**(be careful, high memory consumption, about 3GB RAM itself)**"
      ]
    },
    {
      "cell_type": "code",
      "execution_count": null,
      "metadata": {
        "_cell_guid": "58bf398d-5266-965d-feb7-2639306650dc"
      },
      "outputs": [],
      "source": [
        "from functools import partial\n",
        "\n",
        "# merge train and prior together iteratively, to fit into 8GB kernel RAM\n",
        "# split df indexes into parts\n",
        "indexes = np.linspace(0, len(op_prior), num=10, dtype=np.int32)\n",
        "\n",
        "# initialize it with train dataset\n",
        "order_details = pd.merge(\n",
        "                left=op_train,\n",
        "                 right=orders, \n",
        "                 how='left', \n",
        "                 on='order_id'\n",
        "        ).apply(partial(pd.to_numeric, errors='ignore', downcast='integer'))\n",
        "\n",
        "# add order hierarchy\n",
        "order_details = pd.merge(\n",
        "                left=order_details,\n",
        "                right=goods[['product_id', \n",
        "                             'aisle_id', \n",
        "                             'department_id']].apply(partial(pd.to_numeric, \n",
        "                                                             errors='ignore', \n",
        "                                                             downcast='integer')),\n",
        "                how='left',\n",
        "                on='product_id'\n",
        ")\n",
        "\n",
        "print(order_details.shape, op_train.shape)\n",
        "\n",
        "# delete (redundant now) dataframes\n",
        "del op_train\n",
        "\n",
        "order_details.head()"
      ]
    },
    {
      "cell_type": "code",
      "execution_count": null,
      "metadata": {
        "_cell_guid": "c0a66ae7-0b83-2d8e-962f-c2e48df84e25"
      },
      "outputs": [],
      "source": [
        "%%time\n",
        "# update by small portions\n",
        "for i in range(len(indexes)-1):\n",
        "    order_details = pd.concat(\n",
        "        [   \n",
        "            order_details,\n",
        "            pd.merge(left=pd.merge(\n",
        "                            left=op_prior.loc[indexes[i]:indexes[i+1], :],\n",
        "                            right=goods[['product_id', \n",
        "                                         'aisle_id', \n",
        "                                         'department_id' ]].apply(partial(pd.to_numeric, \n",
        "                                                                          errors='ignore', \n",
        "                                                                          downcast='integer')),\n",
        "                            how='left',\n",
        "                            on='product_id'\n",
        "                            ),\n",
        "                     right=orders, \n",
        "                     how='left', \n",
        "                     on='order_id'\n",
        "                ) #.apply(partial(pd.to_numeric, errors='ignore', downcast='integer'))\n",
        "        ]\n",
        "    )\n",
        "        \n",
        "print('Datafame length: {}'.format(order_details.shape[0]))\n",
        "print('Memory consumption: {:.2f} Mb'.format(sum(order_details.memory_usage(index=True, \n",
        "                                                                         deep=True) / 2**20)))\n",
        "# check dtypes to see if we use memory effectively\n",
        "print(order_details.dtypes)\n",
        "\n",
        "# make sure we didn't forget to retain test dataset :D\n",
        "test_orders = orders[orders.eval_set == 'test']\n",
        "\n",
        "# delete (redundant now) dataframes\n",
        "del op_prior, orders"
      ]
    },
    {
      "cell_type": "markdown",
      "metadata": {
        "_cell_guid": "49ea30bd-590e-7a25-f693-68de1989983b"
      },
      "source": [
        "### 1. Greedy Dumb Submission :) <br>(0.2164845 Public LB Score)\n",
        "![Lloyd level, still better than banana baseline][1]\n",
        "\n",
        "\n",
        "  [1]: http://www.punchnels.com/wp-content/uploads/Jim_Carrey_Dumb-and-Dumber-Inside.jpg"
      ]
    },
    {
      "cell_type": "code",
      "execution_count": null,
      "metadata": {
        "_cell_guid": "e44831e4-1634-320b-de19-af004bbf3f5c"
      },
      "outputs": [],
      "source": [
        "%%time\n",
        "# dumb submission\n",
        "test_history = order_details[(order_details.user_id.isin(test_orders.user_id))]\\\n",
        ".groupby('user_id')['product_id'].apply(lambda x: ' '.join([str(e) for e in set(x)])).reset_index()\n",
        "test_history.columns = ['user_id', 'products']\n",
        "\n",
        "test_history = pd.merge(left=test_history, \n",
        "                        right=test_orders, \n",
        "                        how='right', \n",
        "                        on='user_id')[['order_id', 'products']]\n",
        "\n",
        "test_history.to_csv('dumb_submission.csv', encoding='utf-8', index=False)"
      ]
    },
    {
      "cell_type": "markdown",
      "metadata": {
        "_cell_guid": "e81e2cdc-54ee-14dd-4a95-3cc4ebccf7cc"
      },
      "source": [
        "### Still Greedy But Smarter (Customer Will Take All Reordered) <br>(0.2996690 Public LB Score)\n",
        "![Lloyd appreciates this][1]\n",
        "\n",
        "\n",
        "  [1]: https://i.ytimg.com/vi/CHCmLxqTPOs/hqdefault.jpg"
      ]
    },
    {
      "cell_type": "code",
      "execution_count": null,
      "metadata": {
        "_cell_guid": "3271c064-9c30-cb82-2c2b-aa176f1c7319"
      },
      "outputs": [],
      "source": [
        "%%time\n",
        "# dumb submission\n",
        "test_history = order_details[(order_details.user_id.isin(test_orders.user_id)) \n",
        "                             & (order_details.reordered == 1)]\\\n",
        ".groupby('user_id')['product_id'].apply(lambda x: ' '.join([str(e) for e in set(x)])).reset_index()\n",
        "test_history.columns = ['user_id', 'products']\n",
        "\n",
        "test_history = pd.merge(left=test_history, \n",
        "                        right=test_orders, \n",
        "                        how='right', \n",
        "                        on='user_id')[['order_id', 'products']]\n",
        "\n",
        "test_history.to_csv('dumb2_subm.csv', encoding='utf-8', index=False)"
      ]
    },
    {
      "cell_type": "markdown",
      "metadata": {
        "_cell_guid": "19b7aa9b-15a1-264e-d52a-f3cefefda505"
      },
      "source": [
        "### Less Dumb - Repeat Last Order<br>(0.3276746 Public LB Score)\n",
        "![Lloyd appreciates this][1]\n",
        "\n",
        "\n",
        "  [1]: https://www.spin1038.com/content/000/images/000052/54551_60_news_hub_multi_630x0.png"
      ]
    },
    {
      "cell_type": "code",
      "execution_count": null,
      "metadata": {
        "_cell_guid": "f9323217-4de2-d227-44a9-d2045990fff0"
      },
      "outputs": [],
      "source": [
        "%%time\n",
        "test_history = order_details[(order_details.user_id.isin(test_orders.user_id))]\n",
        "last_orders = test_history.groupby('user_id')['order_number'].max()\n",
        "\n",
        "def get_last_orders():\n",
        "    t = pd.merge(\n",
        "            left=pd.merge(\n",
        "                    left=last_orders.reset_index(),\n",
        "                    right=test_history,\n",
        "                    how='inner',\n",
        "                    on=['user_id', 'order_number']\n",
        "                )[['user_id', 'product_id']],\n",
        "            right=test_orders[['user_id', 'order_id']],\n",
        "            how='left',\n",
        "            on='user_id'\n",
        "        ).groupby('order_id')['product_id'].apply(lambda x: ' '.join([str(e) for e in set(x)])).reset_index()\n",
        "    t.columns = ['order_id', 'products']\n",
        "    return t\n",
        "\n",
        "# save submission\n",
        "get_last_orders().to_csv('less_dumb_subm_last_order.csv', encoding='utf-8', index=False)"
      ]
    },
    {
      "cell_type": "markdown",
      "metadata": {
        "_cell_guid": "f208bfb5-2e5d-ae33-4822-663a75dd1a7a"
      },
      "source": [
        "### Less Dumb - Repeat Last Order (Reordered Products Only)<br>(0.3276826 Public LB Score)\n",
        "![America is great again!][1]\n",
        "\n",
        "\n",
        "  [1]: http://www.totalprosports.com/wp-content/uploads/2016/11/lloyd-and-harry-dumb-and-dumber.jpg"
      ]
    },
    {
      "cell_type": "code",
      "execution_count": null,
      "metadata": {
        "_cell_guid": "0570a9f6-ce1b-564b-af1f-4633558ae75b"
      },
      "outputs": [],
      "source": [
        "%%time\n",
        "test_history = order_details[(order_details.user_id.isin(test_orders.user_id))]\n",
        "last_orders = test_history.groupby('user_id')['order_number'].max()\n",
        "\n",
        "def get_last_orders_reordered():\n",
        "    t = pd.merge(\n",
        "            left=pd.merge(\n",
        "                    left=last_orders.reset_index(),\n",
        "                    right=test_history[test_history.reordered == 1],\n",
        "                    how='left',\n",
        "                    on=['user_id', 'order_number']\n",
        "                )[['user_id', 'product_id']],\n",
        "            right=test_orders[['user_id', 'order_id']],\n",
        "            how='left',\n",
        "            on='user_id'\n",
        "        ).fillna(-1).groupby('order_id')['product_id'].apply(lambda x: ' '.join([str(int(e)) for e in set(x)]) \n",
        "                                                  ).reset_index().replace(to_replace='-1', \n",
        "                                                                          value='None')\n",
        "    t.columns = ['order_id', 'products']\n",
        "    return t\n",
        "\n",
        "# save submission\n",
        "get_last_orders_reordered().to_csv('less_dumb_subm_last_order_reordered_only.csv', \n",
        "                         encoding='utf-8', \n",
        "                         index=False)"
      ]
    },
    {
      "cell_type": "markdown",
      "metadata": {
        "_cell_guid": "ea82101d-c960-eeb0-4fbd-b43109cfdd9b"
      },
      "source": [
        "### To be continued... \n",
        "\n",
        "**(TODO: more creative baselines)**"
      ]
    },
    {
      "cell_type": "markdown",
      "metadata": {
        "_cell_guid": "73a89be7-bde8-d244-f392-bee7ea529932"
      },
      "source": [
        "### Stay tuned, this notebook will be updated on a regular basis\n",
        "**P.s. Upvotes and comments would let me update it faster and in a more smart way :)**"
      ]
    }
  ],
  "metadata": {
    "_change_revision": 0,
    "_is_fork": false,
    "kernelspec": {
      "display_name": "Python 3",
      "language": "python",
      "name": "python3"
    },
    "language_info": {
      "codemirror_mode": {
        "name": "ipython",
        "version": 3
      },
      "file_extension": ".py",
      "mimetype": "text/x-python",
      "name": "python",
      "nbconvert_exporter": "python",
      "pygments_lexer": "ipython3",
      "version": "3.6.0"
    }
  },
  "nbformat": 4,
  "nbformat_minor": 0
}