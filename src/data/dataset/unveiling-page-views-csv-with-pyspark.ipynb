{
  "cells": [
    {
      "cell_type": "markdown",
      "metadata": {
        "_cell_guid": "5c42ed67-f3c3-f3f2-17f0-631d55c9adbd"
      },
      "source": [
        "In this notebook, I leverage the power of a **Spark cluster** to explore the large (~88GB) page_views.csv dataset and analyze its relationshiop with events.csv.  \n",
        "After some hours of processing, we've got answer to questions like: \n",
        "\n",
        "* **How to join page_views.csv and events.csv?**\n",
        "* **Is events.csv a subset of page_views.csv?**\n",
        "* **Are there additional page views for users in events.csv?**  "
      ]
    },
    {
      "cell_type": "markdown",
      "metadata": {
        "_cell_guid": "70ede1a4-aaa1-e163-c0f7-df025f594f58"
      },
      "source": [
        "**IMPORTANT:** This Jupyter notebook was implemented in my own Spark cluster, and it was not possible to share the notebook as a Kernel without actually running it as a Kernel (which obviously would not be possible).  \n",
        "**Thus, you can see the [full notebook on my GitHub](https://github.com/gabrielspmoreira/static_resources/blob/gh-pages/Kaggle-Outbrain-PageViews_EventsAnalytics.ipynb).**"
      ]
    },
    {
      "cell_type": "markdown",
      "metadata": {
        "_cell_guid": "abd43ba8-5636-f1a5-31c6-6ec39930d889"
      },
      "source": [
        "**If this Kaggle kernel helps you, don't forget to thumbs it up! ;)**"
      ]
    },
    {
      "cell_type": "markdown",
      "metadata": {
        "_cell_guid": "21253ccd-170d-155a-8c3f-2517de1bd710"
      },
      "source": [
        "By [Gabriel S. P. Moreira](https://about.me/gspmoreira)"
      ]
    },
    {
      "cell_type": "markdown",
      "metadata": {
        "_cell_guid": "e7699cf4-9c4c-5ae6-dcf3-9b8c04f14906"
      },
      "source": ""
    }
  ],
  "metadata": {
    "_change_revision": 0,
    "_is_fork": false,
    "kernelspec": {
      "display_name": "Python 3",
      "language": "python",
      "name": "python3"
    },
    "language_info": {
      "codemirror_mode": {
        "name": "ipython",
        "version": 3
      },
      "file_extension": ".py",
      "mimetype": "text/x-python",
      "name": "python",
      "nbconvert_exporter": "python",
      "pygments_lexer": "ipython3",
      "version": "3.5.2"
    }
  },
  "nbformat": 4,
  "nbformat_minor": 0
}