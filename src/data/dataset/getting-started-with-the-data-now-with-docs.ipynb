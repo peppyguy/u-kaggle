{
  "cells": [
    {
      "cell_type": "markdown",
      "metadata": {
        "_cell_guid": "f37a9596-11de-4330-6e6d-2fda24efdba3"
      },
      "source": [
        "This is based on our official notebook - not something I can take credit for :)\n",
        "https://github.com/planetlabs/planet-amazon-deforestation/blob/master/planet_chip_examples.ipynb\n",
        "\n",
        "# *Planet: Understanding the Amazon from Space* challenge\n",
        "\n",
        "This notebook will show you how to do some basic manipulation of the images and label files."
      ]
    },
    {
      "cell_type": "code",
      "execution_count": null,
      "metadata": {
        "_cell_guid": "9018e828-1983-15e2-6566-b93fa759ca04"
      },
      "outputs": [],
      "source": [
        "import sys\n",
        "import os\n",
        "import subprocess\n",
        "\n",
        "from six import string_types\n",
        "\n",
        "# Make sure you have all of these packages installed, e.g. via pip\n",
        "import numpy as np\n",
        "import pandas as pd\n",
        "import seaborn as sns\n",
        "import matplotlib.pyplot as plt\n",
        "import matplotlib.image as mpimg\n",
        "import scipy\n",
        "from skimage import io\n",
        "from scipy import ndimage\n",
        "from IPython.display import display\n",
        "%matplotlib inline"
      ]
    },
    {
      "cell_type": "code",
      "execution_count": null,
      "metadata": {
        "_cell_guid": "6e51259c-c390-6751-a321-2ede2b312a7c"
      },
      "outputs": [],
      "source": [
        "!ls -lha ../input"
      ]
    },
    {
      "cell_type": "code",
      "execution_count": null,
      "metadata": {
        "_cell_guid": "a4f4f743-8c83-28b6-b759-1f85d91bd4f9"
      },
      "outputs": [],
      "source": [
        "!ls -lha ../input/test-tif-v2 | wc -l"
      ]
    },
    {
      "cell_type": "markdown",
      "metadata": {
        "_cell_guid": "de648e34-cf96-3c7d-37ad-59bc2b8360f7"
      },
      "source": [
        "## Setup\n",
        "Set `PLANET_KAGGLE_ROOT` to the proper directory where we've got the TIFF and JPEG zip files, and accompanying CSVs."
      ]
    },
    {
      "cell_type": "code",
      "execution_count": null,
      "metadata": {
        "_cell_guid": "bace665c-f34b-09ff-7808-9efa412c65ca"
      },
      "outputs": [],
      "source": [
        "PLANET_KAGGLE_ROOT = os.path.abspath(\"../input/\")\n",
        "PLANET_KAGGLE_JPEG_DIR = os.path.join(PLANET_KAGGLE_ROOT, 'train-jpg')\n",
        "PLANET_KAGGLE_LABEL_CSV = os.path.join(PLANET_KAGGLE_ROOT, 'train_v2.csv')\n",
        "assert os.path.exists(PLANET_KAGGLE_ROOT)\n",
        "assert os.path.exists(PLANET_KAGGLE_JPEG_DIR)\n",
        "assert os.path.exists(PLANET_KAGGLE_LABEL_CSV)"
      ]
    },
    {
      "cell_type": "markdown",
      "metadata": {
        "_cell_guid": "3468c4df-3507-4650-e1ef-33348b7507ec"
      },
      "source": [
        "## Inspect image labels\n",
        "The labels are in a CSV entitled `train.csv`. Note that each image can be tagged with multiple tags. We'll convert them to a \"one hot\" style representation where each label is a column:"
      ]
    },
    {
      "cell_type": "code",
      "execution_count": null,
      "metadata": {
        "_cell_guid": "d0c7574c-940e-7d28-e0f3-4f333a83300a"
      },
      "outputs": [],
      "source": [
        "!ls -lha /kaggle/input/train_v2.csv"
      ]
    },
    {
      "cell_type": "code",
      "execution_count": null,
      "metadata": {
        "_cell_guid": "6a90f711-8222-e7b0-9635-a00456ed64b0"
      },
      "outputs": [],
      "source": [
        "labels_df = pd.read_csv(PLANET_KAGGLE_LABEL_CSV)\n",
        "labels_df.head()"
      ]
    },
    {
      "cell_type": "code",
      "execution_count": null,
      "metadata": {
        "_cell_guid": "f556c7f8-5e52-aab8-ca43-f5184a85836e"
      },
      "outputs": [],
      "source": [
        "# Build list with unique labels\n",
        "label_list = []\n",
        "for tag_str in labels_df.tags.values:\n",
        "    labels = tag_str.split(' ')\n",
        "    for label in labels:\n",
        "        if label not in label_list:\n",
        "            label_list.append(label)"
      ]
    },
    {
      "cell_type": "code",
      "execution_count": null,
      "metadata": {
        "_cell_guid": "e9f1be5a-b833-e0c3-bbf3-a95a72d02335"
      },
      "outputs": [],
      "source": [
        "# Add onehot features for every label\n",
        "for label in label_list:\n",
        "    labels_df[label] = labels_df['tags'].apply(lambda x: 1 if label in x.split(' ') else 0)\n",
        "# Display head\n",
        "labels_df.head()"
      ]
    },
    {
      "cell_type": "code",
      "execution_count": null,
      "metadata": {
        "_cell_guid": "918adbb3-fd30-0d4d-6da2-12b49c6fa3bd"
      },
      "outputs": [],
      "source": [
        "# Histogram of label instances\n",
        "labels_df[label_list].sum().sort_values().plot.bar()"
      ]
    },
    {
      "cell_type": "code",
      "execution_count": null,
      "metadata": {
        "_cell_guid": "345bfce6-c8d5-1c83-4e69-c2ba2ddf256c"
      },
      "outputs": [],
      "source": [
        "def make_cooccurence_matrix(labels):\n",
        "    numeric_df = labels_df[labels]; \n",
        "    c_matrix = numeric_df.T.dot(numeric_df)\n",
        "    sns.heatmap(c_matrix)\n",
        "    return c_matrix\n",
        "    \n",
        "# Compute the co-ocurrence matrix\n",
        "make_cooccurence_matrix(label_list)"
      ]
    },
    {
      "cell_type": "markdown",
      "metadata": {
        "_cell_guid": "c130a544-2ae7-71c9-04f1-51c3e69ce842"
      },
      "source": [
        "Each image should have exactly one weather label:"
      ]
    },
    {
      "cell_type": "code",
      "execution_count": null,
      "metadata": {
        "_cell_guid": "4c40a10f-83cc-5ab3-7c95-f8e26a08068f"
      },
      "outputs": [],
      "source": [
        "weather_labels = ['clear', 'partly_cloudy', 'haze', 'cloudy']\n",
        "make_cooccurence_matrix(weather_labels)"
      ]
    },
    {
      "cell_type": "markdown",
      "metadata": {
        "_cell_guid": "f61ee506-ee56-9ba1-db45-1da151978e5c"
      },
      "source": [
        "But the land labels may overlap:"
      ]
    },
    {
      "cell_type": "code",
      "execution_count": null,
      "metadata": {
        "_cell_guid": "b503e3da-a478-ac7f-41e5-1893394f3a68"
      },
      "outputs": [],
      "source": [
        "land_labels = ['primary', 'agriculture', 'water', 'cultivation', 'habitation']\n",
        "make_cooccurence_matrix(land_labels)"
      ]
    },
    {
      "cell_type": "markdown",
      "metadata": {
        "_cell_guid": "3e06f07e-3c31-067b-78dc-323505ca5d6c"
      },
      "source": [
        "The rarer labels have very little overlap:"
      ]
    },
    {
      "cell_type": "code",
      "execution_count": null,
      "metadata": {
        "_cell_guid": "8703df07-3d6b-abfe-8614-28d4ff068e4a"
      },
      "outputs": [],
      "source": [
        "rare_labels = [l for l in label_list if labels_df[label_list].sum()[l] < 2000]\n",
        "make_cooccurence_matrix(rare_labels)"
      ]
    },
    {
      "cell_type": "markdown",
      "metadata": {
        "_cell_guid": "cbd4cc2b-dc23-5d51-813d-58191d04e36a"
      },
      "source": [
        "## Inspect images\n",
        "Let's display an image and visualize the pixel values. Here we will pick an image, load every single single band, then create RGB stack. These raw images are 16-bit (from 0 to 65535), and contain red, green, blue, and [Near infrared (NIR)](https://en.wikipedia.org/wiki/Infrared#Regions_within_the_infrared) channels. In this example, we are discarding the NIR band just to simplify the steps to visualize the image. However, you should probably keep it for ML classification.\n",
        "\n",
        "The files can be easily read into numpy arrays with the skimage."
      ]
    },
    {
      "cell_type": "code",
      "execution_count": null,
      "metadata": {
        "_cell_guid": "ee7b99e6-53d9-3443-67db-3ab30742d448"
      },
      "outputs": [],
      "source": [
        "def sample_images(tags, n=None):\n",
        "    \"\"\"Randomly sample n images with the specified tags.\"\"\"\n",
        "    condition = True\n",
        "    if isinstance(tags, string_types):\n",
        "        raise ValueError(\"Pass a list of tags, not a single tag.\")\n",
        "    for tag in tags:\n",
        "        condition = condition & labels_df[tag] == 1\n",
        "    if n is not None:\n",
        "        return labels_df[condition].sample(n)\n",
        "    else:\n",
        "        return labels_df[condition]"
      ]
    },
    {
      "cell_type": "code",
      "execution_count": null,
      "metadata": {
        "_cell_guid": "d4165497-7319-fe38-b113-c572493c9c8c"
      },
      "outputs": [],
      "source": [
        "def load_image(filename):\n",
        "    '''Look through the directory tree to find the image you specified\n",
        "    (e.g. train_10.tif vs. train_10.jpg)'''\n",
        "    for dirname in os.listdir(PLANET_KAGGLE_ROOT):\n",
        "        path = os.path.abspath(os.path.join(PLANET_KAGGLE_ROOT, dirname, filename))\n",
        "        if os.path.exists(path):\n",
        "            print('Found image {}'.format(path))\n",
        "            return io.imread(path)\n",
        "    # if you reach this line, you didn't find the image you're looking for\n",
        "    print('Load failed: could not find image {}'.format(path))\n",
        "    \n",
        "def sample_to_fname(sample_df, row_idx, suffix='tif'):\n",
        "    '''Given a dataframe of sampled images, get the\n",
        "    corresponding filename.'''\n",
        "    fname = sample_df.get_value(sample_df.index[row_idx], 'image_name')\n",
        "    return '{}.{}'.format(fname, suffix)"
      ]
    },
    {
      "cell_type": "markdown",
      "metadata": {
        "_cell_guid": "7dfe886c-8f3c-5375-3c3c-e950170249a5"
      },
      "source": [
        "Let's look at an individual image. First, we'll plot a histogram of pixel values in each channel. Note how the intensities are distributed in a relatively narrow region of the dynamic range"
      ]
    },
    {
      "cell_type": "code",
      "execution_count": null,
      "metadata": {
        "_cell_guid": "d393a9b7-ad0f-c933-d892-ba7b618f94f2"
      },
      "outputs": [],
      "source": [
        "def plot_rgbn_histo(r, g, b, n):\n",
        "    for slice_, name, color in ((r,'r', 'red'),(g,'g', 'green'),(b,'b', 'blue'), (nir, 'nir', 'magenta')):\n",
        "        plt.hist(slice_.ravel(), bins=100, \n",
        "                 range=[0,rgb_image.max()], \n",
        "                 label=name, color=color, histtype='step')\n",
        "    plt.legend()"
      ]
    },
    {
      "cell_type": "code",
      "execution_count": null,
      "metadata": {
        "_cell_guid": "e61ff246-835d-ab3d-e1a3-6693896ab18a"
      },
      "outputs": [],
      "source": [
        "s = sample_images(['primary', 'water', 'road'], n=1)\n",
        "fname = sample_to_fname(s, 0)\n",
        "\n",
        "# find the image in the data directory and load it\n",
        "# note the initial bgrn band ordering\n",
        "bgrn_image = load_image(fname)\n",
        "\n",
        "# extract the rgb values\n",
        "bgr_image = bgrn_image[:,:,:3]\n",
        "rgb_image = bgr_image[:, :, [2,1,0]]\n",
        "\n",
        "# extract the different bands\n",
        "b, g, r, nir = bgrn_image[:, :, 0], bgrn_image[:, :, 1], bgrn_image[:, :, 2], bgrn_image[:, :, 3]\n",
        "\n",
        "# plot a histogram of rgbn values\n",
        "plot_rgbn_histo(r, g, b, nir)"
      ]
    },
    {
      "cell_type": "markdown",
      "metadata": {
        "_cell_guid": "8d7cd8aa-f9a9-5a53-9f62-78597f9c65d9"
      },
      "source": [
        "We can look at each channel individually:"
      ]
    },
    {
      "cell_type": "code",
      "execution_count": null,
      "metadata": {
        "_cell_guid": "576746f5-ce04-bb53-25e7-740d20c2cb3b"
      },
      "outputs": [],
      "source": [
        "# Plot the bands\n",
        "fig = plt.figure()\n",
        "fig.set_size_inches(12, 4)\n",
        "for i, (x, c) in enumerate(((r, 'r'), (g, 'g'), (b, 'b'), (nir, 'near-ir'))):\n",
        "    a = fig.add_subplot(1, 4, i+1)\n",
        "    a.set_title(c)\n",
        "    plt.imshow(x)"
      ]
    },
    {
      "cell_type": "markdown",
      "metadata": {
        "_cell_guid": "de25ec51-d364-09d5-c512-9e1dbc952bf1"
      },
      "source": [
        "But, when we try to look at the RGB image, something funny's going on!|"
      ]
    },
    {
      "cell_type": "code",
      "execution_count": null,
      "metadata": {
        "_cell_guid": "9aa21e0f-4a5c-58a4-6790-76caf192ea13"
      },
      "outputs": [],
      "source": [
        "plt.imshow(rgb_image)"
      ]
    },
    {
      "cell_type": "markdown",
      "metadata": {
        "_cell_guid": "46156d4c-b583-2650-0e2b-a30f932e91a6"
      },
      "source": [
        "### Calibrate colors for visual inspection"
      ]
    },
    {
      "cell_type": "markdown",
      "metadata": {
        "_cell_guid": "d1105f35-9d6d-8f24-44db-53681e6fb679"
      },
      "source": [
        "Yikes! That does not look pretty. This is not a problem for analytic purposes, but we can try some transformations to make the image look better for visual inspection.\n",
        "\n",
        "One way of doing this is to normalize the image channels to a reference color curve. We'll show here how to estimate a reference color curve from other normalized images. We could choose a third party aerial image of a canopy , but here we will employ the JPEG images provided in the data set, which have already been color-corrected.  \n",
        "\n",
        "In essence, the idea is to transform the pixel values of the test image so that their average and variance match the reference image data.\n",
        "\n",
        "Get a list of reference images to extract data from:"
      ]
    },
    {
      "cell_type": "code",
      "execution_count": null,
      "metadata": {
        "_cell_guid": "b3d72c97-c925-ed98-2fd9-d7b4e1ffc629"
      },
      "outputs": [],
      "source": [
        "# Pull a list of 20000 image names\n",
        "jpg_list = os.listdir(PLANET_KAGGLE_JPEG_DIR)[:20000]\n",
        "# Select a random sample of 100 among those\n",
        "np.random.shuffle(jpg_list)\n",
        "jpg_list = jpg_list[:100]"
      ]
    },
    {
      "cell_type": "code",
      "execution_count": null,
      "metadata": {
        "_cell_guid": "ead55f22-556d-bd82-b8da-8a4c87533537"
      },
      "outputs": [],
      "source": [
        "print(jpg_list)"
      ]
    },
    {
      "cell_type": "markdown",
      "metadata": {
        "_cell_guid": "aeb21a56-9225-428d-33fb-0f9b9b79e8db"
      },
      "source": [
        "Read each image (8-bit RGBA) and dump the pixels values to ref_colors, which contains buckets for R, G and B"
      ]
    },
    {
      "cell_type": "code",
      "execution_count": null,
      "metadata": {
        "_cell_guid": "86e2b276-cf76-856e-2c3c-d5f5f2da0c03"
      },
      "outputs": [],
      "source": [
        "ref_colors = [[],[],[]]\n",
        "for _file in jpg_list:\n",
        "    # keep only the first 3 bands, RGB\n",
        "    _img = mpimg.imread(os.path.join(PLANET_KAGGLE_JPEG_DIR, _file))[:,:,:3]\n",
        "    # Flatten 2-D to 1-D\n",
        "    _data = _img.reshape((-1,3))\n",
        "    # Dump pixel values to aggregation buckets\n",
        "    for i in range(3): \n",
        "        ref_colors[i] = ref_colors[i] + _data[:,i].tolist()\n",
        "    \n",
        "ref_colors = np.array(ref_colors)"
      ]
    },
    {
      "cell_type": "markdown",
      "metadata": {
        "_cell_guid": "0e0c4f47-41a1-9913-6019-7378c4999afc"
      },
      "source": [
        "Visualize the histogram of the reference data"
      ]
    },
    {
      "cell_type": "code",
      "execution_count": null,
      "metadata": {
        "_cell_guid": "e0a6d26e-b51a-86bd-f312-87948475c98c"
      },
      "outputs": [],
      "source": [
        "for i,color in enumerate(['r','g','b']):\n",
        "    plt.hist(ref_colors[i], bins=30, range=[0,255], label=color, color=color, histtype='step')\n",
        "plt.legend()\n",
        "plt.title('Reference color histograms')"
      ]
    },
    {
      "cell_type": "markdown",
      "metadata": {
        "_cell_guid": "4db8b536-c997-dc10-564e-a5e2989b53e7"
      },
      "source": [
        "Compute the mean and variance for each channel in the reference data"
      ]
    },
    {
      "cell_type": "code",
      "execution_count": null,
      "metadata": {
        "_cell_guid": "d80f17c6-99e3-a0ad-ae0f-63d8c9546c88"
      },
      "outputs": [],
      "source": [
        "ref_means = [np.mean(ref_colors[i]) for i in range(3)]\n",
        "ref_stds = [np.std(ref_colors[i]) for i in range(3)]"
      ]
    },
    {
      "cell_type": "markdown",
      "metadata": {
        "_cell_guid": "9f2903ab-f1d6-55a8-8615-0387a8784ee3"
      },
      "source": [
        "And now, we have a function that can calibrate any raw image reasonably well:"
      ]
    },
    {
      "cell_type": "code",
      "execution_count": null,
      "metadata": {
        "_cell_guid": "ae8ece5e-8de5-156b-fb53-fe9516f149c2"
      },
      "outputs": [],
      "source": [
        "def calibrate_image(rgb_image):\n",
        "    # Transform test image to 32-bit floats to avoid \n",
        "    # surprises when doing arithmetic with it \n",
        "    calibrated_img = rgb_image.copy().astype('float32')\n",
        "\n",
        "    # Loop over RGB\n",
        "    for i in range(3):\n",
        "        # Subtract mean \n",
        "        calibrated_img[:,:,i] = calibrated_img[:,:,i]-np.mean(calibrated_img[:,:,i])\n",
        "        # Normalize variance\n",
        "        calibrated_img[:,:,i] = calibrated_img[:,:,i]/np.std(calibrated_img[:,:,i])\n",
        "        # Scale to reference \n",
        "        calibrated_img[:,:,i] = calibrated_img[:,:,i]*ref_stds[i] + ref_means[i]\n",
        "        # Clip any values going out of the valid range\n",
        "        calibrated_img[:,:,i] = np.clip(calibrated_img[:,:,i],0,255)\n",
        "\n",
        "    # Convert to 8-bit unsigned int\n",
        "    return calibrated_img.astype('uint8')"
      ]
    },
    {
      "cell_type": "markdown",
      "metadata": {
        "_cell_guid": "a074ce12-da93-2b88-7437-de12c7948b68"
      },
      "source": [
        "Visualize the color histogram of the newly calibrated test image, and note that it's more evenly distributed throughout the dynamic range, and is closer to the reference data."
      ]
    },
    {
      "cell_type": "code",
      "execution_count": null,
      "metadata": {
        "_cell_guid": "257d4945-f0c9-2077-7fcb-f6123dfd4073"
      },
      "outputs": [],
      "source": [
        "test_image_calibrated = calibrate_image(rgb_image)\n",
        "for i,color in enumerate(['r','g','b']):\n",
        "    plt.hist(test_image_calibrated[:,:,i].ravel(), bins=30, range=[0,255], \n",
        "             label=color, color=color, histtype='step')\n",
        "plt.legend()\n",
        "plt.title('Calibrated image color histograms')"
      ]
    },
    {
      "cell_type": "markdown",
      "metadata": {
        "_cell_guid": "5174e99f-3540-5adf-f5d1-63573e840115"
      },
      "source": [
        "And now we have something we can recognize!"
      ]
    },
    {
      "cell_type": "code",
      "execution_count": null,
      "metadata": {
        "_cell_guid": "7e7a5dd9-e0a5-49b2-836a-d2fdb098eab4"
      },
      "outputs": [],
      "source": [
        "plt.imshow(test_image_calibrated)"
      ]
    },
    {
      "cell_type": "markdown",
      "metadata": {
        "_cell_guid": "38c08d57-7f43-8c83-8025-2550ed9746bd"
      },
      "source": [
        "Putting it all together, to show several images with your tags of choice. You may notice that the jpgs and tifs look a bit different. You can read about why that is here:\n",
        "    \n",
        "[A Hands-on Guide to Color Correction](https://www.planet.com/pulse/color-correction/)"
      ]
    },
    {
      "cell_type": "code",
      "execution_count": null,
      "metadata": {
        "_cell_guid": "432936ae-a00b-cfba-ce56-982a665c8cca"
      },
      "outputs": [],
      "source": [
        "sampled_images = sample_images(['clear', 'road', 'water'], n=3)\n",
        "\n",
        "for i in range(len(sampled_images)):\n",
        "    tif = sample_to_fname(sampled_images, i, 'tif')\n",
        "    jpg = sample_to_fname(sampled_images, i, 'jpg')\n",
        "\n",
        "    try:\n",
        "        tif_img = load_image(tif)[:,:,:3]\n",
        "        jpg_img = load_image(jpg)[:,:,:3]\n",
        "\n",
        "        fig = plt.figure()\n",
        "        plt.imshow(calibrate_image(tif_img))\n",
        "\n",
        "        fig = plt.figure()\n",
        "        plt.imshow(calibrate_image(jpg_img))\n",
        "    except:\n",
        "        continue\n",
        "        \n",
        "        "
      ]
    },
    {
      "cell_type": "markdown",
      "metadata": {
        "_cell_guid": "a96d680f-e9d6-a322-adba-5297198606cc"
      },
      "source": [
        "## Image modification"
      ]
    },
    {
      "cell_type": "markdown",
      "metadata": {
        "_cell_guid": "2cc0df6e-abcf-752e-8284-236c7547ab92"
      },
      "source": [
        "You might want to rotate, flip, or otherwise modify the images for training purposes. Note that the dimensions of the image changes:"
      ]
    },
    {
      "cell_type": "code",
      "execution_count": null,
      "metadata": {
        "_cell_guid": "bc6692e1-db28-234d-a114-638be512004f"
      },
      "outputs": [],
      "source": [
        "fig = plt.figure()\n",
        "fig.set_size_inches(12, 4)\n",
        "for i, (x, c) in enumerate(((r, 'r'), (g, 'g'), (b, 'b'), (nir, 'near-ir'))):\n",
        "    a = fig.add_subplot(1, 4, i+1)\n",
        "    a.set_title(c)\n",
        "    plt.imshow(x)"
      ]
    },
    {
      "cell_type": "code",
      "execution_count": null,
      "metadata": {
        "_cell_guid": "84144dc3-256f-0ba4-43ae-00163898d4ca"
      },
      "outputs": [],
      "source": [
        "rotated = scipy.ndimage.rotate(rgb_image, angle=45)\n",
        "plt.imshow(rgb_image)\n",
        "plt.imshow(calibrate_image(rotated))\n",
        "rotated.shape"
      ]
    },
    {
      "cell_type": "markdown",
      "metadata": {
        "_cell_guid": "64ff4caf-cebb-857a-8292-4b6af9edfec2"
      },
      "source": [
        "Original Notebook by Jesus Martinez Manso and Benjamin Goldenberg\n",
        "\n",
        "(C) Planet 2017"
      ]
    },
    {
      "cell_type": "code",
      "execution_count": null,
      "metadata": {
        "_cell_guid": "e3b10fd3-3ff3-0f6c-5f08-c6cde6ceab98"
      },
      "outputs": [],
      "source": [
        ""
      ]
    }
  ],
  "metadata": {
    "_change_revision": 0,
    "_is_fork": false,
    "kernelspec": {
      "display_name": "Python 3",
      "language": "python",
      "name": "python3"
    },
    "language_info": {
      "codemirror_mode": {
        "name": "ipython",
        "version": 3
      },
      "file_extension": ".py",
      "mimetype": "text/x-python",
      "name": "python",
      "nbconvert_exporter": "python",
      "pygments_lexer": "ipython3",
      "version": "3.6.0"
    }
  },
  "nbformat": 4,
  "nbformat_minor": 0
}