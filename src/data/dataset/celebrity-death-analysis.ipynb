{
  "cells": [
    {
      "cell_type": "markdown",
      "metadata": {
        "_cell_guid": "69f172e8-7621-82e7-726d-bbb3bcca282e"
      },
      "source": [
        "Celebrity Death Analysis\n",
        "========================\n",
        "The year 2016, left people with unfortunate sorrows as a lot of Celebrities died. Let's sneak why it happened?\n",
        "\n",
        "If this EDA helps you, make sure to leave an upvote to motivate me to make more! :)\n",
        "\n",
        "> **Part I : Confirming the hypothesis : Many Celebrities died in 2016**\n",
        "\n",
        "> 1. Does the number of celebrities death is highest in 2016?\n",
        "\n",
        "> **Part II : Finding the major causes for death in 2016**\n",
        "\n",
        "> 1. What's the reason for celebrities death in 2016?\n",
        "\n",
        "> **Part III : Going deep with the cause of death in 2016**\n",
        "\n",
        "> 1. How the top causes of death in 2016 are different from previous years?\n",
        "> 2. Which country has the unusual increase in celebrities death due to Cancer in 2016? \n",
        "> 3. Which type of Cancer was the villain to most of the Celebrities in 2016?\n",
        "\n",
        " > **Part IV : Going deep with month of death in 2016**\n",
        "\n",
        " >1. Is there something interesting in the number of deaths by month in 2016?\n",
        " >2. How the main causes of deaths in March 2016 different from previous years? \n",
        " >3. Which countries has the different pattern of death in March 2016 when compared to previous years?\n",
        "\n",
        " >**Part V : Going deep with age_group in 2016**\n",
        " \n",
        " >1. Do the age group of celebrities died in 2016 is different from previous years?\n",
        " \n",
        " >**Part VI : Going deep with nationality in 2016**\n",
        " \n",
        " > 1. Is there any unusual increase in celebrities death of any particular country in 2016? \n",
        "\n",
        ">**Part VII : Going deep with Fame Score Parameter in 2016**\n",
        "\n",
        "> Is there something interesting relation with the Fame Score and  Celebrities death in 2016?\n",
        "\n",
        ">**Part VIII : General questions on deaths from  2006 - 2016**\n",
        " \n",
        " >1. Do most of the celebrity die during their young age or old age?\n",
        " >2. What would be the main causes of death?\n",
        " >3. What would be the main causes of death for each age category?\n",
        "\n",
        ">**Conclusion : Why more Celebrities died in 2016?**"
      ]
    },
    {
      "cell_type": "code",
      "execution_count": null,
      "metadata": {
        "_cell_guid": "9fc46d08-852b-b953-0576-02211e07d022"
      },
      "outputs": [],
      "source": [
        "# This Python 3 environment comes with many helpful analytics libraries installed\n",
        "# It is defined by the kaggle/python docker image: https://github.com/kaggle/docker-python\n",
        "# For example, here's several helpful packages to load in \n",
        "\n",
        "import numpy as np # linear algebra\n",
        "import pandas as pd # data processing, CSV file I/O (e.g. pd.read_csv)\n",
        "import matplotlib.pyplot as plt\n",
        "import seaborn as sns\n",
        "from matplotlib.gridspec import GridSpec\n",
        "# Input data files are available in the \"../input/\" directory.\n",
        "# For example, running this (by clicking run or pressing Shift+Enter) will list the files in the input directory\n",
        "\n",
        "from subprocess import check_output\n",
        "print(check_output([\"ls\", \"../input\"]).decode(\"utf8\"))\n",
        "\n",
        "# Any results you write to the current directory are saved as output."
      ]
    },
    {
      "cell_type": "markdown",
      "metadata": {
        "_cell_guid": "f354d252-4f8e-f9c9-e3ea-59e900ada526"
      },
      "source": [
        "Looking into dataset"
      ]
    },
    {
      "cell_type": "code",
      "execution_count": null,
      "metadata": {
        "_cell_guid": "cf697442-ae45-16f5-c6e8-8fc18fe1446c"
      },
      "outputs": [],
      "source": [
        "death = pd.read_csv(\"../input/celebrity_deaths_3.csv\")\n",
        "death.head(2)"
      ]
    },
    {
      "cell_type": "markdown",
      "metadata": {
        "_cell_guid": "684bdcff-78d0-9370-b0c7-2ce7430ee86c"
      },
      "source": [
        "In cause_of_death column, many related terms are named differently. So grouped the related terms."
      ]
    },
    {
      "cell_type": "code",
      "execution_count": null,
      "metadata": {
        "_cell_guid": "51dab8bd-cf5b-e5cf-349b-678728a89ec9"
      },
      "outputs": [],
      "source": [
        "def group_deathcause(cause):\n",
        "    mod_cause = \"\"\n",
        "    cause = str(cause)\n",
        "    if \"cancer\" in cause:\n",
        "        mod_cause = \"cancer\"\n",
        "    elif \"heart\" in cause or \"cardiac\" in cause:\n",
        "        mod_cause = \"heart disease\"\n",
        "    elif \"stroke\" in cause :\n",
        "        mod_cause = \"stroke\"\n",
        "    elif \"diabetes\" in cause:\n",
        "        mod_cause = \"diabetes\"\n",
        "    elif \"gunshot\" == cause:\n",
        "        mod_cause = \"shot\"\n",
        "    elif \"suicide\" in cause:\n",
        "        mod_cause = \"suicide\"\n",
        "    else:\n",
        "        mod_cause = cause\n",
        "    return mod_cause.strip()"
      ]
    },
    {
      "cell_type": "markdown",
      "metadata": {
        "_cell_guid": "562bc8a4-be01-4d6f-b74b-b9ca12b78cd9"
      },
      "source": [
        "This function is to categorise the age of the celebrity as **Old**, **Adult**, **Young** and **Child**."
      ]
    },
    {
      "cell_type": "code",
      "execution_count": null,
      "metadata": {
        "_cell_guid": "b6e52ebf-1c0e-88e2-c949-c77e7232466d"
      },
      "outputs": [],
      "source": [
        "def age_categorizer(age):\n",
        "    category = \"\"\n",
        "    if (age<18):\n",
        "        category = \"child\"\n",
        "    elif (age<30):\n",
        "        category = \"young\"\n",
        "    elif (age<60) :\n",
        "        category = \"adult\"\n",
        "    else:\n",
        "        category = \"old\"\n",
        "    return category"
      ]
    },
    {
      "cell_type": "code",
      "execution_count": null,
      "metadata": {
        "_cell_guid": "439c7a81-4741-d9cc-4d27-651f8db70fb8"
      },
      "outputs": [],
      "source": [
        "def fam_filtering(row):\n",
        "    op = \"\"\n",
        "    if type(row) == str:\n",
        "        if  ( \"(\" in row) and (\")\" in row):\n",
        "            row = row[:row.index(\"(\")] + row[row.index(\")\")+1 : ]\n",
        "        op = row\n",
        "    else:\n",
        "        op = \"unknown\"\n",
        "    return op\n",
        "def fam_grp(row):\n",
        "    op = \"\"\n",
        "    row = str(row)\n",
        "    if any( ext in row for ext in [\"minister\",\"politician\", \"political\",\"parliament\",\"secretary\"]):\n",
        "        op = \"politician\"\n",
        "    elif \"actress\" in row:\n",
        "        op = \"actress\"\n",
        "    elif \"actor\" in row:\n",
        "        op = \"actor\"\n",
        "    elif \"singer\" in row:\n",
        "        op = \"singer\"\n",
        "    else:\n",
        "        op = row\n",
        "    return op.strip().lower()"
      ]
    },
    {
      "cell_type": "markdown",
      "metadata": {
        "_cell_guid": "3a9fcb1f-f008-1bd6-f354-4b7faed4e447"
      },
      "source": [
        "This all started with the question *\"Why more celebrities died in 2016?\"* . As we are going to investigate on it , we split the data into **deaths in 2016** and **deaths before 2016**"
      ]
    },
    {
      "cell_type": "code",
      "execution_count": null,
      "metadata": {
        "_cell_guid": "6c21dec2-43a8-d6ca-0836-16d816490590"
      },
      "outputs": [],
      "source": [
        "#data_cleaning\n",
        "death_all = death.copy()\n",
        "death_all = death_all.drop(death_all[death_all[\"age\"] == 0 ].index)\n",
        "death_all[\"cause_of_death\"].fillna(\"unknown\",inplace=True)\n",
        "death_all[\"cause_of_death\"] = death_all.apply (lambda row:group_deathcause(row[\"cause_of_death\"]) , axis = 1)\n",
        "death_all[\"age_category\"] = death_all.apply (lambda row: age_categorizer (row[\"age\"]),axis=1)\n",
        "death_all[\"fame_tune\"] = death_all.apply(lambda row: fam_grp(row[\"famous_for\"]), axis=1)\n",
        "death_all[\"fame_tune\"] = death_all.apply(lambda row: fam_filtering(row[\"fame_tune\"]), axis=1)\n",
        "death_all[\"fame_tune\"] = death_all.apply(lambda row: fam_grp(row[\"fame_tune\"]), axis=1)\n",
        "death_all[\"wiki_length\"] = death_all.fame_score\n",
        "death_all.wiki_length = death_all.wiki_length.fillna(0)\n",
        "death_2016 = death_all[death_all.death_year == 2016]\n",
        "death_rest_2016 = death_all[death_all.death_year != 2016]"
      ]
    },
    {
      "cell_type": "markdown",
      "metadata": {
        "_cell_guid": "eebf34c5-3821-59cb-b85b-1125337ee5a3"
      },
      "source": [
        "Part I : Confirming the hypothesis : Many Celebrities died in 2016\n",
        "======================================================================\n",
        "\n",
        "----------"
      ]
    },
    {
      "cell_type": "markdown",
      "metadata": {
        "_cell_guid": "372592bc-fbc4-001e-02c4-2acdc300e6fa"
      },
      "source": [
        "## Does the number of celebrities death is highest in 2016 ? ##\n",
        "Let's see !"
      ]
    },
    {
      "cell_type": "code",
      "execution_count": null,
      "metadata": {
        "_cell_guid": "f16011ba-9931-ff8b-9228-b7c9dcb952b2"
      },
      "outputs": [],
      "source": [
        "sns.countplot(death_all.death_year)\n",
        "plt.title(\"Number of Celebrities death every year\")"
      ]
    },
    {
      "cell_type": "markdown",
      "metadata": {
        "_cell_guid": "7391d91c-d721-5831-88f4-00d87c55ee24"
      },
      "source": [
        "Yes, Its true ! "
      ]
    },
    {
      "cell_type": "markdown",
      "metadata": {
        "_cell_guid": "060b176f-77bd-f2eb-5d66-ad7a2e244d56"
      },
      "source": [
        "Part II : Finding the major causes for death in 2016\n",
        "====================================================\n",
        "\n",
        "----------"
      ]
    },
    {
      "cell_type": "markdown",
      "metadata": {
        "_cell_guid": "74b48ab7-9076-7610-a77f-df6b85d8f411"
      },
      "source": [
        "## What's the reason for celebrities death in 2016? ##"
      ]
    },
    {
      "cell_type": "code",
      "execution_count": null,
      "metadata": {
        "_cell_guid": "5cdacf31-8be6-7683-de00-34210adbcf62"
      },
      "outputs": [],
      "source": [
        "def known_cod(df,grp_column):\n",
        "    known_cod_df = df[df.cause_of_death != \"unknown\"].groupby(grp_column)[\"name\"].count().reset_index()\n",
        "    known_cod_df = known_cod_df.rename(columns ={\"name\":\"count\"})\n",
        "    total = known_cod_df[\"count\"].sum()\n",
        "    known_cod_df[\"ratio\"] = known_cod_df.apply(lambda row: row[\"count\"]/total,axis=1)\n",
        "    known_cod_df= known_cod_df.sort_values(by=\"ratio\",ascending=False)\n",
        "    return known_cod_df"
      ]
    },
    {
      "cell_type": "code",
      "execution_count": null,
      "metadata": {
        "_cell_guid": "6ca29df4-dc8c-7f2b-b2e8-bba87eacf14d"
      },
      "outputs": [],
      "source": [
        "dy = known_cod(death_2016,\"cause_of_death\").head(10)\n",
        "plt.figure(figsize=(6,4))\n",
        "ax = sns.barplot(x=\"count\", y =\"cause_of_death\", data = dy)\n",
        "ax.set(xlabel='number_of_deaths')\n",
        "sns.despine(left=True, bottom=True)\n",
        "plt.title(\"Top 10 (65%) reasons of cause of celebrities death in 2016\")"
      ]
    },
    {
      "cell_type": "markdown",
      "metadata": {
        "_cell_guid": "d418afdb-ea39-ab3a-6d45-b754bad4bd45"
      },
      "source": [
        "So the main reason is ***Cancer ! Cancer ! Cancer !*** "
      ]
    },
    {
      "cell_type": "markdown",
      "metadata": {
        "_cell_guid": "597868c8-6a57-5b8d-58d1-6dbbb2ad6911"
      },
      "source": [
        "Part III : Going deep with the cause of death in 2016\n",
        "-------------\n",
        "----------"
      ]
    },
    {
      "cell_type": "markdown",
      "metadata": {
        "_cell_guid": "f4452af9-0750-c900-04c9-1bbe4177bbe4"
      },
      "source": [
        "##1. How the top causes of death in 2016 are different from previous years? ##"
      ]
    },
    {
      "cell_type": "code",
      "execution_count": null,
      "metadata": {
        "_cell_guid": "d509fd9d-000e-fca2-059b-933e2931a6d4"
      },
      "outputs": [],
      "source": [
        "known2016rest = known_cod(death_rest_2016,\"cause_of_death\").rename(columns={\"ratio\":\"before2016ratio\"})[[\"cause_of_death\",\"before2016ratio\"]]\n",
        "known2016 = known_cod(death_2016,\"cause_of_death\").head(10)\n",
        "cod_ratio = pd.merge(known2016, known2016rest, on=\"cause_of_death\",how=\"left\")\n",
        "ax = sns.pointplot(x=\"cause_of_death\", y=\"ratio\", data=cod_ratio,color=\"#bb3f3f\", label=\"2016\")\n",
        "ax = sns.pointplot(x=\"cause_of_death\", y=\"before2016ratio\", data=cod_ratio,color=\"#4286f4\", label=\"before_2016\")\n",
        "ax.set_xticklabels(rotation=90, labels=cod_ratio.cause_of_death)\n",
        "ax.set(ylabel='ratio')\n",
        "import matplotlib.patches as mpatches\n",
        "red_patch = mpatches.Patch(color=\"#bb3f3f\", label='2016')\n",
        "blu_patch = mpatches.Patch(color=\"#4286f4\", label='until 2016')\n",
        "plt.legend(handles=[red_patch,blu_patch])\n",
        "plt.title(\"Average number of Celebrities died by cause of death\")\n",
        "ax.text(4.0, 0.37, \"Top 10 Causes for death of Celebrities died in 2016\", ha ='left', fontsize = 6)\n",
        "plt.show()"
      ]
    },
    {
      "cell_type": "markdown",
      "metadata": {
        "_cell_guid": "289953e2-35dc-c854-14a0-9bc5c7f3f7ae"
      },
      "source": [
        "This shows the reason behind more celebrities death in 2016 is due to more **Cancer** and **traffic collision** deaths when compared to previous years. The other reasons moreover follow the same pattern."
      ]
    },
    {
      "cell_type": "markdown",
      "metadata": {
        "_cell_guid": "e2b591c3-d360-6b0a-5336-4ca2ed631aae"
      },
      "source": [
        "## 2. Which country has the unusual increase in celebrities death due to Cancer in 2016? ##"
      ]
    },
    {
      "cell_type": "code",
      "execution_count": null,
      "metadata": {
        "_cell_guid": "8832f963-6227-2886-9ebf-58c75acf1059"
      },
      "outputs": [],
      "source": [
        "known2016rest = known_cod(death_rest_2016[death_rest_2016.cause_of_death == \"cancer\"],\"nationality\").rename(columns={\"ratio\":\"before2016ratio\"})[[\"nationality\",\"before2016ratio\"]]\n",
        "known2016 = known_cod(death_2016[death_2016.cause_of_death == \"cancer\"],\"nationality\").head(10)\n",
        "cod_ratio = pd.merge(known2016, known2016rest, on=\"nationality\",how=\"left\")\n",
        "ax = sns.pointplot(x=\"nationality\", y=\"ratio\", data=cod_ratio,color=\"#bb3f3f\", label=\"2016\")\n",
        "ax = sns.pointplot(x=\"nationality\", y=\"before2016ratio\", data=cod_ratio,color=\"#4286f4\", label=\"before_2016\")\n",
        "ax.set_xticklabels(rotation=90, labels=cod_ratio.nationality)\n",
        "ax.set(ylabel='ratio')\n",
        "import matplotlib.patches as mpatches\n",
        "red_patch = mpatches.Patch(color=\"#bb3f3f\", label='2016')\n",
        "blu_patch = mpatches.Patch(color=\"#4286f4\", label='until 2016')\n",
        "plt.legend(handles=[red_patch,blu_patch])\n",
        "plt.title(\"Average number of Celebrities died because of Cancer by nationality\")\n",
        "ax.text(4.0, 0.56, \"Top 10 Causes for death of Celebrities died in 2016\", ha ='left', fontsize = 6)\n",
        "plt.show()"
      ]
    },
    {
      "cell_type": "markdown",
      "metadata": {
        "_cell_guid": "c0470c31-3ee0-ef2b-304a-c624f99551b4"
      },
      "source": [
        "Interesting ! **English Celebrities** died at more unusual rate because of Cancer in 2016. "
      ]
    },
    {
      "cell_type": "markdown",
      "metadata": {
        "_cell_guid": "d7907af6-2c64-7c8c-635c-a49e2a84ca69"
      },
      "source": [
        "## 3. Which type of Cancer was villain to most of Celebrities in 2016 ? ##"
      ]
    },
    {
      "cell_type": "markdown",
      "metadata": {
        "_cell_guid": "c2fee7eb-42f6-ca55-aabc-f0e780838ba7"
      },
      "source": [
        "The deaths due to cancer in the year 2016 is filtered. The general Cancer cause is removed from the list."
      ]
    },
    {
      "cell_type": "code",
      "execution_count": null,
      "metadata": {
        "_cell_guid": "08a9294a-35dc-7df2-5e84-422a74393212"
      },
      "outputs": [],
      "source": [
        "death_copy2 = death.copy()\n",
        "death_copy2[\"cause_of_death\"].fillna(\"unknown\",inplace=True)\n",
        "\n",
        "#selecting all rows re\n",
        "x =death_copy2[ (death_copy2[\"cause_of_death\"].str.contains(\"cancer\") )&( death_copy2[\"death_year\"] == 2016 )].groupby(\"cause_of_death\")[\"name\"].count().sort_values(ascending=False).reset_index().rename(columns={\"name\":\"count\"}).iloc[1:,:]\n",
        "x_sum = x[\"count\"].sum()\n",
        "x[\"ratio\"] = x.apply(lambda row : row[\"count\"]/x_sum ,axis=1)\n",
        "xtop_20 = x.head(20)\n",
        "\n",
        "plt.figure(figsize=(4,6))\n",
        "ax=sns.barplot(y=\"cause_of_death\",x=\"ratio\",data=xtop_20)\n",
        "ax.set(xlabel='ratio_of_deaths')\n",
        "plt.title(\"Top 20 different types of cancer which caused Celebrities Death in 2016  \")\n",
        "plt.show()"
      ]
    },
    {
      "cell_type": "markdown",
      "metadata": {
        "_cell_guid": "6192b064-bf46-a277-3747-9a6b4520e6df"
      },
      "source": [
        "Part IV : Going deep with month of death in 2016\n",
        "================================================\n",
        "\n",
        "----------"
      ]
    },
    {
      "cell_type": "markdown",
      "metadata": {
        "_cell_guid": "d9bfa7ac-5c89-b083-ac80-6c78bdbd61fc"
      },
      "source": [
        "## 1. Is there something interesting in the number of deaths by month in 2016? ##\n",
        "Let's see !"
      ]
    },
    {
      "cell_type": "code",
      "execution_count": null,
      "metadata": {
        "_cell_guid": "f712efa6-7944-569f-b939-cb1c59bed721"
      },
      "outputs": [],
      "source": [
        "month_lst = ['January', 'February', 'March', 'April', 'May', 'June', 'July',\n",
        "              'August', 'September', 'October', 'November', 'December']\n",
        "mnth_index = []\n",
        "death_by_month = death_2016.groupby(\"death_month\")[\"name\"].count().reset_index().rename(columns={\"name\":\"2016\"})\n",
        "for mnth in month_lst:\n",
        "    mnth_index += death_by_month[death_by_month.death_month == mnth].index.tolist()\n",
        "death_by_month_rest = death_rest_2016.groupby(\"death_month\")[\"name\"].count().reset_index().rename(columns={\"name\":\"before2016\"})\n",
        "death_by_month = pd.merge(death_by_month,death_by_month_rest, on=\"death_month\", how=\"left\")\n",
        "death_by_month = death_by_month.reindex(mnth_index)\n",
        "tot_2016_deaths = death_by_month[\"2016\"].sum()\n",
        "tot_before2016_deaths = death_by_month[\"before2016\"].sum()\n",
        "death_by_month[\"2016_ratio\"] = death_by_month.apply(lambda row: row[\"2016\"]/tot_2016_deaths , axis=1)\n",
        "death_by_month[\"before2016_ratio\"] = death_by_month.apply(lambda row: row[\"before2016\"]/tot_before2016_deaths , axis=1)\n",
        "ax = sns.pointplot(x=\"death_month\", y=\"2016_ratio\", data=death_by_month,color=\"#bb3f3f\", label=\"2016\")\n",
        "ax = sns.pointplot(x=\"death_month\", y=\"before2016_ratio\", data=death_by_month,color=\"#4286f4\", label=\"before_2016\")\n",
        "ax.set_xticklabels(rotation=90, labels=death_by_month.death_month)\n",
        "ax.set(ylabel='ratio')\n",
        "import matplotlib.patches as mpatches\n",
        "red_patch = mpatches.Patch(color=\"#bb3f3f\", label='2016')\n",
        "blu_patch = mpatches.Patch(color=\"#4286f4\", label='until 2016')\n",
        "plt.legend(handles=[red_patch,blu_patch])\n",
        "plt.title(\"Average number of Celebrities death by month\")\n",
        "plt.show()"
      ]
    },
    {
      "cell_type": "markdown",
      "metadata": {
        "_cell_guid": "1699073f-391a-7c64-3943-5c7c9e0fa312"
      },
      "source": [
        "In 2016, **March** and **December** months has an unusual increase in celebrities death when compared to average deaths until 2016"
      ]
    },
    {
      "cell_type": "markdown",
      "metadata": {
        "_cell_guid": "889857a6-7f4a-bc08-2746-62334e8dc538"
      },
      "source": [
        "##2. How the main causes of deaths in March, 2016 different from previous years? ##"
      ]
    },
    {
      "cell_type": "code",
      "execution_count": null,
      "metadata": {
        "_cell_guid": "05e42c55-da73-4b2a-fff0-968999c7987b"
      },
      "outputs": [],
      "source": [
        "known2016rest = known_cod(death_rest_2016[death_rest_2016.death_month ==\"March\"],\"cause_of_death\").rename(columns={\"ratio\":\"before2016ratio\"})[[\"cause_of_death\",\"before2016ratio\"]]\n",
        "known2016 = known_cod(death_2016[death_2016.death_month ==\"March\"],\"cause_of_death\").head(10)\n",
        "cod_ratio = pd.merge(known2016, known2016rest, on=\"cause_of_death\",how=\"left\")\n",
        "ax = sns.pointplot(x=\"cause_of_death\", y=\"ratio\", data=cod_ratio,color=\"#bb3f3f\", label=\"2016\")\n",
        "ax = sns.pointplot(x=\"cause_of_death\", y=\"before2016ratio\", data=cod_ratio,color=\"#4286f4\", label=\"before_2016\")\n",
        "ax.set_xticklabels(rotation=90, labels=cod_ratio.cause_of_death)\n",
        "ax.set(ylabel='ratio')\n",
        "import matplotlib.patches as mpatches\n",
        "red_patch = mpatches.Patch(color=\"#bb3f3f\", label='2016')\n",
        "blu_patch = mpatches.Patch(color=\"#4286f4\", label='until 2016')\n",
        "plt.legend(handles=[red_patch,blu_patch])\n",
        "plt.title(\"Average number of Celebrities died in March by cause of death\")\n",
        "ax.text(4.0, 0.33, \"Top 10 Causes for death of Celebrities died in 2016\", ha ='left', fontsize = 6)\n",
        "plt.show()"
      ]
    },
    {
      "cell_type": "markdown",
      "metadata": {
        "_cell_guid": "b0b0f00f-9c47-0fe3-dcfd-635760cd1604"
      },
      "source": [
        "This shows that in March 2016, there is **major increase** in deaths by **Cancer** and also **minor increase** in deaths by **Plane crash, Leukemia, Traffic collision** ."
      ]
    },
    {
      "cell_type": "markdown",
      "metadata": {
        "_cell_guid": "ad9e3904-37cd-12bb-2b14-edc9f40a02d7"
      },
      "source": [
        "## 3. Which countries has different pattern of death in March 2016 when compared to previous years ?##"
      ]
    },
    {
      "cell_type": "code",
      "execution_count": null,
      "metadata": {
        "_cell_guid": "5b421bfe-6b9f-95aa-c00c-7d7361f542bd"
      },
      "outputs": [],
      "source": [
        "known2016rest = known_cod(death_rest_2016[death_rest_2016.death_month ==\"March\"],\"nationality\").rename(columns={\"ratio\":\"before2016ratio\"})[[\"nationality\",\"before2016ratio\"]]\n",
        "known2016 = known_cod(death_2016[death_2016.death_month ==\"March\"],\"nationality\").head(10)\n",
        "cod_ratio = pd.merge(known2016, known2016rest, on=\"nationality\",how=\"left\")\n",
        "ax = sns.pointplot(x=\"nationality\", y=\"ratio\", data=cod_ratio,color=\"#bb3f3f\", label=\"2016\")\n",
        "ax = sns.pointplot(x=\"nationality\", y=\"before2016ratio\", data=cod_ratio,color=\"#4286f4\", label=\"before_2016\")\n",
        "ax.set_xticklabels(rotation=90, labels=cod_ratio.nationality)\n",
        "ax.set(ylabel='ratio')\n",
        "import matplotlib.patches as mpatches\n",
        "red_patch = mpatches.Patch(color=\"#bb3f3f\", label='2016')\n",
        "blu_patch = mpatches.Patch(color=\"#4286f4\", label='until 2016')\n",
        "plt.legend(handles=[red_patch,blu_patch])\n",
        "plt.title(\"Average number of Celebrities died in March by Nationality\")\n",
        "ax.text(4.0, 0.55, \"Top 10 Nationalities of Celebrities died in 2016\", ha ='left', fontsize = 6)\n",
        "plt.show()"
      ]
    },
    {
      "cell_type": "markdown",
      "metadata": {
        "_cell_guid": "dd76df18-2b8a-8be8-1245-69b964c69cc6"
      },
      "source": [
        "Surprising ! **America** has **fewer deaths in March** when compared to other countries in the top list!"
      ]
    },
    {
      "cell_type": "markdown",
      "metadata": {
        "_cell_guid": "66fcf912-2046-b36c-dc1c-34676b851218"
      },
      "source": [
        "Part V : Going deep with age_group in 2016\n",
        "==========================================\n",
        "\n",
        "----------"
      ]
    },
    {
      "cell_type": "markdown",
      "metadata": {
        "_cell_guid": "0d669569-74f9-815d-3ba8-46314d088f31"
      },
      "source": [
        "## Do the age group of celebrities died in 2016 is different from previous years ? ##"
      ]
    },
    {
      "cell_type": "code",
      "execution_count": null,
      "metadata": {
        "_cell_guid": "71833bdf-4fd2-9a99-c7ed-ce5172d127d6"
      },
      "outputs": [],
      "source": [
        "x = death_2016.groupby(\"age_category\")[\"name\"].count()\n",
        "y = death_rest_2016.groupby(\"age_category\")[\"name\"].count()\n",
        "#plt.title(\"\")\n",
        "colors = [\"tomato\",\"orange\",\"aqua\",\"hotpink\"]\n",
        "f = plt.figure(figsize=(8,6))\n",
        "the_grid = GridSpec(2, 1)\n",
        "plt.subplot(the_grid[0,0], aspect=1)\n",
        "plt.pie(x, labels =x.index, autopct='%1.1f%%', startangle=340 , colors = colors)\n",
        "plt.axis('equal')\n",
        "plt.title(\"2016\",fontweight=\"bold\")\n",
        "plt.tight_layout()\n",
        "plt.subplot(the_grid[1,0], aspect=1)\n",
        "plt.pie(y, labels =y.index, autopct='%1.1f%%', startangle=340 , colors = colors)\n",
        "plt.axis('equal')\n",
        "plt.title(\"before 2016\",fontweight=\"bold\")\n",
        "plt.tight_layout()\n",
        "f.suptitle(\"Composition of age group of Celebrities died in 2016 and before 2016\",y=1.08)\n",
        "f.text(0.9, 0.98, \"old   : [61 +]\", ha ='left', fontsize = 7)\n",
        "f.text(0.9, 0.95, \"adult : [30 - 60]\", ha ='left', fontsize = 7)\n",
        "f.text(0.9, 0.92, \"young : [18 - 29]\", ha ='left', fontsize = 7)\n",
        "f.text(0.9, 0.89, \"child : [0 - 17]\", ha ='left', fontsize = 7)\n",
        "plt.show()"
      ]
    },
    {
      "cell_type": "markdown",
      "metadata": {
        "_cell_guid": "3d393607-e98a-1cb0-0d14-089ab312b496"
      },
      "source": [
        "This show that in 2016 there is **decline** in the Celebrities death of **Adult age group** and **incline** in **Young age group** ."
      ]
    },
    {
      "cell_type": "markdown",
      "metadata": {
        "_cell_guid": "03314c9a-3a40-26f2-350c-cd5ec4df54b9"
      },
      "source": [
        "Part VI : Going deep with nationality in 2016\n",
        "=============================================\n",
        "\n",
        "----------"
      ]
    },
    {
      "cell_type": "markdown",
      "metadata": {
        "_cell_guid": "6f686c57-54af-9fe8-8b9a-c2aede95daac"
      },
      "source": [
        "## Is there any unusual increase in celebrities death of any particular country in 2016? ##"
      ]
    },
    {
      "cell_type": "code",
      "execution_count": null,
      "metadata": {
        "_cell_guid": "c5b12ca2-1c7b-17c8-ce4f-02688731abad"
      },
      "outputs": [],
      "source": [
        "d_16 = death_2016.groupby(\"nationality\")[\"name\"].count().sort_values(ascending=False).reset_index().rename(columns={\"name\":\"count\"})\n",
        "tot = d_16[\"count\"].sum()\n",
        "d_16[\"2016_ratio\"] = d_16.apply(lambda row : row[\"count\"]/tot,axis =1)\n",
        "d_rest = death_rest_2016.groupby(\"nationality\")[\"name\"].count().sort_values(ascending=False).reset_index().rename(columns={\"name\":\"count\"})\n",
        "tot = d_rest[\"count\"].sum()\n",
        "d_rest[\"before2016_ratio\"] = d_rest.apply(lambda row : row[\"count\"]/tot,axis =1)\n",
        "\n",
        "march_nationality = pd.merge(d_16,d_rest[[\"nationality\",\"before2016_ratio\"]],on=\"nationality\",how=\"left\")\n",
        "march_nationality = march_nationality.head(15)"
      ]
    },
    {
      "cell_type": "code",
      "execution_count": null,
      "metadata": {
        "_cell_guid": "5f14779d-ec01-0404-e20e-e9ab44cb984e"
      },
      "outputs": [],
      "source": [
        "ax = sns.pointplot(x=\"nationality\", y=\"2016_ratio\", data=march_nationality,color=\"#bb3f3f\", label=\"2016\")\n",
        "ax = sns.pointplot(x=\"nationality\", y=\"before2016_ratio\", data=march_nationality,color=\"#4286f4\", label=\"before_2016\")\n",
        "ax.set_xticklabels(rotation=90, labels=march_nationality.nationality)\n",
        "ax.set(ylabel='ratio')\n",
        "import matplotlib.patches as mpatches\n",
        "red_patch = mpatches.Patch(color=\"#bb3f3f\", label='2016')\n",
        "blu_patch = mpatches.Patch(color=\"#4286f4\", label='until 2016')\n",
        "plt.legend(handles=[red_patch,blu_patch])\n",
        "plt.title(\"Average number of Celebrities died by nationality\")\n",
        "ax.text(6.0, 0.46, \"Top 15 Nationality of Celebrities who died in 2016\", ha ='left', fontsize = 6)\n",
        "plt.show()"
      ]
    },
    {
      "cell_type": "markdown",
      "metadata": {
        "_cell_guid": "eab8b7b0-4522-996d-c6ca-e3b1b9878db8"
      },
      "source": [
        "No ! The Celebrities death following the same pattern like previous years. "
      ]
    },
    {
      "cell_type": "markdown",
      "metadata": {
        "_cell_guid": "c06686a7-69be-c310-c158-81ce33630737"
      },
      "source": [
        "Part VII : Going deep with Fame Score Parameter in 2016\n",
        "=============================================\n",
        "\n",
        "----------"
      ]
    },
    {
      "cell_type": "markdown",
      "metadata": {
        "_cell_guid": "0d1059db-589e-b2c5-524d-7071b80c7a2e"
      },
      "source": [
        "## Is there something interesting relation with the Fame Score and  Celebrities death in 2016?##"
      ]
    },
    {
      "cell_type": "code",
      "execution_count": null,
      "metadata": {
        "_cell_guid": "96b12008-4a33-57c4-c865-7592bd1f50c9"
      },
      "outputs": [],
      "source": [
        "def known_cod_mean(df):\n",
        "    known_cod_df = df[df.cause_of_death != \"unknown\"].groupby(\"death_month\")[\"wiki_length\"].mean().reset_index()\n",
        "    #known_cod_df = known_cod_df.rename(columns ={\"name\":\"count\"})\n",
        "    total = known_cod_df[\"wiki_length\"].sum()\n",
        "    known_cod_df[\"ratio\"] = known_cod_df.apply(lambda row: row[\"wiki_length\"]/total,axis=1)\n",
        "    known_cod_df= known_cod_df.sort_values(by=\"ratio\",ascending=False)\n",
        "    return known_cod_df\n",
        "\n",
        "known2016rest = known_cod_mean(death_rest_2016).rename(columns={\"ratio\":\"before2016ratio\"})[[\"death_month\",\"before2016ratio\"]]\n",
        "known2016 = known_cod_mean(death_2016).head(10)\n",
        "cod_ratio = pd.merge(known2016, known2016rest, on=\"death_month\",how=\"left\")\n",
        "mnth_index = []\n",
        "for mnth in month_lst:\n",
        "    mnth_index += cod_ratio[cod_ratio.death_month == mnth].index.tolist()\n",
        "cod_ratio =cod_ratio.reindex(mnth_index)\n",
        "ax = sns.pointplot(x=\"death_month\", y=\"before2016ratio\", data=cod_ratio,color=\"#4286f4\", label=\"before_2016\")\n",
        "ax = sns.pointplot(x=\"death_month\", y=\"ratio\", data=cod_ratio,color=\"#bb3f3f\", label=\"2016\")\n",
        "ax.set_xticklabels(rotation=90, labels=cod_ratio.death_month)\n",
        "ax.set(ylabel='ratio')\n",
        "import matplotlib.patches as mpatches\n",
        "red_patch = mpatches.Patch(color=\"#bb3f3f\", label='2016')\n",
        "blu_patch = mpatches.Patch(color=\"#4286f4\", label='until 2016')\n",
        "plt.legend(handles=[red_patch,blu_patch])\n",
        "plt.title(\"Celebrities Wiki length Mean for every month\")\n",
        "#ax.text(4.0, 0.55, \"Top 10 Nationalities of Celebrities died in 2016\", ha ='left', fontsize = 6)\n",
        "plt.show()"
      ]
    },
    {
      "cell_type": "markdown",
      "metadata": {
        "_cell_guid": "64d4fd8e-e898-a2c9-44aa-244814455af0"
      },
      "source": [
        "This shows that highly famed Celebrities has died in the month of **March, April, June and November**. "
      ]
    },
    {
      "cell_type": "markdown",
      "metadata": {
        "_cell_guid": "fb7b9df9-e250-953f-91c9-729150b378f5"
      },
      "source": [
        "Part VIII : General questions on deaths from 2006 - 2016\n",
        "=======================================================\n",
        "\n",
        "----------"
      ]
    },
    {
      "cell_type": "markdown",
      "metadata": {
        "_cell_guid": "316d00d9-9b50-07c0-25c7-3e8bac18f930"
      },
      "source": [
        "##1. Does most of the celebrity die during their young age or old age ? ##\n",
        "Let's see"
      ]
    },
    {
      "cell_type": "code",
      "execution_count": null,
      "metadata": {
        "_cell_guid": "2770f27f-1f98-4692-e71a-40fc4bf663fb"
      },
      "outputs": [],
      "source": [
        "sns.boxplot(death.age)"
      ]
    },
    {
      "cell_type": "markdown",
      "metadata": {
        "_cell_guid": "578b1861-7d2f-cf16-952c-cf76d8fe38e0"
      },
      "source": [
        "This shows that 50% of celebrities die in age interval of 69 to 87. So, most of the celebrities die in their old age."
      ]
    },
    {
      "cell_type": "markdown",
      "metadata": {
        "_cell_guid": "cdc04517-f5bc-8954-b3c5-6fe10a585b91"
      },
      "source": [
        "## 2. What would be the main causes of death ?##\n",
        "Let's see"
      ]
    },
    {
      "cell_type": "code",
      "execution_count": null,
      "metadata": {
        "_cell_guid": "c37ce871-653f-301a-fd4d-a05d53c1d1d2"
      },
      "outputs": [],
      "source": [
        "death_cause = death_all.groupby(\"cause_of_death\")[\"name\"].count().sort_values(ascending=False)\n",
        "#death_cause.head(20)\n",
        "comp = death_cause.ix[1:20]\n",
        "y = death_cause.ix[21:].sum()\n",
        "comp['others'] = y\n",
        "plt.figure(figsize=(5,5))\n",
        "plt.pie(comp,labels=comp.index, autopct='%1.1f%%', startangle=310 )\n",
        "plt.tight_layout()\n",
        "plt.axis('equal')\n",
        "plt.title(\"Composition of known cause of death\",y=1.08,fontweight=\"bold\")"
      ]
    },
    {
      "cell_type": "markdown",
      "metadata": {
        "_cell_guid": "d50f7fa4-5cbe-92cf-f899-07d8fd807b9f"
      },
      "source": [
        "The composition chart shows that **Cancer** and **Heart diseases** are the main reasons for celebrities death. Also, most of the causes in top20 are **Natural**"
      ]
    },
    {
      "cell_type": "markdown",
      "metadata": {
        "_cell_guid": "1c95de6a-efc4-e8d7-57b2-5ef06166e32e"
      },
      "source": [
        "##3. What would be the main causes of death for each age category? ##\n",
        "Let's see !"
      ]
    },
    {
      "cell_type": "code",
      "execution_count": null,
      "metadata": {
        "_cell_guid": "b8a0ec07-1a6d-fe2c-d862-a3eba3eca52b"
      },
      "outputs": [],
      "source": [
        "\n",
        "age_category_rep =death_all.groupby([\"age_category\",\"cause_of_death\"])[\"name\"].count().sort_values(ascending=False)\n",
        "f = plt.figure(figsize=(8,15))\n",
        "the_grid = GridSpec(4, 1)\n",
        "for cat in [(\"child\",0,0),(\"young\",1,0),(\"adult\",2,0),(\"old\",3,0)]:\n",
        "    x = age_category_rep[cat[0]][1:10]\n",
        "    y = age_category_rep[cat[0]][11:].sum()\n",
        "    plt.subplot(the_grid[cat[1],cat[2] ], aspect=1)\n",
        "    x[\"others\"] = y    \n",
        "    plt.pie(x, labels =x.index, autopct='%1.1f%%', startangle=10 )\n",
        "    plt.axis('equal')\n",
        "    plt.title(cat[0],y=1.08,fontweight=\"bold\")\n",
        "    plt.tight_layout()\n",
        "f.suptitle(\"Composition of known cause of death for every category\",y=1.03)\n",
        "plt.show()"
      ]
    },
    {
      "cell_type": "markdown",
      "metadata": {
        "_cell_guid": "8dc68aa3-d42d-b33f-fad0-596f2c40f965"
      },
      "source": [
        "The above composition shows an interesting result.\n",
        "\n",
        " 1. **Child category** : 15% deaths are due Euthanized **[Mostly Natural deaths]**\n",
        " 2. **Young category** : the top causes of death are unnatural like traffic collision, suicide, shot etc.,**[ Mostly Unnatural deaths]**\n",
        " 3. **Adult category** : the top causes of death are like cancer, traffic collision etc., **[Mix of Natural and Unnatural deaths]**\n",
        " 4. **Old category** : as expected **[Mostly Natural deaths]**"
      ]
    },
    {
      "cell_type": "markdown",
      "metadata": {
        "_cell_guid": "a74b4701-cc72-71c6-ff54-5f3c8d979627"
      },
      "source": [
        "Conclusion\n",
        "=======================================================\n",
        "\n",
        "----------"
      ]
    },
    {
      "cell_type": "markdown",
      "metadata": {
        "_cell_guid": "139e750b-d684-8430-faef-ec0bff002a06"
      },
      "source": [
        "\n",
        "Conclusion\n",
        "==========\n",
        "\n",
        "**Why more Celebrities died in 2016?**\n",
        "\n",
        "The first thought came to my mind is that every year there will be an increase in the number of celebrities so there is nothing special in 2016. On contrary, I also had another thought if it would have been normal then why people talk more about it on twitter with hashtag [#celebritydeaths2016](https://twitter.com/hashtag/celebritydeaths2016?src=hash).\n",
        "\n",
        "I began my exploration to clarify my thoughts. \n",
        "\n",
        "My first thought gained upper hand as my first visualization said that the number of celebrities death in 2016 was not considerably so high.\n",
        "\n",
        "I went deep to know the reason behind the death of celebrities in 2016. It uncovered the fact that more celebrities died in 2016 due to Cancer and also the ratio of cancer deaths are much higher than previous years. Again this analysis didn't say much about why people had thought that 2016 took the life of more celebrities.\n",
        "\n",
        "Then I went deep to know about patterns in celebrities death by month. This time my second thought gained upper hand because the analysis says the ratio of celebrities death in the last two month of the year where higher than the average ratio until previous years.\n",
        "\n",
        "This pushed me to go deeper to check for some additional proofs for my second thought. This time I took age group. As I expected the year 2016 has slightly more young celebrities death than average. The popularity of any news is based on social media and social media is manipulated by youngsters. So this made my second thought stronger.\n",
        "\n",
        "And then, the dataset provider added the column of fame score which was the length of Wikipedia page of celebrities. Another user made magnificent [EDA][1] on the same dataset and proved that the fame score does not have the correlation with age and years of celebrities. So I was good to go with fame score. This analysis made my second thought stronger as the mean fame score of celebrities died in 2016 was higher than the previous years. The important point I would feel is that the mean fame score of celebrities died in November is higher than the previous year and also as mentioned earlier November and December have more ratio of deaths in 2016 than previous years. \n",
        "\n",
        "I conclude by saying that even though the year 2016 doesn't have huge celebrities death as we thought, the death of highly famed celebrities and more deaths in the last two months of the year made people talk and feel about celebrities.\n",
        "\n",
        "\n",
        "> \"*Great things happened in this world,\n",
        "> by simple motivations*\".\n",
        "\n",
        "> If this EDA\n",
        "> helps you, make sure to leave an\n",
        "> upvote to motivate me to make more! :)\n",
        "\n",
        "\n",
        "[1]: https://www.kaggle.com/drgilermo/d/hugodarwood/celebrity-deaths/dead-celebrities-a-deeper-look"
      ]
    },
    {
      "cell_type": "code",
      "execution_count": null,
      "metadata": {
        "_cell_guid": "e9987cd4-d7d2-8af6-cd36-d1cfa53358f0"
      },
      "outputs": [],
      "source": ""
    }
  ],
  "metadata": {
    "_change_revision": 0,
    "_is_fork": false,
    "kernelspec": {
      "display_name": "Python 3",
      "language": "python",
      "name": "python3"
    },
    "language_info": {
      "codemirror_mode": {
        "name": "ipython",
        "version": 3
      },
      "file_extension": ".py",
      "mimetype": "text/x-python",
      "name": "python",
      "nbconvert_exporter": "python",
      "pygments_lexer": "ipython3",
      "version": "3.5.2"
    }
  },
  "nbformat": 4,
  "nbformat_minor": 0
}