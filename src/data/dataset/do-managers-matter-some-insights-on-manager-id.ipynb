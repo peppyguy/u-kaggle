{
  "cells": [
    {
      "cell_type": "markdown",
      "metadata": {
        "_cell_guid": "8f7942c3-8ac6-830c-9bb0-6332fba87776"
      },
      "source": [
        "Hello there, everyone.  I did a brief analysis on the \"managers\" since at first glance the average \"interest level\" seemed to differ substantially from one to another . \n",
        "\n",
        "Anyway, let me know what you think about it and like this notebook if you enjoyed reading it (it's my 1st one, be nice :D)"
      ]
    },
    {
      "cell_type": "code",
      "execution_count": null,
      "metadata": {
        "_cell_guid": "5818d079-378f-5d9d-4823-1a377a104b32"
      },
      "outputs": [],
      "source": [
        "# let's load the usual packages first\n",
        "import numpy as np\n",
        "import pandas as pd\n",
        "import matplotlib.pyplot as plt\n",
        "\n",
        "%matplotlib inline"
      ]
    },
    {
      "cell_type": "markdown",
      "metadata": {
        "_cell_guid": "0e4e1a44-97dc-09fc-5868-02e987e0a170"
      },
      "source": [
        "... and get the data..."
      ]
    },
    {
      "cell_type": "code",
      "execution_count": null,
      "metadata": {
        "_cell_guid": "9d3b524c-d80a-4dfb-4502-d642953c8289"
      },
      "outputs": [],
      "source": [
        "train_df = pd.read_json('../input/train.json')\n",
        "test_df = pd.read_json('../input/test.json')"
      ]
    },
    {
      "cell_type": "markdown",
      "metadata": {
        "_cell_guid": "429c62fc-7864-39e0-bf61-23d28da57463"
      },
      "source": [
        "First of all, let's see how many different managers we have on both datasets."
      ]
    },
    {
      "cell_type": "code",
      "execution_count": null,
      "metadata": {
        "_cell_guid": "9148f93a-3f40-30ec-f6ba-9b279d046ec3"
      },
      "outputs": [],
      "source": [
        "man_train_list = train_df.manager_id.unique()\n",
        "man_test_list = test_df.manager_id.unique()\n",
        "print(\"Train: {0}\".format(len(man_train_list)))\n",
        "print(\"Test: {0}\".format(len(man_test_list)))"
      ]
    },
    {
      "cell_type": "markdown",
      "metadata": {
        "_cell_guid": "e545374b-99fe-5a64-f6e3-25a930f4e286"
      },
      "source": [
        "There are more managers in the test dataset, which also features more records.\n",
        "\n",
        "Let's create a dataframe with all the train and test managers, including the number of entries they are responsible for."
      ]
    },
    {
      "cell_type": "code",
      "execution_count": null,
      "metadata": {
        "_cell_guid": "7675b6bd-f4bc-2e56-1c72-1167b8af1fc6"
      },
      "outputs": [],
      "source": [
        "temp1 = train_df.groupby('manager_id').count().iloc[:,-1]\n",
        "temp2 = test_df.groupby('manager_id').count().iloc[:,-1]\n",
        "df_managers = pd.concat([temp1,temp2], axis = 1, join = 'outer')\n",
        "df_managers.columns = ['train_count','test_count']\n",
        "print(df_managers.head(20))\n"
      ]
    },
    {
      "cell_type": "markdown",
      "metadata": {
        "_cell_guid": "ce074e91-6c4a-87dd-df1a-cee4f5f8ebe7"
      },
      "source": [
        "Some managers have entries only in one of the two datasets. But as we will see later, these managers have only very few entries.\n",
        "\n",
        "Indeed, a minority of managers are responsible for most of the entries of both dataset"
      ]
    },
    {
      "cell_type": "code",
      "execution_count": null,
      "metadata": {
        "_cell_guid": "d3c4ecd5-5de5-4b54-3646-0f479a858b14"
      },
      "outputs": [],
      "source": [
        "print(df_managers.sort_values(by = 'train_count', ascending = False).head(10))"
      ]
    },
    {
      "cell_type": "markdown",
      "metadata": {
        "_cell_guid": "7258dd45-80d0-025e-c30d-2a54bd96f791"
      },
      "source": [
        "This is more clear if one looks at the plots for the cumulative distributions."
      ]
    },
    {
      "cell_type": "code",
      "execution_count": null,
      "metadata": {
        "_cell_guid": "e00fc674-7a24-152d-31df-58ff53cfa3c3"
      },
      "outputs": [],
      "source": [
        "fig, axes = plt.subplots(1,2, figsize = (12,5))\n",
        "temp = df_managers['train_count'].dropna().sort_values(ascending = False).reset_index(drop = True)\n",
        "axes[0].plot(temp.index+1, temp.cumsum()/temp.sum())\n",
        "axes[0].set_title('cumulative train_count')\n",
        "\n",
        "temp = df_managers['test_count'].dropna().sort_values(ascending = False).reset_index(drop = True)\n",
        "axes[1].plot(temp.index+1, temp.cumsum()/temp.sum())\n",
        "axes[1].set_title('cumulative test_count')"
      ]
    },
    {
      "cell_type": "markdown",
      "metadata": {
        "_cell_guid": "3e4ef881-9a54-3604-b8c9-6d63cfae84d7"
      },
      "source": [
        "The Pareto principle, i.e. the 80/20 rule, seems to apply here. As 20% of the managers are roughly responsible for roughly 80% of the entries."
      ]
    },
    {
      "cell_type": "code",
      "execution_count": null,
      "metadata": {
        "_cell_guid": "52df1f97-9d89-a426-0fab-b6ca20fa82bc"
      },
      "outputs": [],
      "source": [
        "ix20 = int(len(df_managers['train_count'].dropna())*0.2)\n",
        "print(\"TRAIN: 20% of managers ({0}) responsible for {1:2.2f}% of entries\".format(ix20,df_managers['train_count'].sort_values(ascending = False).cumsum().iloc[ix20]/df_managers['train_count'].sum()*100))\n",
        "\n",
        "ix20 = int(len(df_managers['test_count'].dropna())*0.2)\n",
        "print(\"TEST: 20% of managers ({0}) responsible for {1:2.2f}% of entries\".format(ix20, df_managers['test_count'].sort_values(ascending = False).cumsum().iloc[ix20]/df_managers['test_count'].sum()*100))"
      ]
    },
    {
      "cell_type": "markdown",
      "metadata": {
        "_cell_guid": "e53e5935-7019-5fed-ad98-6b84d8426705"
      },
      "source": [
        "As mentioned before, fortunately, these top contributors are the same for both datasets. The managers featuring in only one of the two datasets usually have very few entries."
      ]
    },
    {
      "cell_type": "code",
      "execution_count": null,
      "metadata": {
        "_cell_guid": "9d8589b6-ab29-668b-e7db-fe9657648ec0"
      },
      "outputs": [],
      "source": [
        "man_not_in_test = set(man_train_list) - set(man_test_list)\n",
        "man_not_in_train = set(man_test_list) - set(man_train_list)\n",
        "\n",
        "print(\"{} managers are featured in train.json but not in test.json\".format(len(man_not_in_test)))\n",
        "print(\"{} managers are featured in test.json but not in train.json\".format(len(man_not_in_train)))"
      ]
    },
    {
      "cell_type": "code",
      "execution_count": null,
      "metadata": {
        "_cell_guid": "91923f50-4dad-9ec1-6279-e87a24393fe8"
      },
      "outputs": [],
      "source": [
        "print(df_managers.loc[list(man_not_in_test)]['train_count'].describe())\n",
        "print(df_managers.loc[list(man_not_in_train)]['test_count'].describe())"
      ]
    },
    {
      "cell_type": "markdown",
      "metadata": {
        "_cell_guid": "6589a268-fd7f-be8b-439d-9cbaaad367f1"
      },
      "source": [
        "Besides, it looks like there is a strong correlation between the number of entries of the contributors in both datasets."
      ]
    },
    {
      "cell_type": "code",
      "execution_count": null,
      "metadata": {
        "_cell_guid": "87189f43-0798-4d59-87e6-4b1bf394b88d"
      },
      "outputs": [],
      "source": [
        "df_managers.sort_values(by = 'train_count', ascending = False).head(1000).corr()"
      ]
    },
    {
      "cell_type": "code",
      "execution_count": null,
      "metadata": {
        "_cell_guid": "ef08c8f9-8c61-26fe-7e59-026f6fc56c07"
      },
      "outputs": [],
      "source": [
        "df_managers.sort_values(by = 'train_count', ascending = False).head(100).plot.scatter(x = 'train_count', y = 'test_count')"
      ]
    },
    {
      "cell_type": "markdown",
      "metadata": {
        "_cell_guid": "ac38aa74-39b6-107c-f02b-318f6df0f302"
      },
      "source": [
        "Now let's focus on the training dataset and on the \"interest_level\" of its top 100 contributors.\n",
        "These folks account for a whopping 35% of the entries. The 1st alone for over 5% of them! That's quite a lot. \n",
        "\n",
        "According to the discussion above, similar figures are expected for the test dataset."
      ]
    },
    {
      "cell_type": "code",
      "execution_count": null,
      "metadata": {
        "_cell_guid": "e2ec23df-46a7-c2de-c655-21172e172b80"
      },
      "outputs": [],
      "source": [
        "temp = df_managers['train_count'].sort_values(ascending = False).head(100)\n",
        "temp = pd.concat([temp,temp.cumsum()/df_managers['train_count'].sum()*100], axis = 1).reset_index()\n",
        "temp.columns = ['manager_id','count','percentage']\n",
        "print(temp)"
      ]
    },
    {
      "cell_type": "markdown",
      "metadata": {
        "_cell_guid": "a9efbf84-1451-6201-affa-847129a2cba0"
      },
      "source": [
        "Let's isolate the entries relative to these 100 managers with the \"interest_level\" column as well. We create dummies from this latter column as they are easier to work with."
      ]
    },
    {
      "cell_type": "code",
      "execution_count": null,
      "metadata": {
        "_cell_guid": "9c1b1d4c-533d-12ea-1d02-41b22f461e15"
      },
      "outputs": [],
      "source": [
        "man_list = df_managers['train_count'].sort_values(ascending = False).head(100).index\n",
        "ixes = train_df.manager_id.isin(man_list)\n",
        "df100 = train_df[ixes][['manager_id','interest_level']]\n",
        "interest_dummies = pd.get_dummies(df100.interest_level)\n",
        "df100 = pd.concat([df100,interest_dummies[['low','medium','high']]], axis = 1).drop('interest_level', axis = 1)\n",
        "\n",
        "print(\"The top100 contributors account for {} entries\\n\".format(len(df100)))\n",
        "\n",
        "print(df100.head(10))"
      ]
    },
    {
      "cell_type": "markdown",
      "metadata": {
        "_cell_guid": "c76b969d-ccc2-92fe-77dc-d2d91f7542b4"
      },
      "source": [
        "Before continuing, let's give them some fake identities based on the most common first and last names in the US."
      ]
    },
    {
      "cell_type": "code",
      "execution_count": null,
      "metadata": {
        "_cell_guid": "06f94988-b28f-2930-ad08-00f743955038"
      },
      "outputs": [],
      "source": [
        "import itertools\n",
        "\n",
        "# 50 most common surnames in the 90s (http://surnames.behindthename.com/top/lists/united-states/1990)\n",
        "last_names = ['Smith', 'Johnson', 'Williams', 'Jones', 'Brown', 'Davis', 'Miller', 'Wilson', 'Moore', \n",
        " 'Taylor', 'Anderson', 'Thomas', 'Jackson', 'White', 'Harris', 'Martin', 'Thompson', 'Garcia', \n",
        " 'Martinez', 'Robinson', 'Clark', 'Rodriguez', 'Lewis', 'Lee', 'Walker', 'Hall', 'Allen', 'Young',\n",
        " 'Hernandez', 'King', 'Wright', 'Lopez', 'Hill', 'Scott', 'Green', 'Adams', 'Baker', 'Gonzalez', 'Nelson', \n",
        " 'Carter', 'Mitchell', 'Perez', 'Roberts', 'Turner', 'Phillips', 'Campbell', 'Parker', 'Evans', 'Edwards', 'Collins']\n",
        "\n",
        "# 10 most common first names for females and males (names.mongabay.com) \n",
        "first_names = ['Mary',  'Patricia',  'Linda',  'Barbara',  'Elizabeth',  \n",
        "               'Jennifer',  'Maria',  'Susan',  'Margaret',  'Dorothy',\n",
        "               'James', 'John', 'Robert', 'Michael', 'William', 'David',\n",
        "               'Richard', 'Charles', 'Joseph', 'Thomas']\n",
        "\n",
        "names = [first + ' ' + last for first,last in (itertools.product(first_names, last_names))]\n",
        "\n",
        "# shuffle them\n",
        "np.random.seed(12345)\n",
        "np.random.shuffle(names)\n",
        "\n",
        "dictionary = dict(zip(man_list, names))\n",
        "df100.loc[df100.manager_id.isin(dictionary), 'manager_id' ] = df100['manager_id'].map(dictionary)\n",
        "print(df100.head())"
      ]
    },
    {
      "cell_type": "code",
      "execution_count": null,
      "metadata": {
        "_cell_guid": "c9436f60-c1b5-dcde-7418-25c2199b5a43"
      },
      "outputs": [],
      "source": [
        "# see if the name coincides\n",
        "print(names[:10])\n",
        "print(df100.groupby('manager_id').count().sort_values(by = 'low', ascending = False).head(10))"
      ]
    },
    {
      "cell_type": "markdown",
      "metadata": {
        "_cell_guid": "489b2c87-5d1c-1790-57b2-5082506ceeb4"
      },
      "source": [
        "Splendid... we have their names now, so let's proceed and compute their average performances in terms of \"interest level\" so we can spot who's a pro and who's not. "
      ]
    },
    {
      "cell_type": "code",
      "execution_count": null,
      "metadata": {
        "_cell_guid": "c45902c3-a790-e0e6-d02e-0d3a23067129"
      },
      "outputs": [],
      "source": [
        "gby = pd.concat([df100.groupby('manager_id').mean(),df100.groupby('manager_id').count()], axis = 1).iloc[:,:-2]\n",
        "gby.columns = ['low','medium','high','count']\n",
        "gby.sort_values(by = 'count', ascending = False).head(10)"
      ]
    },
    {
      "cell_type": "markdown",
      "metadata": {
        "_cell_guid": "e62d0a5e-7499-c35b-803f-ccb7fcba9d45"
      },
      "source": [
        "Their performances seem very different, even for people with similar number of entries.\n",
        "\n",
        "Indeed they are.."
      ]
    },
    {
      "cell_type": "code",
      "execution_count": null,
      "metadata": {
        "_cell_guid": "dbbdb2cf-5f39-54ab-962b-f13d33da7926"
      },
      "outputs": [],
      "source": [
        "gby.sort_values(by = 'count', ascending = False).drop('count', axis = 1).plot(kind = 'bar', stacked = True, figsize = (15,5))\n",
        "plt.figure()\n",
        "gby.sort_values(by = 'count', ascending = False)['count'].plot(kind = 'bar', figsize = (15,5))"
      ]
    },
    {
      "cell_type": "markdown",
      "metadata": {
        "_cell_guid": "f1f610cc-2c25-7ed5-a3e7-93d671b072c8"
      },
      "source": [
        "I think this high diversity should be accounted for when building our predictive model! \n",
        "\n",
        "It would be interesting to rank the managers based on their intereset levels. For instance, we could compute their \"skill\" by assigning 0 points for \"lows\", 1 for \"mediums\" and 2 for \"highs\". Since they have different number of entries, let's quickly do so by multiplying the average results."
      ]
    },
    {
      "cell_type": "code",
      "execution_count": null,
      "metadata": {
        "_cell_guid": "c845ebbf-deff-214f-cf14-6adf97d5291a"
      },
      "outputs": [],
      "source": [
        "gby['skill'] = gby['medium']*1 + gby['high']*2 \n",
        "\n",
        "print(\"Top performers\")\n",
        "print(gby.sort_values(by = 'skill', ascending = False).reset_index().head())\n",
        "print(\"\\nWorst performers\")\n",
        "print(gby.sort_values(by = 'skill', ascending = False).reset_index().tail())"
      ]
    },
    {
      "cell_type": "markdown",
      "metadata": {
        "_cell_guid": "7d669730-18b2-84d6-3c41-ef73f42f3652"
      },
      "source": [
        "Dorothy Turner and Dorothy Lopez are rocking it! Poor Dorothy Martinez instead should consider moving to another industry... 402 entries, all of them uninspiring (btw I did not pick the random seed to have all the Dorothies here...).\n",
        "\n",
        "I won't go deeper to try to explain why these performances are so different. It seems though like most of the managers do a poor job (I am sure it ain't their fault, is just that the properties they handle are not that cool after all...).\n",
        "\n",
        "Cheers!\n",
        "\n",
        "p.s.: I did a similar analysis on \"building_id\" here --> https://www.kaggle.com/den3b81/two-sigma-connect-rental-listing-inquiries/some-insights-on-building-id"
      ]
    },
    {
      "cell_type": "code",
      "execution_count": null,
      "metadata": {
        "_cell_guid": "78e790c7-0767-1110-b40c-f2d7f9f61da7"
      },
      "outputs": [],
      "source": [
        "gby.skill.plot(kind = 'hist')\n",
        "print(gby.mean())"
      ]
    }
  ],
  "metadata": {
    "_change_revision": 0,
    "_is_fork": false,
    "kernelspec": {
      "display_name": "Python 3",
      "language": "python",
      "name": "python3"
    },
    "language_info": {
      "codemirror_mode": {
        "name": "ipython",
        "version": 3
      },
      "file_extension": ".py",
      "mimetype": "text/x-python",
      "name": "python",
      "nbconvert_exporter": "python",
      "pygments_lexer": "ipython3",
      "version": "3.6.0"
    }
  },
  "nbformat": 4,
  "nbformat_minor": 0
}