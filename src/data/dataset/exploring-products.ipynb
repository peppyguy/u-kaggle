{"cells":[
 {
  "cell_type": "code",
  "execution_count": null,
  "metadata": {
   "collapsed": false
  },
  "outputs": [],
  "source": "#based on http://bokeh.pydata.org/en/latest/docs/gallery/les_mis.html\n\nfrom bokeh.plotting import figure, show, output_notebook\nfrom bokeh.models import HoverTool, ColumnDataSource\nimport numpy as np\nimport pandas as pd\nimport matplotlib.pyplot as plt\nimport seaborn as sns\n\ndef get_product_agg(cols):\n    df_train = pd.read_csv('../input/train.csv', usecols = ['Semana', 'Producto_ID'] + cols,\n                           dtype  = {'Semana': 'int32',\n                                     'Producto_ID':'int32',\n                                     'Venta_hoy':'float32',\n                                     'Venta_uni_hoy': 'int32',\n                                     'Dev_uni_proxima':'int32',\n                                     'Dev_proxima':'float32',\n                                     'Demanda_uni_equil':'int32'})\n    agg  = df_train.groupby(['Semana', 'Producto_ID'], as_index=False).agg(['count','sum', 'min', 'max','median','mean'])\n    agg.columns  =  ['_'.join(col).strip() for col in agg.columns.values]\n    del(df_train)\n    return agg"
 },
 {
  "cell_type": "code",
  "execution_count": null,
  "metadata": {
   "collapsed": false
  },
  "outputs": [],
  "source": "agg1 = get_product_agg(['Demanda_uni_equil','Dev_uni_proxima'])"
 },
 {
  "cell_type": "code",
  "execution_count": null,
  "metadata": {
   "collapsed": false
  },
  "outputs": [],
  "source": "agg1.shape"
 },
 {
  "cell_type": "code",
  "execution_count": null,
  "metadata": {
   "collapsed": false
  },
  "outputs": [],
  "source": "agg1.head()"
 },
 {
  "cell_type": "code",
  "execution_count": null,
  "metadata": {
   "collapsed": false
  },
  "outputs": [],
  "source": "products  =  pd.read_csv(\"../input/producto_tabla.csv\")\nproducts.head()"
 },
 {
  "cell_type": "code",
  "execution_count": null,
  "metadata": {
   "collapsed": false
  },
  "outputs": [],
  "source": "%matplotlib inline\ndef get_top(agg, cols, sort_by, n = 20):\n    df = (agg.loc[:, cols]\n                         .groupby(level=1)\n                         .sum()\n                         .sort_values(by = sort_by, ascending = False)\n                         .head(20))\n\n    df = pd.merge(df.reset_index(), products, on='Producto_ID', how='left')\n    \n    fig = plt.figure(figsize = (16,20))\n    #fig.set_title('Top 20 products')\n    df.plot(y = cols, x = 'NombreProducto', kind = 'barh')\n    plt.show()\n    return df"
 },
 {
  "cell_type": "code",
  "execution_count": null,
  "metadata": {
   "collapsed": false
  },
  "outputs": [],
  "source": "top20_prods_by_demand = get_top(agg1,  ['Demanda_uni_equil_sum', 'Dev_uni_proxima' ], 'Demanda_uni_equil_sum')"
 },
 {
  "cell_type": "markdown",
  "metadata": {},
  "source": "### Look at count of times product appears vs Demanda_uni_equil_sum"
 },
 {
  "cell_type": "code",
  "execution_count": null,
  "metadata": {
   "collapsed": false
  },
  "outputs": [],
  "source": "sns.regplot(x = 'Demanda_uni_equil_count', y='Demanda_uni_equil_sum', data  = agg1)"
 },
 {
  "cell_type": "markdown",
  "metadata": {},
  "source": "### top products by % of returns"
 },
 {
  "cell_type": "code",
  "execution_count": null,
  "metadata": {
   "collapsed": false
  },
  "outputs": [],
  "source": "agg2 = get_product_agg(['Venta_uni_hoy','Dev_uni_proxima'])"
 },
 {
  "cell_type": "code",
  "execution_count": null,
  "metadata": {
   "collapsed": false
  },
  "outputs": [],
  "source": "agg2.head()"
 },
 {
  "cell_type": "code",
  "execution_count": null,
  "metadata": {
   "collapsed": false
  },
  "outputs": [],
  "source": "agg2['pct_returns'] = \\\n        agg2['Dev_uni_proxima_sum'] / agg2['Venta_uni_hoy_sum'].map(lambda x: 1 if x==0 else x)\n\ntop20_prods_by_pct_returns = get_top(agg2,['pct_returns'], 'pct_returns')\n"
 },
 {
  "cell_type": "markdown",
  "metadata": {},
  "source": "### there is an outlier"
 },
 {
  "cell_type": "code",
  "execution_count": null,
  "metadata": {
   "collapsed": false
  },
  "outputs": [],
  "source": "products[products.NombreProducto == 'Paletina para Cafe NES 3509']"
 },
 {
  "cell_type": "code",
  "execution_count": null,
  "metadata": {
   "collapsed": false
  },
  "outputs": [],
  "source": "agg2.loc[(slice(None), 3509),:]"
 },
 {
  "cell_type": "code",
  "execution_count": null,
  "metadata": {
   "collapsed": false
  },
  "outputs": [],
  "source": "agg1.drop((9, 3509), inplace=True)\nagg2.drop((9, 3509), inplace=True)"
 },
 {
  "cell_type": "code",
  "execution_count": null,
  "metadata": {
   "collapsed": false
  },
  "outputs": [],
  "source": "top20_prods_by_pct_returns = get_top(agg2,['pct_returns'], 'pct_returns')"
 }
],"metadata":{"kernelspec":{"display_name":"Python 3","language":"python","name":"python3"}}, "nbformat": 4, "nbformat_minor": 0}