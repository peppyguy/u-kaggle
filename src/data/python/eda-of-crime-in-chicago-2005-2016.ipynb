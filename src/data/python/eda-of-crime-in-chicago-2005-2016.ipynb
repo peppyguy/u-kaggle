{
  "cells": [
    {
      "cell_type": "markdown",
      "metadata": {
        "_cell_guid": "34ec3aea-f952-7501-8292-b8480ce339e7"
      },
      "source": [
        "# Understanding Crime in Chicago\n",
        "###An exploratory data analysis (EDA) and visualization for crime in Chicago from 2005 to 2016\n",
        "\n",
        "Fahd Alhazmi ([Twitter][1] | [Github][2])\n",
        "\n",
        "  [1]: https://twitter.com/fahd09\n",
        "  [2]: http://github.com/fahd09/"
      ]
    },
    {
      "cell_type": "markdown",
      "metadata": {
        "_cell_guid": "35159d1b-79b7-b91f-3137-25bfb701a84c"
      },
      "source": [
        "I don't know about you, but I have seen many notebooks and visualizations of crime in Chicago. Yet, as a current Chicago resident, I still have a lot of unanswered questions. In this notebook, I will explore crimes in Chicago from a perspective of a Chicago resident who wants to know more about the subject so he can better navigate his way through the city.\n",
        "\n",
        "### Little introduction and motivation\n",
        "\n",
        "**Crime in Chicago** is a very interesting topic for exploration for all kinds of reasons. Personally, I have been living in Chicago for a couple of months and crime here is always a topic of conversation with friends and family. Another reason is the availability of huge amounts of publicly available (high quality) crime datasets open for data scientists to mine and investigates such as this one.\n",
        "\n",
        "In this notebook, I am going to explore more about crime in Chicago and try to answer few questions:\n",
        "\n",
        " - How has crime in Chicago changed across years? Was 2016 really [the bloodiest year in two decades][1]?\n",
        " - Are some types of crimes more likely to happen in specific locations or specific time of the day or specific day of the week than other types of crimes? \n",
        "\n",
        "  [1]: http://www.newsweek.com/2016/12/23/chicago-gangs-violence-murder-rate-532034.html"
      ]
    },
    {
      "cell_type": "markdown",
      "metadata": {
        "_cell_guid": "2d53af66-f785-0e26-b0a5-faf5f3314643"
      },
      "source": [
        "First, we import the required data science packages and get the data. I was not able to import data of previous periods but will continue to work this out."
      ]
    },
    {
      "cell_type": "code",
      "execution_count": null,
      "metadata": {
        "_cell_guid": "d0da3cfa-e1aa-0df6-1605-d7c0af9c027e"
      },
      "outputs": [],
      "source": [
        "import numpy as np \n",
        "import pandas as pd \n",
        "import matplotlib.pyplot as plt\n",
        "%matplotlib inline\n",
        "plt.style.use('seaborn')\n",
        "\n",
        "# we will skip 2001 - 2005 due to bad quality\n",
        "\n",
        "crimes1 = pd.read_csv('../input/Chicago_Crimes_2005_to_2007.csv',error_bad_lines=False)\n",
        "crimes2 = pd.read_csv('../input/Chicago_Crimes_2008_to_2011.csv',error_bad_lines=False)\n",
        "crimes3 = pd.read_csv('../input/Chicago_Crimes_2012_to_2017.csv',error_bad_lines=False)\n",
        "crimes = pd.concat([crimes1, crimes2, crimes3], ignore_index=False, axis=0)\n",
        "\n",
        "del crimes1\n",
        "del crimes2\n",
        "del crimes3\n",
        "\n",
        "print('Dataset ready..')\n",
        "\n",
        "print('Dataset Shape before drop_duplicate : ', crimes.shape)\n",
        "crimes.drop_duplicates(subset=['ID', 'Case Number'], inplace=True)\n",
        "print('Dataset Shape after drop_duplicate: ', crimes.shape)"
      ]
    },
    {
      "cell_type": "markdown",
      "metadata": {
        "_cell_guid": "2260da71-f5a4-5477-5706-f9081bb73311"
      },
      "source": [
        "We will not be using any of those columns in our analysis; so we filter them out "
      ]
    },
    {
      "cell_type": "code",
      "execution_count": null,
      "metadata": {
        "_cell_guid": "008054fa-033d-6fd6-798a-9587902d961b"
      },
      "outputs": [],
      "source": [
        "crimes.drop(['Unnamed: 0', 'Case Number', 'IUCR', 'X Coordinate', 'Y Coordinate','Updated On','Year', 'FBI Code', 'Beat','Ward','Community Area', 'Location', 'District'], inplace=True, axis=1)"
      ]
    },
    {
      "cell_type": "markdown",
      "metadata": {
        "_cell_guid": "56b32237-54a0-c027-39b7-e1c956f83b9b"
      },
      "source": [
        "As we can tell from the first few rows, we have several columns that will help us answer our questions. We will use the 'Date' column to explore temporal patterns, 'Primary Type' and 'Location Description' to investigate their relationship with time (month of the year, time of the day, hour of the day, .. etc). Later we will use geolocation to map out safe spots (and times) in the city."
      ]
    },
    {
      "cell_type": "code",
      "execution_count": null,
      "metadata": {
        "_cell_guid": "20f60d71-8397-ffa7-3020-777078b7f7e5"
      },
      "outputs": [],
      "source": [
        "#Let's have a look at the first 3 records and see if we see what we expect\n",
        "crimes.head(3)"
      ]
    },
    {
      "cell_type": "markdown",
      "metadata": {
        "_cell_guid": "c1a42ed2-9d66-9651-3764-3a44934a21b4"
      },
      "source": [
        "Sweet. Because we are dealing with dates, we need to convert the 'Date' column into a date format that is understandable by Python (and pandas)."
      ]
    },
    {
      "cell_type": "code",
      "execution_count": null,
      "metadata": {
        "_cell_guid": "827448ce-d74b-3045-fc25-cac725a3d96d"
      },
      "outputs": [],
      "source": [
        "# convert dates to pandas datetime format\n",
        "crimes.Date = pd.to_datetime(crimes.Date, format='%m/%d/%Y %I:%M:%S %p')\n",
        "# setting the index to be the date will help us a lot later on\n",
        "crimes.index = pd.DatetimeIndex(crimes.Date)"
      ]
    },
    {
      "cell_type": "markdown",
      "metadata": {
        "_cell_guid": "b40f3404-2773-4bc4-6a2d-15a65e7b49a5"
      },
      "source": [
        "How many records we have and how many features for each record?"
      ]
    },
    {
      "cell_type": "code",
      "execution_count": null,
      "metadata": {
        "_cell_guid": "47d85b06-3c4c-4fe3-984e-bf1540d3b926"
      },
      "outputs": [],
      "source": [
        "# of records X # of features\n",
        "crimes.shape"
      ]
    },
    {
      "cell_type": "markdown",
      "metadata": {
        "_cell_guid": "ebaec07d-5adb-61ea-ad09-26b859b69e1d"
      },
      "source": [
        "Let's make sure we are dealing with the right type of columns"
      ]
    },
    {
      "cell_type": "code",
      "execution_count": null,
      "metadata": {
        "_cell_guid": "43805b75-1ee0-ef21-8898-39219b104ca4"
      },
      "outputs": [],
      "source": [
        "crimes.info()"
      ]
    },
    {
      "cell_type": "markdown",
      "metadata": {
        "_cell_guid": "e87b5bc8-a73d-6cad-13ca-f8565be02464"
      },
      "source": [
        "As 'Location Description', 'Description' and 'Primary Type' columns are actually categorical columns (or factors in R), we will only keep the most frequent categories and then cast them to a categorical type."
      ]
    },
    {
      "cell_type": "code",
      "execution_count": null,
      "metadata": {
        "_cell_guid": "87937514-12e2-8a97-af7c-de5c1d563923"
      },
      "outputs": [],
      "source": [
        "loc_to_change  = list(crimes['Location Description'].value_counts()[20:].index)\n",
        "desc_to_change = list(crimes['Description'].value_counts()[20:].index)\n",
        "#type_to_change = list(crimes['Primary Type'].value_counts()[20:].index)\n",
        "\n",
        "crimes.loc[crimes['Location Description'].isin(loc_to_change) , crimes.columns=='Location Description'] = 'OTHER'\n",
        "crimes.loc[crimes['Description'].isin(desc_to_change) , crimes.columns=='Description'] = 'OTHER'\n",
        "#crimes.loc[crimes['Primary Type'].isin(type_to_change) , crimes.columns=='Primary Type'] = 'OTHER'"
      ]
    },
    {
      "cell_type": "code",
      "execution_count": null,
      "metadata": {
        "_cell_guid": "6c896b44-786e-ba5e-592c-b4a53684f3d8"
      },
      "outputs": [],
      "source": [
        "# we convert those 3 columns into 'Categorical' types -- works like 'factor' in R\n",
        "crimes['Primary Type']         = pd.Categorical(crimes['Primary Type'])\n",
        "crimes['Location Description'] = pd.Categorical(crimes['Location Description'])\n",
        "crimes['Description']          = pd.Categorical(crimes['Description'])"
      ]
    },
    {
      "cell_type": "markdown",
      "metadata": {
        "_cell_guid": "3d4209d3-d65f-19ea-a7ca-eaf0233bd4d9"
      },
      "source": [
        "At this point, I think we are ready to explore.."
      ]
    },
    {
      "cell_type": "markdown",
      "metadata": {
        "_cell_guid": "4c48d450-b797-2ba8-915f-36be96806a9a"
      },
      "source": [
        "## Exploration and Visualization\n",
        "\n",
        "At this point, I think we are done with all the preprocessing and cleaning. Now it is time to see what we got. In this section, I will make use of many of pandas functionality like resampling by a time frame and pivot_table (a function that somehow changes the way I think!). "
      ]
    },
    {
      "cell_type": "markdown",
      "metadata": {
        "_cell_guid": "7ea6fa07-d3d9-1dea-2d3b-e8796f4317c6"
      },
      "source": [
        "Let us begin by some generic queries, like how many records we have for each month ?"
      ]
    },
    {
      "cell_type": "code",
      "execution_count": null,
      "metadata": {
        "_cell_guid": "c1246225-e9ff-c788-b7c9-b74aa3b16c3a"
      },
      "outputs": [],
      "source": [
        "plt.figure(figsize=(11,5))\n",
        "crimes.resample('M').size().plot(legend=False)\n",
        "plt.title('Number of crimes per month (2005 - 2016)')\n",
        "plt.xlabel('Months')\n",
        "plt.ylabel('Number of crimes')\n",
        "plt.show()"
      ]
    },
    {
      "cell_type": "markdown",
      "metadata": {
        "_cell_guid": "74e56fd3-f657-4183-9554-e7bb14bc7cd3"
      },
      "source": [
        "This chart shows a clear \"periodic\" pattern in the crimes over many years. I guess this very periodic pattern is an essential part of why crime a very predictable activity!. "
      ]
    },
    {
      "cell_type": "markdown",
      "metadata": {
        "_cell_guid": "1b04b54a-a082-4551-42ec-5e206a0b9235"
      },
      "source": [
        "Before we take a deeper look into how other features could mediate such temporal consistency, I first want to answer our first question: **How crime has changed over the years? is it decreasing?** Let's have a look at what we have (from 2012 to 2016 for now).\n",
        "\n",
        "In a previous chart, we already looked at the number of weekly crime records. Although it may not be very clear from the previous chart how crime have changed over the years, it still gives somehow similar numbers between 2015 and 2016. Here, we will take a finer scale to get the visualization right. I decided to look at the rolling sum of crimes of the past year. The idea is, for each day, we calculate the sum of crimes of the past year. If this rolling sum is decreasing, then we know for sure that crime rates have been decreasing during that year. On the other hand, if the rolling sum stays the same during a given year, then we can conclude that crime rates stayed the same."
      ]
    },
    {
      "cell_type": "code",
      "execution_count": null,
      "metadata": {
        "_cell_guid": "34a22c60-6035-1dcb-98e5-30b6b14683e1"
      },
      "outputs": [],
      "source": [
        "plt.figure(figsize=(11,4))\n",
        "crimes.resample('D').size().rolling(365).sum().plot()\n",
        "plt.title('Rolling sum of all crimes from 2005 - 2016')\n",
        "plt.ylabel('Number of crimes')\n",
        "plt.xlabel('Days')\n",
        "plt.show()"
      ]
    },
    {
      "cell_type": "markdown",
      "metadata": {
        "_cell_guid": "d0d7b1ee-6c6e-aa46-8776-f5ac91dea701"
      },
      "source": [
        "We see the line decreasing from 2006 up to some point around 2016 after which it stays around the same number of crimes. This all means that 2016 is really no better than 2015, but both years show a much better crime record (in total) than the previous years.\n",
        "\n",
        "But..\n",
        "\n",
        "could this figure be too good to be true? \n",
        "\n",
        "Let's separate crimes by type and see"
      ]
    },
    {
      "cell_type": "code",
      "execution_count": null,
      "metadata": {
        "_cell_guid": "cf1c1f4c-18c9-47f5-7b3e-e0a1b171d539"
      },
      "outputs": [],
      "source": [
        "crimes_count_date = crimes.pivot_table('ID', aggfunc=np.size, columns='Primary Type', index=crimes.index.date, fill_value=0)\n",
        "crimes_count_date.index = pd.DatetimeIndex(crimes_count_date.index)\n",
        "plo = crimes_count_date.rolling(365).sum().plot(figsize=(12, 30), subplots=True, layout=(-1, 3), sharex=False, sharey=False)"
      ]
    },
    {
      "cell_type": "markdown",
      "metadata": {
        "_cell_guid": "e1f3c102-0802-6574-459a-6233a8936d99"
      },
      "source": [
        "Hmmm. Lots of things can be said. I have stared at this plot myself for long because I was really excited to see the first figure and hoped it reflected an average trend toward decreasing crimes. But it is not the case. Some crime types are actually increasing all along like homicide and deceptive practice. Other types started to increase slightly before 2016 like theft, robbery and stalking (which may be the reason behind the trend we saw earlier)."
      ]
    },
    {
      "cell_type": "markdown",
      "metadata": {
        "_cell_guid": "9aabd443-d96c-e3a4-7f10-4d332623b543"
      },
      "source": [
        "## A general view of crime records by time, type and location"
      ]
    },
    {
      "cell_type": "markdown",
      "metadata": {
        "_cell_guid": "fbb4cee8-7971-9e76-9627-f12e4dd46e3f"
      },
      "source": [
        "Not all crimes are the same. Some crimes types are more likely to occur than other types depending on the place and time. In this section, we will see how crimes differ between different places at different times."
      ]
    },
    {
      "cell_type": "markdown",
      "metadata": {
        "_cell_guid": "792f1d15-cb6f-7726-8f4d-f7ba431b5c73"
      },
      "source": [
        "The first thing we are going to look at is if there is a difference in the number of crimes during specific days of the week. Are there more crimes during weekdays or weekend? "
      ]
    },
    {
      "cell_type": "code",
      "execution_count": null,
      "metadata": {
        "_cell_guid": "a4dff1f8-4b18-aac3-b26a-f3d0cfe3750f"
      },
      "outputs": [],
      "source": [
        "days = ['Monday','Tuesday','Wednesday',  'Thursday', 'Friday', 'Saturday', 'Sunday']\n",
        "crimes.groupby([crimes.index.dayofweek]).size().plot(kind='barh')\n",
        "plt.ylabel('Days of the week')\n",
        "plt.yticks(np.arange(7), days)\n",
        "plt.xlabel('Number of crimes')\n",
        "plt.title('Number of crimes by day of the week')\n",
        "plt.show()"
      ]
    },
    {
      "cell_type": "markdown",
      "metadata": {
        "_cell_guid": "52d0a317-c5d8-d5e3-7cff-527aafa3a0b0"
      },
      "source": [
        "I don't really see something is different between days of the week. Maybe Friday has higher number of crime than other days, but this is still based on the counts and we are not really sure of it means it is always like this.\n",
        "\n",
        "Now Let's look at crimes per month and see if certain months show more crimes than others."
      ]
    },
    {
      "cell_type": "code",
      "execution_count": null,
      "metadata": {
        "_cell_guid": "bd0f426a-ff26-94cb-c6a7-491261ca76f8"
      },
      "outputs": [],
      "source": [
        "crimes.groupby([crimes.index.month]).size().plot(kind='barh')\n",
        "plt.ylabel('Months of the year')\n",
        "plt.xlabel('Number of crimes')\n",
        "plt.title('Number of crimes by month of the year')\n",
        "plt.show()"
      ]
    },
    {
      "cell_type": "markdown",
      "metadata": {
        "_cell_guid": "43d20897-e612-c6fa-aeb6-d54a469852c5"
      },
      "source": [
        "Crimes rates seem to peak at summer months! "
      ]
    },
    {
      "cell_type": "markdown",
      "metadata": {
        "_cell_guid": "616abb9b-6459-de06-351a-d8edeff81cbc"
      },
      "source": [
        "Let's have a look at the distribution of crime by their types, which crimes are most common among the top 20 most frequent crime types ?"
      ]
    },
    {
      "cell_type": "code",
      "execution_count": null,
      "metadata": {
        "_cell_guid": "bdfa3634-c2dc-cf2a-2b69-6d36a3408d96"
      },
      "outputs": [],
      "source": [
        "plt.figure(figsize=(8,10))\n",
        "crimes.groupby([crimes['Primary Type']]).size().sort_values(ascending=True).plot(kind='barh')\n",
        "plt.title('Number of crimes by type')\n",
        "plt.ylabel('Crime Type')\n",
        "plt.xlabel('Number of crimes')\n",
        "plt.show()"
      ]
    },
    {
      "cell_type": "markdown",
      "metadata": {
        "_cell_guid": "053a8865-1173-3ea7-30b4-e4243ff97dfe"
      },
      "source": [
        "And similarly for crime location"
      ]
    },
    {
      "cell_type": "code",
      "execution_count": null,
      "metadata": {
        "_cell_guid": "a29dadd3-b1e3-0122-13a1-9cbc2487a255"
      },
      "outputs": [],
      "source": [
        "plt.figure(figsize=(8,10))\n",
        "crimes.groupby([crimes['Location Description']]).size().sort_values(ascending=True).plot(kind='barh')\n",
        "plt.title('Number of crimes by Location')\n",
        "plt.ylabel('Crime Location')\n",
        "plt.xlabel('Number of crimes')\n",
        "plt.show()"
      ]
    },
    {
      "cell_type": "markdown",
      "metadata": {
        "_cell_guid": "76e32a04-e1a2-6ec6-cd92-0028f2d55185"
      },
      "source": [
        "## Temporal analysis of crime rates by type and location"
      ]
    },
    {
      "cell_type": "markdown",
      "metadata": {
        "_cell_guid": "8b70fa9e-52ef-a94f-501c-7fe95b64b12b"
      },
      "source": [
        "I am not so excited by the charts so far. They are boring. They do not show me interesting things. It only felt like they make sense. In this section, things are way different. We will directly address the second question in the introduction. \n",
        "\n",
        "Not all crimes are the same. Some crimes types are more likely to occur than other types depending on the place and time. In this section, we will see how crimes differ between different places at different times.\n",
        "\n",
        "After seeing the base rates of each crime location and type, we will now assume that all crime types (and locations) have the same frequency or, in other words, they are all equal overall. We are interested in detecting how a specific crime type is different across all days of the week or hours of the day.\n",
        "\n",
        "Is theft or burglary is more likely to occur at a weekday compared to a weekend? Are they more likely to happen in the morning vs evening or late night ? are they more likely to occur in a street vs a bar? \n",
        "\n",
        "Let's dig up using the fantastic 'pivot_table' from pandas."
      ]
    },
    {
      "cell_type": "code",
      "execution_count": null,
      "metadata": {
        "_cell_guid": "6dabf92c-0d95-68a8-f502-285941acf018"
      },
      "outputs": [],
      "source": [
        "hour_by_location = crimes.pivot_table(values='ID', index='Location Description', columns=crimes.index.hour, aggfunc=np.size).fillna(0)\n",
        "hour_by_type     = crimes.pivot_table(values='ID', index='Primary Type', columns=crimes.index.hour, aggfunc=np.size).fillna(0)\n",
        "hour_by_week     = crimes.pivot_table(values='ID', index=crimes.index.hour, columns=crimes.index.weekday_name, aggfunc=np.size).fillna(0)\n",
        "hour_by_week     = hour_by_week[days].T # just reorder columns according to the the order of days\n",
        "dayofweek_by_location = crimes.pivot_table(values='ID', index='Location Description', columns=crimes.index.dayofweek, aggfunc=np.size).fillna(0)\n",
        "dayofweek_by_type = crimes.pivot_table(values='ID', index='Primary Type', columns=crimes.index.dayofweek, aggfunc=np.size).fillna(0)\n",
        "location_by_type  = crimes.pivot_table(values='ID', index='Location Description', columns='Primary Type', aggfunc=np.size).fillna(0)"
      ]
    },
    {
      "cell_type": "markdown",
      "metadata": {
        "_cell_guid": "6945ec9e-2887-965e-e7d6-eff96ec9e16b"
      },
      "source": [
        "Here I will make nice wrapper functions to make some minimal preprocessing and make the heatmap visualization. A trick I used to make heatmaps nicer looking is to use a clustering algorithm to sort the rows into meaningful groups and use group labels to re-sort our matrix."
      ]
    },
    {
      "cell_type": "code",
      "execution_count": null,
      "metadata": {
        "_cell_guid": "fb130d9a-3320-bbc6-c7d7-c274800557e4"
      },
      "outputs": [],
      "source": [
        "from sklearn.cluster import AgglomerativeClustering as AC\n",
        "\n",
        "def scale_df(df,axis=0):\n",
        "    '''\n",
        "    A utility function to scale numerical values (z-scale) to have a mean of zero\n",
        "    and a unit variance.\n",
        "    '''\n",
        "    return (df - df.mean(axis=axis)) / df.std(axis=axis)\n",
        "\n",
        "def plot_hmap(df, ix=None, cmap='bwr'):\n",
        "    '''\n",
        "    A function to plot heatmaps that show temporal patterns\n",
        "    '''\n",
        "    if ix is None:\n",
        "        ix = np.arange(df.shape[0])\n",
        "    plt.imshow(df.iloc[ix,:], cmap=cmap)\n",
        "    plt.colorbar(fraction=0.03)\n",
        "    plt.yticks(np.arange(df.shape[0]), df.index[ix])\n",
        "    plt.xticks(np.arange(df.shape[1]))\n",
        "    plt.grid(False)\n",
        "    plt.show()\n",
        "    \n",
        "def scale_and_plot(df, ix = None):\n",
        "    '''\n",
        "    A wrapper function to calculate the scaled values within each row of df and plot_hmap\n",
        "    '''\n",
        "    df_marginal_scaled = scale_df(df.T).T\n",
        "    if ix is None:\n",
        "        ix = AC(4).fit(df_marginal_scaled).labels_.argsort() # a trick to make better heatmaps\n",
        "    cap = np.min([np.max(df_marginal_scaled.as_matrix()), np.abs(np.min(df_marginal_scaled.as_matrix()))])\n",
        "    df_marginal_scaled = np.clip(df_marginal_scaled, -1*cap, cap)\n",
        "    plot_hmap(df_marginal_scaled, ix=ix)\n",
        "    \n",
        "def normalize(df):\n",
        "    result = df.copy()\n",
        "    for feature_name in df.columns:\n",
        "        max_value = df[feature_name].max()\n",
        "        min_value = df[feature_name].min()\n",
        "        result[feature_name] = (df[feature_name] - min_value) / (max_value - min_value)\n",
        "    return result"
      ]
    },
    {
      "cell_type": "markdown",
      "metadata": {
        "_cell_guid": "a68274b8-8602-d3c9-2823-6d8fcd85956d"
      },
      "source": [
        "Before we go on, let me explain how we got those heatmaps. For each set of those pots, I re-scaled counts of crime records in each hour within each crime type to be z-scaled (to have a mean of zero and a unit standard deviation). So it is a \"within-type/ across-hours\" scaling that aims to show differences between frequencies of crimes at different hours. All types have the save \"average\" of crime counts, but not all hours have the same average. So a negative value indicate a lower frequency while a positive value indicate a higher frequency for that crime to occur in a particular hour.\n",
        "\n",
        "First, let's see if there are \"day crimes vs night crimes\" thing. As you can see, some crimes have their peaks during the early morning (upper part of the heatmap), other crimes peak during the day (mid-part of the heatmap) and the final group of crimes peak at night (lower part of the heatmap"
      ]
    },
    {
      "cell_type": "code",
      "execution_count": null,
      "metadata": {
        "_cell_guid": "1241acda-4969-1068-2bb6-98985b49b8ac"
      },
      "outputs": [],
      "source": [
        "plt.figure(figsize=(15,12))\n",
        "scale_and_plot(hour_by_type)"
      ]
    },
    {
      "cell_type": "markdown",
      "metadata": {
        "_cell_guid": "cb12d6b6-663c-585b-e67f-69dbb6f13d6a"
      },
      "source": [
        "Similarly, we will look at crime locations and see some locations are more likely to have crimes during the day vs. during the night. The upper part of the heatmap shows locations that have crime peaks during the day (with a couple of them peaking at 9AM). The mid-part shows locations that have crime peaks during the night ad finally the lower part (a single observation) shows that bars have crime peaks during early morning. "
      ]
    },
    {
      "cell_type": "code",
      "execution_count": null,
      "metadata": {
        "_cell_guid": "f864133b-a3d5-6591-ba1b-f63d5dc43f07"
      },
      "outputs": [],
      "source": [
        "plt.figure(figsize=(15,7))\n",
        "scale_and_plot(hour_by_location)"
      ]
    },
    {
      "cell_type": "markdown",
      "metadata": {
        "_cell_guid": "2354e5de-fde9-4db6-9ba7-a32a28616dce"
      },
      "source": [
        "But is this 'day crimes vs. night crimes\" thing consistent during all days of the week? I mean, can't we expect weekends to show a different pattern in the timing of crimes? Sure they do."
      ]
    },
    {
      "cell_type": "code",
      "execution_count": null,
      "metadata": {
        "_cell_guid": "84d86949-bede-0094-17fe-b23bd396a60b"
      },
      "outputs": [],
      "source": [
        "plt.figure(figsize=(12,4))\n",
        "scale_and_plot(hour_by_week, ix=np.arange(7))"
      ]
    },
    {
      "cell_type": "markdown",
      "metadata": {
        "_cell_guid": "7c724415-3fa0-f7e3-e64b-b3832903655b"
      },
      "source": [
        "I am excited to see more about this \"weekday crime vs. weekend crime\" thing. So let's dig deeper and see of they have anything with crime types. \n",
        "\n",
        "The heatmap below indicates few interesting things (x-axis is days of the week). Some crimes types peak at specific days of the week (like Friday or Saturday). Other types are more like weekday crimes (showing in the mid-part of the heatmap) or weekend crimes (showing in the lower part of the heatmap)."
      ]
    },
    {
      "cell_type": "code",
      "execution_count": null,
      "metadata": {
        "_cell_guid": "e086735d-cb58-2a01-a4e2-fcd1244625b9"
      },
      "outputs": [],
      "source": [
        "plt.figure(figsize=(17,17))\n",
        "scale_and_plot(dayofweek_by_type)"
      ]
    },
    {
      "cell_type": "markdown",
      "metadata": {
        "_cell_guid": "ac7effa2-88f5-15a8-b4cd-724dc6b8d743"
      },
      "source": [
        "Similarly, we will use crime locations instead of crime types to find, again, that there are weekday locations and weekend locations..."
      ]
    },
    {
      "cell_type": "code",
      "execution_count": null,
      "metadata": {
        "_cell_guid": "aa92ad94-3c75-1490-a1f9-d54965cf3db9"
      },
      "outputs": [],
      "source": [
        "plt.figure(figsize=(15,12))\n",
        "scale_and_plot(dayofweek_by_location)"
      ]
    },
    {
      "cell_type": "markdown",
      "metadata": {
        "_cell_guid": "cf3dd67e-206d-fc70-3490-a57f5244cf74"
      },
      "source": [
        "## Where a certain crime type is most likely to happen?"
      ]
    },
    {
      "cell_type": "markdown",
      "metadata": {
        "_cell_guid": "186a98d6-03fc-c49b-f6f4-eeb8ddbe1314"
      },
      "source": [
        "In this section, we hope to answer another type of questions: for a given crime (like theft or sexual assault), what is the most likely location for this crime to happen? In this analysis, as with the previous ones, we take each crime type and re-normalize its location frequency to be between zero and one. This way, we can look at the top frequent locations of each crime type (darker red reflect a more frequent location)."
      ]
    },
    {
      "cell_type": "code",
      "execution_count": null,
      "metadata": {
        "_cell_guid": "64761c9f-748d-5c6f-9d9f-d55de5572196"
      },
      "outputs": [],
      "source": [
        "df = normalize(location_by_type)\n",
        "ix = AC(3).fit(df.T).labels_.argsort() # a trick to make better heatmaps\n",
        "plt.figure(figsize=(17,13))\n",
        "plt.imshow(df.T.iloc[ix,:], cmap='Reds')\n",
        "plt.colorbar(fraction=0.03)\n",
        "plt.xticks(np.arange(df.shape[0]), df.index, rotation='vertical')\n",
        "plt.yticks(np.arange(df.shape[1]), df.columns)\n",
        "plt.title('Normalized location frequency for each crime')\n",
        "plt.grid(False)\n",
        "plt.show()"
      ]
    },
    {
      "cell_type": "markdown",
      "metadata": {
        "_cell_guid": "c8fb6fec-7e97-4d96-26cb-52fe87bb459a"
      },
      "source": [
        "Well, it appears that most crimes occur at either apartments, residence, sidewalks, streets or 'other'. There are few notable exceptions here and there but those places are very frequent. This heatmap got me thinking that I probably should've used more than 20  categories. But that is \"*left as an exercise for the reader\"* ;)"
      ]
    },
    {
      "cell_type": "markdown",
      "metadata": {
        "_cell_guid": "985fb3b1-dcb9-a123-fae6-6a7d3fc7cceb"
      },
      "source": [
        "There are still many ways to expand on this notebook. I am most interested in using the geo-coordinates in this analysis and find where are the safe/unsafe spots (according to crimes types), and the same thing for the safe/unsafe times and days. I will come back to address this once I figure out a way to give nice looking geo visualizations.\n",
        "\n",
        "Final two things:\n",
        "\n",
        " - Please do not hesitate to **comment** if you have any feedback/comment/question.  \n",
        " - An **upvote** would be much appreciated.\n",
        "\n",
        "Thanks for reading!"
      ]
    }
  ],
  "metadata": {
    "_change_revision": 0,
    "_is_fork": false,
    "kernelspec": {
      "display_name": "Python 3",
      "language": "python",
      "name": "python3"
    },
    "language_info": {
      "codemirror_mode": {
        "name": "ipython",
        "version": 3
      },
      "file_extension": ".py",
      "mimetype": "text/x-python",
      "name": "python",
      "nbconvert_exporter": "python",
      "pygments_lexer": "ipython3",
      "version": "3.6.0"
    }
  },
  "nbformat": 4,
  "nbformat_minor": 0
}