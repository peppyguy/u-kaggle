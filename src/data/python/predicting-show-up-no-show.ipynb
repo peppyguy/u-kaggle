{
  "cells": [
    {
      "cell_type": "markdown",
      "metadata": {
        "_cell_guid": "2dba0afa-1f1c-fd09-0fed-16be0f00307f"
      },
      "source": [
        "Hey everyone. This is my very first data analysis work after deciding to move on from gulping down voluminous textbooks and courses to some hands on analysis and prediction.  Any comments/helpful suggestions will be welcome and greatly appreciated. So let's get started!"
      ]
    },
    {
      "cell_type": "markdown",
      "metadata": {
        "_cell_guid": "0226808f-8732-e80c-c94e-49c8814d5509"
      },
      "source": [
        "## PART I: Data Wrangling"
      ]
    },
    {
      "cell_type": "markdown",
      "metadata": {
        "_cell_guid": "983a8ef6-c7f4-550c-b6b0-a2fc09f84b25"
      },
      "source": [
        "In this part, I am going to try and explore the data to check for missing values/erroneous entries and also comment on redundant features and add additional ones, if needed."
      ]
    },
    {
      "cell_type": "markdown",
      "metadata": {
        "_cell_guid": "7b71b178-d83a-cf92-0b3a-931fdedc24db"
      },
      "source": [
        "First, let us load the necessary packages and get an overview of what we are dealing with."
      ]
    },
    {
      "cell_type": "code",
      "execution_count": null,
      "metadata": {
        "_cell_guid": "981f0203-b9d6-09cc-953d-fa5bb8b03032"
      },
      "outputs": [],
      "source": [
        "import numpy as np\n",
        "import pandas as pds\n",
        "import matplotlib.pyplot as plt\n",
        "from matplotlib import pylab\n",
        "import seaborn as sns\n",
        "sns.set_style(\"whitegrid\")\n",
        "\n",
        "noShow = pds.read_csv('../input/No-show-Issue-Comma-300k.csv')\n",
        "print(noShow.head())"
      ]
    },
    {
      "cell_type": "markdown",
      "metadata": {
        "_cell_guid": "05af066d-c5cc-d1bb-85e6-6400d08b3e4e"
      },
      "source": [
        "### 1.1. Getting rid of typos!"
      ]
    },
    {
      "cell_type": "markdown",
      "metadata": {
        "_cell_guid": "13d7593c-5a73-f624-226f-b8e0c9894494"
      },
      "source": [
        "It is immediately apparent that some of the column names have typos, so let us clear them up before continuing further, so that I don't have to use alternate spellings everytime I need a variable."
      ]
    },
    {
      "cell_type": "code",
      "execution_count": null,
      "metadata": {
        "_cell_guid": "0e3c5439-e781-7228-4e9f-b2ab6415756d"
      },
      "outputs": [],
      "source": [
        "noShow.rename(columns = {'ApointmentData':'AppointmentData',\n",
        "                         'Alcoolism': 'Alchoholism',\n",
        "                         'HiperTension': 'Hypertension',\n",
        "                         'Handcap': 'Handicap'}, inplace = True)\n",
        "\n",
        "print(noShow.columns)"
      ]
    },
    {
      "cell_type": "markdown",
      "metadata": {
        "_cell_guid": "e175f179-5965-16cf-78db-019de92cf0d7"
      },
      "source": [
        "### 1.2. Messing around with time"
      ]
    },
    {
      "cell_type": "markdown",
      "metadata": {
        "_cell_guid": "175c9251-3267-81b7-30c0-a4ddac0f1235"
      },
      "source": [
        "For convenience, I am going to convert the AppointmentRegistration and Appointment columns into datetime64 format and the AwaitingTime column into absolute values."
      ]
    },
    {
      "cell_type": "code",
      "execution_count": null,
      "metadata": {
        "_cell_guid": "2897e0ba-9d92-520d-bc71-8f5f0b3c4761"
      },
      "outputs": [],
      "source": [
        "noShow.AppointmentRegistration = noShow.AppointmentRegistration.apply(np.datetime64)\n",
        "noShow.AppointmentData = noShow.AppointmentData.apply(np.datetime64)\n",
        "noShow.AwaitingTime = noShow.AwaitingTime.apply(abs)\n",
        "\n",
        "print(noShow.AppointmentRegistration.head())\n",
        "print(noShow.AppointmentData.head())\n",
        "print(noShow.AwaitingTime.head())"
      ]
    },
    {
      "cell_type": "markdown",
      "metadata": {
        "_cell_guid": "d4a0643a-8b71-2995-eec2-e592417a435b"
      },
      "source": [
        "It is interesting to note that the time portions have vanished from the Appointment Data timedeltas, because all appointment times were set exactly to 00:00:00. Also, if it's not clear already, the AwaitingTime is the rounded number of days from registration to appointment. Here is the proof:"
      ]
    },
    {
      "cell_type": "code",
      "execution_count": null,
      "metadata": {
        "_cell_guid": "134f91fe-5a46-6341-c998-243e242c0e17"
      },
      "outputs": [],
      "source": [
        "daysToAppointment = noShow.AppointmentData - noShow.AppointmentRegistration\n",
        "daysToAppointment = daysToAppointment.apply(lambda x: x.total_seconds() / (3600 * 24))\n",
        "plt.scatter(noShow.AwaitingTime, daysToAppointment)\n",
        "plt.axis([0, 400, 0, 400])\n",
        "plt.xlabel('AwaitingTime')\n",
        "plt.ylabel('daysToAppointment')\n",
        "plt.show()"
      ]
    },
    {
      "cell_type": "markdown",
      "metadata": {
        "_cell_guid": "97caa90e-7993-6477-ddf8-620b26d29c82"
      },
      "source": [
        "We also create a new feature called HourOfTheDay, which will indicate the hour of the day at which the appointment was booked. This will be derived off AppointmentRegistration, thus:"
      ]
    },
    {
      "cell_type": "code",
      "execution_count": null,
      "metadata": {
        "_cell_guid": "8f1364da-114e-790a-de56-e13ffab16c68"
      },
      "outputs": [],
      "source": [
        "def calculateHour(timestamp):\n",
        "    timestamp = str(timestamp)\n",
        "    hour = int(timestamp[11:13])\n",
        "    minute = int(timestamp[14:16])\n",
        "    second = int(timestamp[17:])\n",
        "    return round(hour + minute/60 + second/3600)\n",
        "\n",
        "noShow['HourOfTheDay'] = noShow.AppointmentRegistration.apply(calculateHour)"
      ]
    },
    {
      "cell_type": "markdown",
      "metadata": {
        "_cell_guid": "b3085f91-c2b1-5b41-dde4-a7133417a986"
      },
      "source": [
        "### 1.3. Checking for errors and NaNs"
      ]
    },
    {
      "cell_type": "markdown",
      "metadata": {
        "_cell_guid": "1fda7fbc-cbc8-4f33-5931-85d16e085f6b"
      },
      "source": [
        "Next we check for any erroneous values and NaNs in data."
      ]
    },
    {
      "cell_type": "code",
      "execution_count": null,
      "metadata": {
        "_cell_guid": "770fed7c-3a9d-18ec-4ae8-72a3c0a1214d"
      },
      "outputs": [],
      "source": [
        "print('Age:',sorted(noShow.Age.unique()))\n",
        "print('Gender:',noShow.Gender.unique())\n",
        "print('DayOfTheWeek:',noShow.DayOfTheWeek.unique())\n",
        "print('Status:',noShow.Status.unique())\n",
        "print('Diabetes:',noShow.Diabetes.unique())\n",
        "print('Alchoholism:',noShow.Alchoholism.unique())\n",
        "print('Hypertension:',noShow.Hypertension.unique())\n",
        "print('Handicap:',noShow.Handicap.unique())\n",
        "print('Smokes:',noShow.Smokes.unique())\n",
        "print('Scholarship:',noShow.Scholarship.unique())\n",
        "print('Tuberculosis:',noShow.Tuberculosis.unique())\n",
        "print('Sms_Reminder:',noShow.Sms_Reminder.unique())\n",
        "print('AwaitingTime:',sorted(noShow.AwaitingTime.unique()))\n",
        "print('HourOfTheDay:', sorted(noShow.HourOfTheDay.unique()))"
      ]
    },
    {
      "cell_type": "markdown",
      "metadata": {
        "_cell_guid": "2bdbd29a-2eac-41a6-6cbf-aceb5d2659f3"
      },
      "source": [
        "It is clear that we do not have any NaNs anywhere in the data. However, we do have some impossible ages such as -2 and -1, and some pretty absurd ages such as 100 and beyond. I do admit that it is possible to live 113 years and celebrate living so long, and some people do live that long, but most people don't. So I will treat the ages greater than 95 as outliers. \n",
        "\n",
        "Once I have made my assumptions, it is time to remove the impossible and the absurd from the data."
      ]
    },
    {
      "cell_type": "code",
      "execution_count": null,
      "metadata": {
        "_cell_guid": "56b3aa04-cef7-6a59-a69e-1211017d668c"
      },
      "outputs": [],
      "source": [
        "noShow = noShow[(noShow.Age >= 0) & (noShow.Age <= 95)]"
      ]
    },
    {
      "cell_type": "markdown",
      "metadata": {
        "_cell_guid": "59c80d60-99ee-9690-986c-b63b0b9912d3"
      },
      "source": [
        "### 1.4. Checking for outliers in AwaitingTime"
      ]
    },
    {
      "cell_type": "code",
      "execution_count": null,
      "metadata": {
        "_cell_guid": "a1e55142-78d9-1dce-299e-a78dbd00525b"
      },
      "outputs": [],
      "source": [
        "sns.stripplot(data = noShow, y = 'AwaitingTime', jitter = True)\n",
        "sns.plt.ylim(0, 500)\n",
        "sns.plt.show()"
      ]
    },
    {
      "cell_type": "markdown",
      "metadata": {
        "_cell_guid": "952369c1-600d-0492-d76c-5afe0bde6d9e"
      },
      "source": [
        "Clearly, the data starts to thin out after 150 days AwaitingTime. There is one observation at 398 days, which is likely an outlier. There are almost no observations beyond 350 days, so let us remove anything beyond 350 days which will include that 398 day observation too."
      ]
    },
    {
      "cell_type": "code",
      "execution_count": null,
      "metadata": {
        "_cell_guid": "ed4977f6-4302-2e3d-ccfc-39a080ff4903"
      },
      "outputs": [],
      "source": [
        "noShow = noShow[noShow.AwaitingTime < 350]"
      ]
    },
    {
      "cell_type": "markdown",
      "metadata": {
        "_cell_guid": "db8bfb06-8e14-85d1-8a81-55fe15596563"
      },
      "source": [
        "## PART II: EXPLORING THE DATA"
      ]
    },
    {
      "cell_type": "markdown",
      "metadata": {
        "_cell_guid": "1c7ce0f1-37dd-6a04-c80a-f7ea02f92062"
      },
      "source": [
        "Now we are all set to explore the different features of the data and determine how good a feature it is for prediction whether a patient is likely to show up at an appointment."
      ]
    },
    {
      "cell_type": "markdown",
      "metadata": {
        "_cell_guid": "ede1dff3-a45c-e8a3-07b8-82bda76a77f4"
      },
      "source": [
        "### 2.1. Analyzing the probability of showing up with respect to different features"
      ]
    },
    {
      "cell_type": "code",
      "execution_count": null,
      "metadata": {
        "_cell_guid": "51deeb44-4a94-bfd9-6139-232434877038"
      },
      "outputs": [],
      "source": [
        "def probStatus(dataset, group_by):\n",
        "    df = pds.crosstab(index = dataset[group_by], columns = dataset.Status).reset_index()\n",
        "    df['probShowUp'] = df['Show-Up'] / (df['Show-Up'] + df['No-Show'])\n",
        "    return df[[group_by, 'probShowUp']]"
      ]
    },
    {
      "cell_type": "markdown",
      "metadata": {
        "_cell_guid": "b3525376-40b8-42e1-150c-f9523528e43c"
      },
      "source": [
        "First we will check how the likelihood that a person will show up at an appointment changes with respect to Age, HourOfTheDay, AwaitingTime."
      ]
    },
    {
      "cell_type": "code",
      "execution_count": null,
      "metadata": {
        "_cell_guid": "84f854a6-526a-8651-b39b-47695e9214e6"
      },
      "outputs": [],
      "source": [
        "sns.lmplot(data = probStatus(noShow, 'Age'), x = 'Age', y = 'probShowUp', fit_reg = True)\n",
        "sns.plt.xlim(0, 100)\n",
        "sns.plt.title('Probability of showing up with respect to Age')\n",
        "sns.plt.show()\n",
        "\n",
        "sns.lmplot(data = probStatus(noShow, 'HourOfTheDay'), x = 'HourOfTheDay', \n",
        "           y = 'probShowUp', fit_reg = True)\n",
        "sns.plt.title('Probability of showing up with respect to HourOfTheDay')\n",
        "sns.plt.show()\n",
        "\n",
        "sns.lmplot(data = probStatus(noShow, 'AwaitingTime'), x = 'AwaitingTime', \n",
        "           y = 'probShowUp', fit_reg = True)\n",
        "sns.plt.title('Probability of showing up with respect to AwaitingTime')\n",
        "sns.plt.ylim(0, 1)\n",
        "sns.plt.show()"
      ]
    },
    {
      "cell_type": "markdown",
      "metadata": {
        "_cell_guid": "561af3ee-140f-6be1-1d4e-2ad2475547ce"
      },
      "source": [
        "Clearly, HourOfTheDay and AwaitingTime are not good predictors of Status, since the probability of showing up depends feebly on the HourOfTheDay and not at all on the AwaitingTime. The significantly stronger dependency is observed with respect to Age.\n",
        "\n",
        "Next, we do the same analysis for the other variables except AppointmentRegistration and AppointmentData since we have already analyzed the probability of showing up with respect to HourOfTheDay and AwaitingTime."
      ]
    },
    {
      "cell_type": "code",
      "execution_count": null,
      "metadata": {
        "_cell_guid": "90d220e5-0d49-c828-892d-18bff12347e0"
      },
      "outputs": [],
      "source": [
        "def probStatusCategorical(group_by):\n",
        "    rows = []\n",
        "    for item in group_by:\n",
        "        for level in noShow[item].unique():\n",
        "            row = {'Condition': item}\n",
        "            total = len(noShow[noShow[item] == level])\n",
        "            n = len(noShow[(noShow[item] == level) & (noShow.Status == 'Show-Up')])\n",
        "            row.update({'Level': level, 'Probability': n / total})\n",
        "            rows.append(row)\n",
        "    return pds.DataFrame(rows)\n",
        "\n",
        "sns.barplot(data = probStatusCategorical(['Diabetes', 'Alchoholism', 'Hypertension',\n",
        "                                         'Tuberculosis', 'Smokes', 'Scholarship']),\n",
        "            x = 'Condition', y = 'Probability', hue = 'Level', palette = 'Set2')\n",
        "sns.plt.title('Probability of showing up')\n",
        "sns.plt.ylabel('Probability')\n",
        "sns.plt.show()"
      ]
    },
    {
      "cell_type": "code",
      "execution_count": null,
      "metadata": {
        "_cell_guid": "0f24d41b-2fb6-7cf5-2633-878e271acac9"
      },
      "outputs": [],
      "source": [
        "sns.barplot(data = probStatusCategorical(['Gender']),\n",
        "            x = 'Condition', y = 'Probability', hue = 'Level', palette = 'Set2')\n",
        "sns.plt.title('Probability of showing up')\n",
        "sns.plt.ylabel('Probability')\n",
        "sns.plt.show()"
      ]
    },
    {
      "cell_type": "code",
      "execution_count": null,
      "metadata": {
        "_cell_guid": "cb9da1ea-69da-329b-0421-47a60d791fda"
      },
      "outputs": [],
      "source": [
        "sns.barplot(data = probStatusCategorical(['Handicap']),\n",
        "            x = 'Condition', y = 'Probability', hue = 'Level', palette = 'Set2')\n",
        "sns.plt.title('Probability of showing up')\n",
        "sns.plt.ylabel('Probability')\n",
        "sns.plt.show()"
      ]
    },
    {
      "cell_type": "code",
      "execution_count": null,
      "metadata": {
        "_cell_guid": "702be9a0-7045-3128-2409-8ccef7bb2f95"
      },
      "outputs": [],
      "source": [
        "sns.barplot(data = probStatusCategorical(['DayOfTheWeek']),\n",
        "            x = 'Condition', y = 'Probability', hue = 'Level', palette = 'Set2',\n",
        "           hue_order = ['Monday', 'Tuesday', 'Wednesday', 'Thursday', 'Friday',\n",
        "                       'Saturday', 'Sunday'])\n",
        "sns.plt.title('Probability of showing up')\n",
        "sns.plt.ylabel('Probability')\n",
        "sns.plt.show()"
      ]
    },
    {
      "cell_type": "code",
      "execution_count": null,
      "metadata": {
        "_cell_guid": "e1eec2ee-3ead-3ec1-9d5c-41a87d48cb1d"
      },
      "outputs": [],
      "source": [
        "sns.barplot(data = probStatusCategorical(['Sms_Reminder']),\n",
        "            x = 'Condition', y = 'Probability', hue = 'Level', palette = 'Set2')\n",
        "sns.plt.title('Probability of showing up')\n",
        "sns.plt.ylabel('Probability')\n",
        "sns.plt.show()"
      ]
    },
    {
      "cell_type": "markdown",
      "metadata": {
        "_cell_guid": "6a8ffffb-edea-4a67-84a1-c09e18dc2486"
      },
      "source": [
        "### 2.2. Bayesian Analysis"
      ]
    },
    {
      "cell_type": "markdown",
      "metadata": {
        "_cell_guid": "43690fd9-b0a4-56f0-6049-4f9042a0fe09"
      },
      "source": [
        "Now we are going to determine which features are most responsible for a no-show status. We do this by calculating the posterior probabilities of the different features given a no-show status."
      ]
    },
    {
      "cell_type": "code",
      "execution_count": null,
      "metadata": {
        "_cell_guid": "6ee6e43a-6467-cb54-34bd-bf2e5cf917b4"
      },
      "outputs": [],
      "source": [
        "def posteriorNoShow(condition):\n",
        "    levels = list(noShow[condition].unique())\n",
        "    if condition not in ['DayOfTheWeek', 'Gender']: \n",
        "        levels.remove(0)\n",
        "    rows = []\n",
        "    for level in levels:\n",
        "        p = len(noShow[noShow[condition] == level]) / len(noShow)\n",
        "        p1 = len(noShow[(noShow[condition] == level) & (noShow.Status == 'No-Show')]) / len(noShow[noShow.Status == 'No-Show'])\n",
        "        p2 = len(noShow[(noShow[condition] == level) & (noShow.Status == 'Show-Up')]) / len(noShow[noShow.Status == 'Show-Up'])\n",
        "        if len(levels) > 1:\n",
        "            rows.append({'Levels': level, \n",
        "                         'Probability': (p * p1) / (p * p1 + p * p2)})\n",
        "        else:\n",
        "            rows.append({'Condition': condition,\n",
        "                         'Probability': (p * p1) / (p * p1 + p * p2)})\n",
        "    return rows\n",
        "    \n",
        "tuples = []\n",
        "tuples.extend(posteriorNoShow('Diabetes'))\n",
        "tuples.extend(posteriorNoShow('Hypertension'))\n",
        "tuples.extend(posteriorNoShow('Alchoholism'))\n",
        "tuples.extend(posteriorNoShow('Tuberculosis'))\n",
        "tuples.extend(posteriorNoShow('Smokes'))\n",
        "tuples.extend(posteriorNoShow('Scholarship'))\n",
        "\n",
        "sns.barplot(data = pds.DataFrame(tuples)[['Condition', 'Probability']], \n",
        "            x = 'Condition', y = 'Probability', palette = 'Set2')\n",
        "sns.plt.title('Posterior probability of diseases and scholarship given a no-show')\n",
        "sns.plt.ylabel('Probability')\n",
        "sns.plt.show()"
      ]
    },
    {
      "cell_type": "code",
      "execution_count": null,
      "metadata": {
        "_cell_guid": "4a5af615-c256-68c6-51be-799181c83546"
      },
      "outputs": [],
      "source": [
        "sns.barplot(data = pds.DataFrame(posteriorNoShow('Handicap')), \n",
        "            x = 'Levels', y = 'Probability', palette = 'Set2')\n",
        "sns.plt.xlabel('Handicap Levels')\n",
        "sns.plt.ylabel('Probability')\n",
        "sns.plt.title('Posterior probability of Handicap given a no-show')\n",
        "sns.plt.show()"
      ]
    },
    {
      "cell_type": "code",
      "execution_count": null,
      "metadata": {
        "_cell_guid": "ac263df6-a519-20c7-1a89-c4d353052bda"
      },
      "outputs": [],
      "source": [
        "sns.barplot(data = pds.DataFrame(posteriorNoShow('Gender')), \n",
        "            x = 'Levels', y = 'Probability', palette = 'Set2')\n",
        "sns.plt.xlabel('Gender')\n",
        "sns.plt.ylabel('Probability')\n",
        "sns.plt.title('Posterior probability of Gender given a no-show')\n",
        "sns.plt.show()"
      ]
    },
    {
      "cell_type": "code",
      "execution_count": null,
      "metadata": {
        "_cell_guid": "b766d79a-3204-86c5-e7c5-90eb5d0d3802"
      },
      "outputs": [],
      "source": [
        "sns.barplot(data = pds.DataFrame(posteriorNoShow('DayOfTheWeek')), \n",
        "            x = 'Levels', y = 'Probability', palette = 'Set2')\n",
        "sns.plt.xlabel('DayOfTheWeek')\n",
        "sns.plt.ylabel('Probability')\n",
        "sns.plt.title('Posterior probability of DayOfTheWeek given a no-show')\n",
        "sns.plt.show()"
      ]
    },
    {
      "cell_type": "markdown",
      "metadata": {
        "_cell_guid": "2f87d9a9-39ec-a6bf-dc44-904ac2ba8873"
      },
      "source": [
        "Note that we are not considering Sms_Reminder as a cause because it is not a cause for not showing up, rather it is a feature of interest that is unrelated with showing/not-showing to the appointment."
      ]
    },
    {
      "cell_type": "markdown",
      "metadata": {
        "_cell_guid": "adc1c3a2-90bc-6820-22e1-847fc2b014f6"
      },
      "source": [
        "## PART III: PREDICTING WHETHER A PERSON WILL BE SHOWING UP "
      ]
    },
    {
      "cell_type": "markdown",
      "metadata": {
        "_cell_guid": "2f0fbe6e-aa3e-30c3-4186-a1e6618ed651"
      },
      "source": [
        "In this section I am going to try and predict the Show-Up/No-Show status based on the features which show the most variation in probability of showing up. They are:\n",
        "\n",
        "1. Age\n",
        "2. Diabetes\n",
        "3. Alchoholism\n",
        "4. Hypertension\n",
        "5. Smokes\n",
        "6. Scholarship\n",
        "7. Tuberculosis"
      ]
    },
    {
      "cell_type": "markdown",
      "metadata": {
        "_cell_guid": "dee254fc-6c06-0ac9-e9cb-e22320ae5c10"
      },
      "source": [
        "### 3.1. Preliminary preparation"
      ]
    },
    {
      "cell_type": "markdown",
      "metadata": {
        "_cell_guid": "32938fec-0be4-437f-9c70-585636d05b3f"
      },
      "source": [
        "First we will prepare the data by converting the factor variables into numerical values."
      ]
    },
    {
      "cell_type": "code",
      "execution_count": null,
      "metadata": {
        "_cell_guid": "1e568a8b-e968-f237-8c8d-fe13c01c59ed"
      },
      "outputs": [],
      "source": [
        "def dayToNumber(day):\n",
        "    if day == 'Monday': \n",
        "        return 0\n",
        "    if day == 'Tuesday': \n",
        "        return 1\n",
        "    if day == 'Wednesday': \n",
        "        return 2\n",
        "    if day == 'Thursday': \n",
        "        return 3\n",
        "    if day == 'Friday': \n",
        "        return 4\n",
        "    if day == 'Saturday': \n",
        "        return 5\n",
        "    if day == 'Sunday': \n",
        "        return 6\n",
        "\n",
        "noShow.Gender = noShow.Gender.apply(lambda x: 1 if x == 'M' else 0)\n",
        "noShow.DayOfTheWeek = noShow.DayOfTheWeek.apply(dayToNumber)\n",
        "noShow.Status = noShow.Status.apply(lambda x: 1 if x == 'Show-Up' else 0)"
      ]
    },
    {
      "cell_type": "markdown",
      "metadata": {
        "_cell_guid": "3c76b7b8-040b-055a-614e-0ffcf20503fa"
      },
      "source": [
        "Then, we split the data into training and testing data. After a lot of trial and error, I have found that about 296500 samples in the training data are most helpful to our classifier to properly get the best fit. Beyond that it overfits and below that it underfits. That is why I am using 296500 as sample size for our training data."
      ]
    },
    {
      "cell_type": "code",
      "execution_count": null,
      "metadata": {
        "_cell_guid": "224bfb14-b656-8b99-83b2-5bf1b060590e"
      },
      "outputs": [],
      "source": [
        "features_train = noShow[['Age', 'Diabetes','Hypertension', 'Tuberculosis', 'Smokes',\n",
        "                         'Alchoholism', 'Scholarship']].iloc[:296500]\n",
        "\n",
        "labels_train = noShow.Status[:296500]\n",
        "\n",
        "features_test = noShow[['Age', 'Diabetes','Hypertension', 'Tuberculosis', 'Smokes',\n",
        "                         'Alchoholism', 'Scholarship']].iloc[296500:]\n",
        "\n",
        "labels_test = noShow.Status[296500:]"
      ]
    },
    {
      "cell_type": "markdown",
      "metadata": {
        "_cell_guid": "29e53a3f-50a0-270d-efc3-5c9c8ff28e89"
      },
      "source": [
        "### 3.2. Predicting status"
      ]
    },
    {
      "cell_type": "markdown",
      "metadata": {
        "_cell_guid": "b5aab2a3-61d6-b0ea-a714-4c570ef037be"
      },
      "source": [
        "Since each feature in the training/testing sets contains a specific set of discrete values, i.e. Age contains integers from 0 to 95 and the other features are flags that contain only 0 or 1, I can safely assume that for Naive Bayes classification, P(x|y) follows a multinomial distribution. In that light, I will use the Multinomial Naive Bayes classifier to fit the data."
      ]
    },
    {
      "cell_type": "code",
      "execution_count": null,
      "metadata": {
        "_cell_guid": "928cde74-0773-b4b1-439f-8262ff8c219c"
      },
      "outputs": [],
      "source": [
        "from sklearn.metrics import accuracy_score\n",
        "from sklearn.naive_bayes import MultinomialNB\n",
        "\n",
        "clf =  MultinomialNB().fit(features_train, labels_train)\n",
        "print('Accuracy:', round(accuracy_score(labels_test, \n",
        "                                        clf.predict(features_test)), 2) * 100, '%')"
      ]
    },
    {
      "cell_type": "markdown",
      "metadata": {
        "_cell_guid": "f48a6212-ad15-5b49-14eb-842a1861455d"
      },
      "source": [
        "An accuracy of 71% is although not good enough for real life applications, for this particular dataset, this was as far as I could go. I am not yet skilled enough to fine tune parameters of different classifiers enough to beat this score, so readers are encouraged to try it themselves and see if they can beat it. \n",
        "\n",
        "The second thing about this dataset I want to stress about is that the accuracy could have been greater if there had been more relevant features, such as more disease records or maybe some measure of how busy the schedule of a person is. \n",
        "\n",
        "Until next time. :)"
      ]
    },
    {
      "cell_type": "markdown",
      "metadata": {
        "_cell_guid": "18b16a6f-03af-b948-042a-9c9bfc14dff7"
      },
      "source": [
        "UPDATE:\n",
        "\n",
        "Upgraded some of the plots, added Bayesian analysis."
      ]
    }
  ],
  "metadata": {
    "_change_revision": 0,
    "_is_fork": false,
    "kernelspec": {
      "display_name": "Python 3",
      "language": "python",
      "name": "python3"
    },
    "language_info": {
      "codemirror_mode": {
        "name": "ipython",
        "version": 3
      },
      "file_extension": ".py",
      "mimetype": "text/x-python",
      "name": "python",
      "nbconvert_exporter": "python",
      "pygments_lexer": "ipython3",
      "version": "3.6.0"
    }
  },
  "nbformat": 4,
  "nbformat_minor": 0
}