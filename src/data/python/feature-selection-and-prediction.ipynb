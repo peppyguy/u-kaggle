{
  "cells": [
    {
      "cell_type": "markdown",
      "metadata": {
        "_cell_guid": "09105ccd-3159-c0fd-bea7-32ca4f274274"
      },
      "source": [
        "**This notebook will tell you a interesting story named \" Why people are leaving ? \"** \n",
        "\n",
        "----------\n",
        "\n",
        "**Before doing analysis, let us raise some basic questions:**\n",
        "\n",
        " **1. Why people are leaving their current position?**\n",
        "\n",
        " **2. What are the most important reasons/factors of why people are leaving?**\n",
        "\n",
        " **3. What a HR/Manager should do to keep their employee stay?**\n",
        "\n",
        "----------\n",
        "\n",
        "Now let's begin our journey!"
      ]
    },
    {
      "cell_type": "code",
      "execution_count": null,
      "metadata": {
        "_cell_guid": "8df945c0-5cdd-12d9-5236-78787df79161"
      },
      "outputs": [],
      "source": [
        "#Import basic packages\n",
        "import numpy as np \n",
        "import pandas as pd \n",
        "\n",
        "import matplotlib.pyplot as plt\n",
        "import seaborn as sns\n",
        "#Output plots in notebook\n",
        "%matplotlib inline \n",
        "\n",
        "from subprocess import check_output\n",
        "print(check_output([\"ls\", \"../input\"]).decode(\"utf8\"))"
      ]
    },
    {
      "cell_type": "code",
      "execution_count": null,
      "metadata": {
        "_cell_guid": "2379448d-b887-a61a-2d23-f8c9f1743e44"
      },
      "outputs": [],
      "source": [
        "#Read data\n",
        "data = pd.read_csv('../input/HR_comma_sep.csv')\n",
        "data.head()"
      ]
    },
    {
      "cell_type": "markdown",
      "metadata": {
        "_cell_guid": "85204650-ae5f-13c8-9ee8-5aa64766cc87"
      },
      "source": [
        "**Take a brief look at the HR data:** \n",
        "\n",
        "1. three continuous features (\"satisfaction_level\", \"last_evaluation\" and \"average_montly_hours\")\n",
        "2. two string-value features (\"sales\" and \"salary\")"
      ]
    },
    {
      "cell_type": "code",
      "execution_count": null,
      "metadata": {
        "_cell_guid": "0b0f1393-3d8b-67e6-daa5-155d1754d03e"
      },
      "outputs": [],
      "source": [
        "#Check if missing values\n",
        "data.info()\n",
        "#luckily, no missing values in this dataset"
      ]
    },
    {
      "cell_type": "code",
      "execution_count": null,
      "metadata": {
        "_cell_guid": "3340a2aa-0492-6ec9-94c0-2fcc94a87871"
      },
      "outputs": [],
      "source": [
        "#Most packages are not able to deal with string variables,\n",
        "#Therefore we need to convert string to numeric\n",
        "\n",
        "#First check what string values are\n",
        "data['sales'].unique(),data['salary'].unique()"
      ]
    },
    {
      "cell_type": "code",
      "execution_count": null,
      "metadata": {
        "_cell_guid": "e67b22e2-9de0-8bd7-1405-8b9b617dc71a"
      },
      "outputs": [],
      "source": [
        "#Convert 'sales' and 'salary' to numeric\n",
        "data['sales'].replace(['sales', 'accounting', 'hr', 'technical', 'support', 'management',\n",
        "        'IT', 'product_mng', 'marketing', 'RandD'], [0, 1, 2, 3, 4, 5, 6, 7, 8, 9], inplace = True)\n",
        "data['salary'].replace(['low', 'medium', 'high'], [0, 1, 2], inplace = True)"
      ]
    },
    {
      "cell_type": "code",
      "execution_count": null,
      "metadata": {
        "_cell_guid": "57d41302-8d52-5bdf-2e5c-0ab7bea3b354"
      },
      "outputs": [],
      "source": [
        "#Correlation Matrix\n",
        "corr = data.corr()\n",
        "corr = (corr)\n",
        "sns.heatmap(corr, \n",
        "            xticklabels=corr.columns.values,\n",
        "            yticklabels=corr.columns.values)\n",
        "sns.plt.title('Heatmap of Correlation Matrix')\n",
        "corr"
      ]
    },
    {
      "cell_type": "code",
      "execution_count": null,
      "metadata": {
        "_cell_guid": "a102b737-4dd8-f5da-2b22-6a2b376d7418"
      },
      "outputs": [],
      "source": [
        "#Extract 'left' column, because 'left' is our target value\n",
        "corr_left = pd.DataFrame(corr['left'].drop('left'))\n",
        "corr_left.sort_values(by = 'left', ascending = False)"
      ]
    },
    {
      "cell_type": "markdown",
      "metadata": {
        "_cell_guid": "bbcb1745-f0e2-4306-e601-81ced901255a"
      },
      "source": [
        "**From correlation matrix and the heatmap above:**\n",
        "\n",
        "1. \"time_spend_company\", \"Work_accident\", \"salary\", \"satisfaction_level\" are top 4 predictors.\n",
        "\n",
        "2. \"last_evaluation\" seems has almost no influence on \"left\".\n",
        "\n",
        "But it is strange \"last_evaluation\" and \"promotion_last_5years\" do not have significant influence on \"left\".\n",
        "\n",
        "In order to learn more about the features, let's do some analyzing in detail."
      ]
    },
    {
      "cell_type": "code",
      "execution_count": null,
      "metadata": {
        "_cell_guid": "34c39b4f-7f6f-6227-ca9a-542ee85444dc"
      },
      "outputs": [],
      "source": [
        "#time_spend_company\n",
        "sns.barplot(x = 'time_spend_company', y = 'left', data = data)\n",
        "sns.plt.title('Left over time spend at company (barplot)')\n",
        "sns.factorplot(x= 'time_spend_company', y = 'left', data = data, size = 5)\n",
        "sns.plt.title('Left over time spend at company (factorplot)')"
      ]
    },
    {
      "cell_type": "code",
      "execution_count": null,
      "metadata": {
        "_cell_guid": "58b1e434-4972-df49-02f0-eb18ccddd497"
      },
      "outputs": [],
      "source": [
        "#Boxplot, to see the average by group\n",
        "g = sns.FacetGrid(data, col = 'left')\n",
        "g.map(sns.boxplot, 'time_spend_company')"
      ]
    },
    {
      "cell_type": "markdown",
      "metadata": {
        "_cell_guid": "b6259c55-5c66-58c2-4d94-f1f426849e39"
      },
      "source": [
        "**It is obvious people who spend 7 years and more in a company is not likely to leave. However, people who spend 4-6 years are most likely to leave.** "
      ]
    },
    {
      "cell_type": "code",
      "execution_count": null,
      "metadata": {
        "_cell_guid": "6aab52e5-71c4-992e-5a08-f1a49ab76181"
      },
      "outputs": [],
      "source": [
        "#average_monthly_hours\n",
        "g = sns.FacetGrid(data, hue=\"left\",aspect=4)\n",
        "g.map(sns.kdeplot,'average_montly_hours',shade= True)\n",
        "g.set(xlim=(0, data['average_montly_hours'].max()))\n",
        "g.add_legend()"
      ]
    },
    {
      "cell_type": "code",
      "execution_count": null,
      "metadata": {
        "_cell_guid": "eaf6221e-2826-ecac-9cc7-47739e2dbd1a"
      },
      "outputs": [],
      "source": [
        "t#Boxplot\n",
        "g = sns.FacetGrid(data, col = 'left')\n",
        "g.map(sns.boxplot, 'average_montly_hours')\n",
        "np.mean(data[data['left']==1]['average_montly_hours']),np.mean(data[data['left']==0]['average_montly_hours'])"
      ]
    },
    {
      "cell_type": "markdown",
      "metadata": {
        "_cell_guid": "1aa15673-6a1e-0e08-8a69-03522585d9f9"
      },
      "source": [
        "**Although the mean of both groups are not significantly different, the previous plot shows the totally different distribution of two groups.**"
      ]
    },
    {
      "cell_type": "code",
      "execution_count": null,
      "metadata": {
        "_cell_guid": "0cd711db-244a-671d-eaf2-a5530439c830"
      },
      "outputs": [],
      "source": [
        "#Continuous to categorical\n",
        "#First create range data using pandas\n",
        "data['avg_mon_hours_range'] = pd.cut(data['average_montly_hours'], 3)\n",
        "data[['avg_mon_hours_range', 'left']].groupby(['avg_mon_hours_range']).mean()"
      ]
    },
    {
      "cell_type": "code",
      "execution_count": null,
      "metadata": {
        "_cell_guid": "6feb62cd-e335-f489-10b8-3d9ca4032e38"
      },
      "outputs": [],
      "source": [
        "#Replace continuous values by categorical ones\n",
        "data.loc[data['average_montly_hours'] <= 167.333, 'average_montly_hours'] = 0\n",
        "data.loc[(data['average_montly_hours'] > 167.333) & (data['average_montly_hours'] <= 238.667), 'average_montly_hours'] = 1\n",
        "data.loc[(data['average_montly_hours'] > 238.667) & (data['average_montly_hours'] <= 310.000), 'average_montly_hours'] = 2\n",
        "data.drop(['avg_mon_hours_range'], axis = 1, inplace = True)\n",
        "data.head()"
      ]
    },
    {
      "cell_type": "markdown",
      "metadata": {
        "_cell_guid": "ed6c946d-f9fa-8710-9693-ef793845a66f"
      },
      "source": [
        "The reason why I convert continuous features to categorical is categorical features are better for classification. See details in the comments, I have posted a great paper there to explain this in detail."
      ]
    },
    {
      "cell_type": "code",
      "execution_count": null,
      "metadata": {
        "_cell_guid": "b7d07308-bac7-0637-b4a7-07028e1e4c87"
      },
      "outputs": [],
      "source": [
        "#number_project\n",
        "sns.barplot(x = 'number_project', y = 'left', data = data)\n",
        "sns.plt.title('Left over Number of project')"
      ]
    },
    {
      "cell_type": "code",
      "execution_count": null,
      "metadata": {
        "_cell_guid": "a5a14347-23ec-1e90-e8b1-58d5a30d0222"
      },
      "outputs": [],
      "source": [
        "#Box plot\n",
        "g = sns.FacetGrid(data, col = 'left')\n",
        "g.map(sns.boxplot, 'number_project')\n",
        "print('left_median : ',np.median(data[data['left']==1]['number_project']))\n",
        "print('not_left_median : ',np.median(data[data['left']==0]['number_project']))\n",
        "#This indicates number of project is not a good estimator"
      ]
    },
    {
      "cell_type": "code",
      "execution_count": null,
      "metadata": {
        "_cell_guid": "167022d4-d9b8-fe62-7baa-caeeb0c95234"
      },
      "outputs": [],
      "source": [
        "#Make new features then remove 'number_project'\n",
        "#The new feature indicate how many hours the employee spend on a single project\n",
        "data['avg_hour_project'] = (data['average_montly_hours'] * 12 * data['time_spend_company']+1)/data['number_project']\n",
        "data['avg_hour_project'].head()"
      ]
    },
    {
      "cell_type": "code",
      "execution_count": null,
      "metadata": {
        "_cell_guid": "69739297-ceae-dc0d-3e08-f20ec5cc409b"
      },
      "outputs": [],
      "source": [
        "#Same as above process\n",
        "\n",
        "data['avg_hour_project_range'] = pd.cut(data['avg_hour_project'], 3)\n",
        "\n",
        "data[['avg_hour_project_range', 'left']].groupby(['avg_hour_project_range']).mean()"
      ]
    },
    {
      "cell_type": "code",
      "execution_count": null,
      "metadata": {
        "_cell_guid": "8b8d12f5-cfcb-c4d0-956b-a1d4a26277a3"
      },
      "outputs": [],
      "source": [
        "data.loc[data['avg_hour_project'] <= 40.262, 'avg_hour_project'] = 0\n",
        "data.loc[(data['avg_hour_project'] > 40.262) & (data['avg_hour_project'] <= 80.381), 'avg_hour_project'] = 1\n",
        "data.loc[(data['avg_hour_project'] > 80.381) & (data['avg_hour_project'] <= 120.5), 'avg_hour_project'] = 2\n",
        "data.drop(['avg_hour_project_range'], axis = 1, inplace = True)\n",
        "data.head()"
      ]
    },
    {
      "cell_type": "code",
      "execution_count": null,
      "metadata": {
        "_cell_guid": "298f3b61-96d3-9269-7510-37f290d8795e"
      },
      "outputs": [],
      "source": [
        "#satisfaction_level\n",
        "g = sns.FacetGrid(data, hue=\"left\",aspect=4)\n",
        "g.map(sns.kdeplot,'satisfaction_level',shade= True)\n",
        "g.set(xlim=(0, data['satisfaction_level'].max()))\n",
        "g.add_legend()"
      ]
    },
    {
      "cell_type": "code",
      "execution_count": null,
      "metadata": {
        "_cell_guid": "82e67148-48ff-39e3-6366-5dcbaf6e9995"
      },
      "outputs": [],
      "source": [
        "#Same as above process\n",
        "data['satisfaction_range'] = pd.cut(data['satisfaction_level'], 3)\n",
        "data[['satisfaction_range', 'left']].groupby(['satisfaction_range']).mean()"
      ]
    },
    {
      "cell_type": "code",
      "execution_count": null,
      "metadata": {
        "_cell_guid": "c7db2fd9-ed9b-decd-5261-a16e6a0369c5"
      },
      "outputs": [],
      "source": [
        "#last_evaluation\n",
        "g = sns.FacetGrid(data, hue=\"left\",aspect=4)\n",
        "g.map(sns.kdeplot,'last_evaluation',shade= True)\n",
        "g.set(xlim=(0, data['last_evaluation'].max()))\n",
        "g.add_legend()"
      ]
    },
    {
      "cell_type": "code",
      "execution_count": null,
      "metadata": {
        "_cell_guid": "ea50ab8a-422c-bda5-45f2-725d550cba6a"
      },
      "outputs": [],
      "source": [
        "data.loc[(data['satisfaction_level'] > 0.697) & (data['satisfaction_level'] <= 1.000), 'satisfaction_level'] = 2\n",
        "data.loc[(data['satisfaction_level'] > 0.393) & (data['satisfaction_level'] <= 0.697), 'satisfaction_level'] = 1\n",
        "data.loc[data['satisfaction_level'] <= 0.393, 'satisfaction_level'] = 0\n",
        "\n",
        "data.drop(['satisfaction_range'], axis = 1, inplace = True)\n",
        "data.head()"
      ]
    },
    {
      "cell_type": "code",
      "execution_count": null,
      "metadata": {
        "_cell_guid": "b3898af4-4f0c-cfc0-0eaa-131b99e2071d"
      },
      "outputs": [],
      "source": [
        "#Same as above process\n",
        "data['evaluation_range'] = pd.cut(data['last_evaluation'], 3)\n",
        "data[['evaluation_range','left']].groupby(['evaluation_range']).mean()"
      ]
    },
    {
      "cell_type": "code",
      "execution_count": null,
      "metadata": {
        "_cell_guid": "d9ec14a8-d86d-01c3-7940-c1e93bd2fc03"
      },
      "outputs": [],
      "source": [
        "data.loc[(data['last_evaluation'] > 0.787) & (data['last_evaluation'] <= 1), 'last_evaluation'] = 2\n",
        "data.loc[(data['last_evaluation'] > 0.573) & (data['last_evaluation'] <= 0.787), 'last_evaluation'] = 1\n",
        "data.loc[data['last_evaluation'] <= 0.573, 'last_evaluation'] = 0\n",
        "data.drop(['evaluation_range'], axis = 1, inplace = True)\n",
        "\n",
        "data.head()"
      ]
    },
    {
      "cell_type": "code",
      "execution_count": null,
      "metadata": {
        "_cell_guid": "cdebcf4e-a434-e791-6842-3b09f1c2204f"
      },
      "outputs": [],
      "source": [
        "#salary\n",
        "sns.barplot('salary', 'left', data = data)\n",
        "sns.plt.title('Left over Salary (bar plot)')\n",
        "sns.factorplot('salary','left', data = data, size = 5)\n",
        "sns.plt.title('Left over Salary (factor plot)')"
      ]
    },
    {
      "cell_type": "code",
      "execution_count": null,
      "metadata": {
        "_cell_guid": "28cc0ab9-e752-c009-32ea-f9f24a00a5f3"
      },
      "outputs": [],
      "source": [
        "#we can combine promotion_last_5years to salary to see if what happens\n",
        "promoted = data[data['promotion_last_5years'] == 1]\n",
        "not_promoted = data[data['promotion_last_5years'] == 0]"
      ]
    },
    {
      "cell_type": "code",
      "execution_count": null,
      "metadata": {
        "_cell_guid": "0955ff1d-ce35-9084-0001-623616568a25"
      },
      "outputs": [],
      "source": [
        "#promotion_last_5years\n",
        "sns.barplot('promotion_last_5years', 'left', data = data)\n",
        "sns.plt.title('Left over promotion_last_5years (barplot)')\n",
        "sns.factorplot('promotion_last_5years','left',order=[0, 1], data=data,size=5)\n",
        "sns.plt.title('Left over promotion_last_5years (factorplot)')\n",
        "#it seems people who are promoted in last 5 years are less likely to leave than those who are not.\n",
        "#Therefore we can confidently say, if someone get promoted, he is much less likely to leave."
      ]
    },
    {
      "cell_type": "code",
      "execution_count": null,
      "metadata": {
        "_cell_guid": "d74ffa4e-d8d9-48ea-8b8c-483525144289"
      },
      "outputs": [],
      "source": [
        "#separate employee into promoted and not_promoted groups\n",
        "\n",
        "fig, (axis1,axis2) = plt.subplots(1,2,sharex=True,figsize=(10,5))\n",
        "\n",
        "sns.barplot('salary', 'left', data = promoted, ax=axis1)\n",
        "\n",
        "sns.barplot('salary', 'left', data = not_promoted, ax=axis2)\n",
        "\n",
        "axis1.set_title('Promoted')\n",
        "\n",
        "axis2.set_title('Not Promoted')"
      ]
    },
    {
      "cell_type": "code",
      "execution_count": null,
      "metadata": {
        "_cell_guid": "f0d18af8-1d8e-6c49-5d4b-1bb689eb13dd"
      },
      "outputs": [],
      "source": [
        "#Sales\n",
        "sns.barplot('sales','left',order=[0, 1, 2, 3, 4, 5, 6], data=data)\n",
        "sns.plt.title('Left over Sales')"
      ]
    },
    {
      "cell_type": "code",
      "execution_count": null,
      "metadata": {
        "_cell_guid": "edbd1c23-5abc-c5c0-7efc-3f00c2cd08e3"
      },
      "outputs": [],
      "source": [
        "#Let's look at our dataset again\n",
        "data.head()"
      ]
    },
    {
      "cell_type": "code",
      "execution_count": null,
      "metadata": {
        "_cell_guid": "f42fa7de-468d-18d3-285b-6a336eefe57b"
      },
      "outputs": [],
      "source": [
        "#Train-Test split\n",
        "from sklearn.model_selection import train_test_split\n",
        "label = data.pop('left')\n",
        "data_train, data_test, label_train, label_test = train_test_split(data, label, test_size = 0.2, random_state = 42)"
      ]
    },
    {
      "cell_type": "code",
      "execution_count": null,
      "metadata": {
        "_cell_guid": "304069b0-07e5-4666-0ae1-d6bc44cacdd4"
      },
      "outputs": [],
      "source": [
        "#Logistic Regression\n",
        "from sklearn.linear_model import LogisticRegression\n",
        "logis = LogisticRegression()\n",
        "logis.fit(data_train, label_train)\n",
        "logis_score_train = logis.score(data_train, label_train)\n",
        "print(\"Training score: \",logis_score_train)\n",
        "logis_score_test = logis.score(data_test, label_test)\n",
        "print(\"Testing score: \",logis_score_test)"
      ]
    },
    {
      "cell_type": "code",
      "execution_count": null,
      "metadata": {
        "_cell_guid": "ba7addda-a2e4-45ed-1edb-157c21c8592f"
      },
      "outputs": [],
      "source": [
        "#logis.coef_ could help us to see the correlation between features and target value,\n",
        "#This will not generate correlation values like those in correlation matrix.\n",
        "#You can treat this as another set of correlation factors\n",
        "coeff_df = pd.DataFrame(data.columns.delete(0))\n",
        "coeff_df.columns = ['Features']\n",
        "coeff_df[\"Correlation\"] = pd.Series(logis.coef_[0])\n",
        "\n",
        "coeff_df.sort_values(by='Correlation', ascending=False)"
      ]
    },
    {
      "cell_type": "code",
      "execution_count": null,
      "metadata": {
        "_cell_guid": "0c22afca-8f3a-b481-75db-ec4ec1ffae25"
      },
      "outputs": [],
      "source": [
        "#SVM\n",
        "from sklearn.svm import SVC\n",
        "svm = SVC()\n",
        "svm.fit(data_train, label_train)\n",
        "svm_score_train = svm.score(data_train, label_train)\n",
        "print(\"Training score: \",svm_score_train)\n",
        "svm_score_test = svm.score(data_test, label_test)\n",
        "print(\"Testing score: \",svm_score_test)"
      ]
    },
    {
      "cell_type": "code",
      "execution_count": null,
      "metadata": {
        "_cell_guid": "2148c986-e329-38a5-3a7f-317b5b2f23ba"
      },
      "outputs": [],
      "source": [
        "#kNN\n",
        "from sklearn.neighbors import KNeighborsClassifier\n",
        "knn = KNeighborsClassifier()\n",
        "knn.fit(data_train, label_train)\n",
        "knn_score_train = knn.score(data_train, label_train)\n",
        "print(\"Training score: \",knn_score_train)\n",
        "knn_score_test = knn.score(data_test, label_test)\n",
        "print(\"Testing score: \",knn_score_test)"
      ]
    },
    {
      "cell_type": "code",
      "execution_count": null,
      "metadata": {
        "_cell_guid": "cd096cc9-2c96-49ec-b148-8bf011d78470"
      },
      "outputs": [],
      "source": [
        "#decision tree\n",
        "from sklearn import tree\n",
        "dt = tree.DecisionTreeClassifier()\n",
        "dt.fit(data_train, label_train)\n",
        "dt_score_train = dt.score(data_train, label_train)\n",
        "print(\"Training score: \",dt_score_train)\n",
        "dt_score_test = dt.score(data_test, label_test)\n",
        "print(\"Testing score: \",dt_score_test)"
      ]
    },
    {
      "cell_type": "code",
      "execution_count": null,
      "metadata": {
        "_cell_guid": "ff0cef8c-8d5e-9b89-e35b-ba0967c77ac1"
      },
      "outputs": [],
      "source": [
        "#random forest\n",
        "from sklearn.ensemble import RandomForestClassifier\n",
        "rfc = RandomForestClassifier()\n",
        "rfc.fit(data_train, label_train)\n",
        "rfc_score_train = rfc.score(data_train, label_train)\n",
        "print(\"Training score: \",rfc_score_train)\n",
        "rfc_score_test = rfc.score(data_test, label_test)\n",
        "print(\"Testing score: \",rfc_score_test)"
      ]
    },
    {
      "cell_type": "code",
      "execution_count": null,
      "metadata": {
        "_cell_guid": "781919ea-5845-1d5f-b09a-1c7b75fa60f2"
      },
      "outputs": [],
      "source": [
        "#Model comparison\n",
        "models = pd.DataFrame({\n",
        "        'Model'          : ['Logistic Regression', 'SVM', 'kNN', 'Decision Tree', 'Random Forest'],\n",
        "        'Training_Score' : [logis_score_train, svm_score_train, knn_score_train, dt_score_train, rfc_score_train],\n",
        "        'Testing_Score'  : [logis_score_test, svm_score_test, knn_score_test, dt_score_test, rfc_score_test]\n",
        "    })\n",
        "models.sort_values(by='Testing_Score', ascending=False)"
      ]
    }
  ],
  "metadata": {
    "_change_revision": 0,
    "_is_fork": false,
    "kernelspec": {
      "display_name": "Python 3",
      "language": "python",
      "name": "python3"
    },
    "language_info": {
      "codemirror_mode": {
        "name": "ipython",
        "version": 3
      },
      "file_extension": ".py",
      "mimetype": "text/x-python",
      "name": "python",
      "nbconvert_exporter": "python",
      "pygments_lexer": "ipython3",
      "version": "3.6.0"
    }
  },
  "nbformat": 4,
  "nbformat_minor": 0
}