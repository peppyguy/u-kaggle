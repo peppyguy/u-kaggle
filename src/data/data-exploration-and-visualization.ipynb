{
  "cells": [
    {
      "cell_type": "code",
      "execution_count": null,
      "metadata": {
        "_cell_guid": "7c7e90cd-076d-91f4-e6ac-c31c5700f479"
      },
      "outputs": [],
      "source": [
        "import pandas as pd\n",
        "import seaborn as sns\n",
        "import matplotlib.pyplot as plt\n",
        "from mpl_toolkits.basemap import Basemap\n",
        "from matplotlib import cm"
      ]
    },
    {
      "cell_type": "code",
      "execution_count": null,
      "metadata": {
        "_cell_guid": "be2783ab-dd7d-a5f6-ac3c-5c23a017efbc"
      },
      "outputs": [],
      "source": [
        "%matplotlib inline"
      ]
    },
    {
      "cell_type": "code",
      "execution_count": null,
      "metadata": {
        "_cell_guid": "41e380fc-021a-5a5b-2c8c-3e09a6b6e27c"
      },
      "outputs": [],
      "source": [
        "DATA_FILE = '../input/uber-raw-data-aug14.csv'\n",
        "uber_data = pd.read_csv(DATA_FILE)\n",
        "uber_data.head()"
      ]
    },
    {
      "cell_type": "code",
      "execution_count": null,
      "metadata": {
        "_cell_guid": "fa9b7350-6a6f-f620-e2ac-63f5b1e9ebc7"
      },
      "outputs": [],
      "source": [
        "uber_data.info()"
      ]
    },
    {
      "cell_type": "code",
      "execution_count": null,
      "metadata": {
        "_cell_guid": "19195a4c-8df7-c83f-e3c1-a21c95cefab8"
      },
      "outputs": [],
      "source": [
        "uber_data['Date/Time'] = pd.to_datetime(uber_data['Date/Time'], format=\"%m/%d/%Y %H:%M:%S\")\n",
        "uber_data['DayOfWeekNum'] = uber_data['Date/Time'].dt.dayofweek\n",
        "uber_data['DayOfWeek'] = uber_data['Date/Time'].dt.weekday_name\n",
        "uber_data['MonthDayNum'] = uber_data['Date/Time'].dt.day\n",
        "uber_data['HourOfDay'] = uber_data['Date/Time'].dt.hour"
      ]
    },
    {
      "cell_type": "code",
      "execution_count": null,
      "metadata": {
        "_cell_guid": "7ea071f7-dba3-6333-dfa1-fddaa885dd4a"
      },
      "outputs": [],
      "source": [
        "uber_weekdays = uber_data.pivot_table(index=['DayOfWeekNum','DayOfWeek'],\n",
        "                                  values='Base',\n",
        "                                  aggfunc='count')\n",
        "uber_weekdays.plot(kind='bar', figsize=(8,6))\n",
        "plt.ylabel('Total Journeys')\n",
        "plt.title('Journeys by Week Day');"
      ]
    },
    {
      "cell_type": "code",
      "execution_count": null,
      "metadata": {
        "_cell_guid": "a409c3b3-6eb5-dbbd-19dd-c3ff15ed108d"
      },
      "outputs": [],
      "source": [
        "uber_monthdays = uber_data.pivot_table(index=['MonthDayNum'],\n",
        "                                  values='Base',\n",
        "                                  aggfunc='count')\n",
        "uber_monthdays.plot(kind='bar', figsize=(8,6))\n",
        "plt.ylabel('Total Journeys')\n",
        "plt.title('Journeys by Month Day');"
      ]
    },
    {
      "cell_type": "code",
      "execution_count": null,
      "metadata": {
        "_cell_guid": "162264be-bb76-64c9-a01e-f3aaa8b53965"
      },
      "outputs": [],
      "source": [
        "uber_hour = uber_data.pivot_table(index=['HourOfDay'],\n",
        "                                  values='Base',\n",
        "                                  aggfunc='count')\n",
        "uber_hour.plot(kind='bar', figsize=(8,6))\n",
        "plt.ylabel('Total Journeys')\n",
        "plt.title('Journeys by Hour');"
      ]
    },
    {
      "cell_type": "code",
      "execution_count": null,
      "metadata": {
        "_cell_guid": "3ef58b43-3008-e8d9-0e79-3b22945b5e14"
      },
      "outputs": [],
      "source": [
        "west, south, east, north = -74.26, 40.50, -73.70, 40.92\n",
        "\n",
        "fig = plt.figure(figsize=(14,10))\n",
        "ax = fig.add_subplot(111)\n",
        "m = Basemap(projection='merc', llcrnrlat=south, urcrnrlat=north,\n",
        "            llcrnrlon=west, urcrnrlon=east, lat_ts=south, resolution='i')\n",
        "x, y = m(uber_data['Lon'].values, uber_data['Lat'].values)\n",
        "m.hexbin(x, y, gridsize=1000,\n",
        "         bins='log', cmap=cm.YlOrRd_r);"
      ]
    }
  ],
  "metadata": {
    "_change_revision": 0,
    "_is_fork": false,
    "kernelspec": {
      "display_name": "Python 3",
      "language": "python",
      "name": "python3"
    },
    "language_info": {
      "codemirror_mode": {
        "name": "ipython",
        "version": 3
      },
      "file_extension": ".py",
      "mimetype": "text/x-python",
      "name": "python",
      "nbconvert_exporter": "python",
      "pygments_lexer": "ipython3",
      "version": "3.5.2"
    }
  },
  "nbformat": 4,
  "nbformat_minor": 0
}