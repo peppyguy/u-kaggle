{
 "cells": [
  {
   "cell_type": "markdown",
   "metadata": {},
   "source": [
    "# Imports"
   ]
  },
  {
   "cell_type": "code",
   "execution_count": 22,
   "metadata": {},
   "outputs": [],
   "source": [
    "from collections import Counter\n",
    "import seaborn as sns\n",
    "import numpy as np\n",
    "import json\n",
    "import re\n",
    "import glob"
   ]
  },
  {
   "cell_type": "code",
   "execution_count": 23,
   "metadata": {
    "scrolled": true
   },
   "outputs": [],
   "source": [
    "def get_imports_from_source_string(src):\n",
    "    regex = r\"(?m)^(?:from[ ]+(\\S+)[ ]+)?import[ ]+(\\S+)(?:[ ]+as[ ]+\\S+)?[ ]*$\"\n",
    "    pattern = re.compile(regex)\n",
    "    \n",
    "    modules = []\n",
    "    \n",
    "    for match in re.findall(pattern, src):\n",
    "        for module in match:\n",
    "            if module != \"\":\n",
    "                modules.append(module)\n",
    "    \n",
    "    return modules\n",
    "\n",
    "\n",
    "data = {}\n",
    "\n",
    "\n",
    "for file in glob.glob(\"./data/python/*.ipynb\"):\n",
    "    nb_name = file.split(\"/\")[-1]\n",
    "    imports = []\n",
    "    \n",
    "    with open(file, \"r\") as notebook:\n",
    "        nb = json.load(notebook)\n",
    "    \n",
    "    for cell in nb[\"cells\"]:\n",
    "        if cell['cell_type'] == 'code':\n",
    "            source_string = \"\\n\".join(cell[\"source\"])\n",
    "            modules = get_imports_from_source_string(source_string)\n",
    "            imports.extend(modules)\n",
    "    \n",
    "    nb = {\n",
    "        'name': nb_name,\n",
    "        'imports': imports\n",
    "    }\n",
    "    \n",
    "    data[nb_name] = nb\n",
    "    \n",
    "for file in glob.glob(\"./data/python/*.py\"):\n",
    "    nb_name = file.split(\"/\")[-1]\n",
    "    imports = []\n",
    "    \n",
    "    with open(file, \"r\") as fp:\n",
    "        source = fp.readlines()\n",
    "\n",
    "    source_string = \"\\n\".join(source)\n",
    "    imports = get_imports_from_source_string(source_string)\n",
    "    \n",
    "    nb = {\n",
    "        'name': nb_name,\n",
    "        'imports': imports\n",
    "    }\n",
    "    \n",
    "    data[nb_name] = nb"
   ]
  },
  {
   "cell_type": "code",
   "execution_count": 24,
   "metadata": {},
   "outputs": [],
   "source": [
    "c_imports = Counter()\n",
    "\n",
    "for kernel, v in data.items():\n",
    "    imports = v['imports']\n",
    "    c_imports.update(imports)"
   ]
  },
  {
   "cell_type": "code",
   "execution_count": 25,
   "metadata": {},
   "outputs": [],
   "source": [
    "common_imports = dict(c_imports.most_common(20))\n",
    "imports, freqs = zip(*common_imports.items())"
   ]
  },
  {
   "cell_type": "code",
   "execution_count": 29,
   "metadata": {},
   "outputs": [
    {
     "data": {
      "text/plain": [
       "<matplotlib.axes._subplots.AxesSubplot at 0x114f97208>"
      ]
     },
     "execution_count": 29,
     "metadata": {},
     "output_type": "execute_result"
    },
    {
     "data": {
      "image/png": "[encoded data removed]",
      "text/plain": [
       "<Figure size 432x288 with 1 Axes>"
      ]
     },
     "metadata": {
      "needs_background": "light"
     },
     "output_type": "display_data"
    }
   ],
   "source": [
    "sns.distplot(freqs, label=imports)"
   ]
  },
  {
   "cell_type": "code",
   "execution_count": null,
   "metadata": {},
   "outputs": [],
   "source": []
  }
 ],
 "metadata": {
  "kernelspec": {
   "display_name": "Python 3",
   "language": "python",
   "name": "python3"
  },
  "language_info": {
   "codemirror_mode": {
    "name": "ipython",
    "version": 3
   },
   "file_extension": ".py",
   "mimetype": "text/x-python",
   "name": "python",
   "nbconvert_exporter": "python",
   "pygments_lexer": "ipython3",
   "version": "3.7.0"
  }
 },
 "nbformat": 4,
 "nbformat_minor": 2
}
